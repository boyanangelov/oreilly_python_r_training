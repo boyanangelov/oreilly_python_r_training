{
 "cells": [
  {
   "cell_type": "markdown",
   "id": "53a79605-75c0-4c78-8aa0-e36b2a243e58",
   "metadata": {},
   "source": [
    "# Exercises"
   ]
  },
  {
   "cell_type": "markdown",
   "id": "a785aca3-e491-4c54-8c7e-1f2f683e885a",
   "metadata": {},
   "source": [
    "## Set up environment"
   ]
  },
  {
   "cell_type": "markdown",
   "id": "54f7ed2c-cddf-40e3-9cff-00743d43941a",
   "metadata": {},
   "source": [
    "### Python for R users\n",
    "\n",
    "* Install Python (if you don't have it)\n",
    "* Create a new project\n",
    "    * This project should be in version control\n",
    "    * Set up JupyterLab\n",
    "    * Set up VSCode\n",
    "    * Dependencies stored in a file "
   ]
  },
  {
   "cell_type": "markdown",
   "id": "f93c0c80-0f31-456a-8da5-321126bacd44",
   "metadata": {},
   "source": [
    "### R for Python users"
   ]
  },
  {
   "cell_type": "markdown",
   "id": "9c0b4ea8-ce16-495b-bd4d-7b07c75396e6",
   "metadata": {},
   "source": [
    "* Install R\n",
    "* Install RStudio\n",
    "* Create a new project\n",
    "    * Create and test an R script\n",
    "    * Create and test an R notebook (RMD)"
   ]
  },
  {
   "cell_type": "markdown",
   "id": "30c985d6-323a-43f2-88d0-8e54dbad1134",
   "metadata": {},
   "source": [
    "## Bilingual dictionary: translation"
   ]
  },
  {
   "cell_type": "markdown",
   "id": "ee0acd17-1ea8-483d-9925-22567b7766f4",
   "metadata": {},
   "source": [
    "Create a 1:1 translation of the following scripts.\n",
    "\n",
    "### Python to R"
   ]
  },
  {
   "cell_type": "code",
   "execution_count": 1,
   "id": "fa6db0fd-fb3a-4e03-aef7-859cdaad4027",
   "metadata": {},
   "outputs": [],
   "source": [
    "import pandas as pd"
   ]
  },
  {
   "cell_type": "code",
   "execution_count": 2,
   "id": "1baf8202-d36d-4ef9-a15f-49683eae8bc1",
   "metadata": {},
   "outputs": [],
   "source": [
    "temperatures_fahrenheit = [123, 56, 13, 55, 233]"
   ]
  },
  {
   "cell_type": "code",
   "execution_count": 3,
   "id": "52834ae0-e661-4c58-9279-f3f73f1c8157",
   "metadata": {},
   "outputs": [
    {
     "name": "stdout",
     "output_type": "stream",
     "text": [
      "133\n",
      "66\n",
      "23\n",
      "65\n",
      "243\n"
     ]
    }
   ],
   "source": [
    "for temp in temperatures_fahrenheit:\n",
    "    print(temp + 10)"
   ]
  },
  {
   "cell_type": "code",
   "execution_count": 4,
   "id": "300c8745-80d7-4673-b004-8316aaf1a964",
   "metadata": {},
   "outputs": [],
   "source": [
    "temperatures_adjusted = [(x - 10) / 2.3 for x in temperatures_fahrenheit]"
   ]
  },
  {
   "cell_type": "code",
   "execution_count": 5,
   "id": "8a42f37d-4c32-40ca-8728-3131e8a8a0f5",
   "metadata": {},
   "outputs": [
    {
     "data": {
      "text/plain": [
       "[49.1304347826087,\n",
       " 20.0,\n",
       " 1.3043478260869565,\n",
       " 19.565217391304348,\n",
       " 96.95652173913044]"
      ]
     },
     "execution_count": 5,
     "metadata": {},
     "output_type": "execute_result"
    }
   ],
   "source": [
    "temperatures_adjusted"
   ]
  },
  {
   "cell_type": "code",
   "execution_count": 3,
   "id": "651d4ba0-28f6-4176-9a81-ccb6a777a243",
   "metadata": {},
   "outputs": [],
   "source": [
    "def adjust_temperature(temp):\n",
    "    return(round((temp - 10 / 2.3), 2))"
   ]
  },
  {
   "cell_type": "code",
   "execution_count": 4,
   "id": "04bb4263-220e-40ed-ab36-0bc6fd8024b4",
   "metadata": {},
   "outputs": [
    {
     "data": {
      "text/plain": [
       "18.65"
      ]
     },
     "execution_count": 4,
     "metadata": {},
     "output_type": "execute_result"
    }
   ],
   "source": [
    "adjust_temperature(23)"
   ]
  },
  {
   "cell_type": "code",
   "execution_count": 22,
   "id": "7db5a361-b2c9-445a-af27-a8da2857b700",
   "metadata": {},
   "outputs": [],
   "source": [
    "cities = [\"Berlin\", \"Beijing\", \"Cairo\", \"Sao Paolo\", \"Madrid\"]"
   ]
  },
  {
   "cell_type": "code",
   "execution_count": 29,
   "id": "dcb89566-df3c-4921-880d-056a1dda648a",
   "metadata": {},
   "outputs": [],
   "source": [
    "cities_temp_df = pd.DataFrame(zip(cities, temperatures_adjusted), columns=[\"city\", \"temperature_adj\"])"
   ]
  },
  {
   "cell_type": "code",
   "execution_count": 30,
   "id": "4697e918-fd7a-4bf7-84dd-c25b7e6c79af",
   "metadata": {},
   "outputs": [
    {
     "data": {
      "text/html": [
       "<div>\n",
       "<style scoped>\n",
       "    .dataframe tbody tr th:only-of-type {\n",
       "        vertical-align: middle;\n",
       "    }\n",
       "\n",
       "    .dataframe tbody tr th {\n",
       "        vertical-align: top;\n",
       "    }\n",
       "\n",
       "    .dataframe thead th {\n",
       "        text-align: right;\n",
       "    }\n",
       "</style>\n",
       "<table border=\"1\" class=\"dataframe\">\n",
       "  <thead>\n",
       "    <tr style=\"text-align: right;\">\n",
       "      <th></th>\n",
       "      <th>city</th>\n",
       "      <th>temperature_adj</th>\n",
       "    </tr>\n",
       "  </thead>\n",
       "  <tbody>\n",
       "    <tr>\n",
       "      <th>0</th>\n",
       "      <td>Berlin</td>\n",
       "      <td>49.130435</td>\n",
       "    </tr>\n",
       "    <tr>\n",
       "      <th>1</th>\n",
       "      <td>Beijing</td>\n",
       "      <td>20.000000</td>\n",
       "    </tr>\n",
       "    <tr>\n",
       "      <th>2</th>\n",
       "      <td>Cairo</td>\n",
       "      <td>1.304348</td>\n",
       "    </tr>\n",
       "    <tr>\n",
       "      <th>3</th>\n",
       "      <td>Sao Paolo</td>\n",
       "      <td>19.565217</td>\n",
       "    </tr>\n",
       "    <tr>\n",
       "      <th>4</th>\n",
       "      <td>Madrid</td>\n",
       "      <td>96.956522</td>\n",
       "    </tr>\n",
       "  </tbody>\n",
       "</table>\n",
       "</div>"
      ],
      "text/plain": [
       "        city  temperature_adj\n",
       "0     Berlin        49.130435\n",
       "1    Beijing        20.000000\n",
       "2      Cairo         1.304348\n",
       "3  Sao Paolo        19.565217\n",
       "4     Madrid        96.956522"
      ]
     },
     "execution_count": 30,
     "metadata": {},
     "output_type": "execute_result"
    }
   ],
   "source": [
    "cities_temp_df"
   ]
  },
  {
   "cell_type": "code",
   "execution_count": 31,
   "id": "5da8e945-0893-44a1-8d47-98d7af2c4ad8",
   "metadata": {},
   "outputs": [],
   "source": [
    "cities_temp_df[\"city\"] = cities_temp_df[\"city\"].str.upper()"
   ]
  },
  {
   "cell_type": "code",
   "execution_count": 33,
   "id": "b345297e-c202-4489-a460-18c5208f6a5b",
   "metadata": {},
   "outputs": [
    {
     "data": {
      "text/html": [
       "<div>\n",
       "<style scoped>\n",
       "    .dataframe tbody tr th:only-of-type {\n",
       "        vertical-align: middle;\n",
       "    }\n",
       "\n",
       "    .dataframe tbody tr th {\n",
       "        vertical-align: top;\n",
       "    }\n",
       "\n",
       "    .dataframe thead th {\n",
       "        text-align: right;\n",
       "    }\n",
       "</style>\n",
       "<table border=\"1\" class=\"dataframe\">\n",
       "  <thead>\n",
       "    <tr style=\"text-align: right;\">\n",
       "      <th></th>\n",
       "      <th>city</th>\n",
       "      <th>temperature_adj</th>\n",
       "    </tr>\n",
       "  </thead>\n",
       "  <tbody>\n",
       "    <tr>\n",
       "      <th>0</th>\n",
       "      <td>BERLIN</td>\n",
       "      <td>49.130435</td>\n",
       "    </tr>\n",
       "  </tbody>\n",
       "</table>\n",
       "</div>"
      ],
      "text/plain": [
       "     city  temperature_adj\n",
       "0  BERLIN        49.130435"
      ]
     },
     "execution_count": 33,
     "metadata": {},
     "output_type": "execute_result"
    }
   ],
   "source": [
    "cities_temp_df.head(1)"
   ]
  },
  {
   "cell_type": "markdown",
   "id": "45982da1-72d4-45c0-a86a-e8c6f21520f6",
   "metadata": {},
   "source": [
    "### R to Python\n"
   ]
  },
  {
   "cell_type": "code",
   "execution_count": 1,
   "id": "aa0b6f62-5906-4923-bcef-40855c6b2c41",
   "metadata": {},
   "outputs": [],
   "source": [
    "employees <- c(\"Jake\", \"Bob\", \"Alice\", \"Matthias\", \"Sylvia\")\n",
    "salaries <- c(233, 55, 123, 55, 61)"
   ]
  },
  {
   "cell_type": "code",
   "execution_count": 10,
   "id": "39ffbd4d-7444-4ce0-822a-c43e6c1b9a58",
   "metadata": {},
   "outputs": [],
   "source": [
    "salaries_yearly <- salaries * 12\n",
    "salaries_square_root <- sqrt(salaries)"
   ]
  },
  {
   "cell_type": "code",
   "execution_count": 13,
   "id": "bf047d9c-05fc-4cad-9d13-0cefe54391f2",
   "metadata": {},
   "outputs": [],
   "source": [
    "deduce_tax <- function(salary) {\n",
    "    return(salary - 0.2 * salary)\n",
    "}"
   ]
  },
  {
   "cell_type": "code",
   "execution_count": 14,
   "id": "50d1a35d-1284-4d2e-a900-1328754ccb12",
   "metadata": {},
   "outputs": [],
   "source": [
    "salaries_without_tax <- deduce_tax(salaries_yearly)"
   ]
  },
  {
   "cell_type": "markdown",
   "id": "98091c44-0de7-4d1b-b692-ad78bbd339ff",
   "metadata": {},
   "source": [
    "This one will require some googling! Tip: search for the `zip` method."
   ]
  },
  {
   "cell_type": "code",
   "execution_count": 15,
   "id": "417509fb-d641-478b-b6aa-aaacd9488979",
   "metadata": {},
   "outputs": [],
   "source": [
    "employee_df <- data.frame(employees, salaries, salaries_yearly, salaries_square_root, salaries_without_tax)"
   ]
  },
  {
   "cell_type": "code",
   "execution_count": 16,
   "id": "d1a39b61-a2d7-4db9-9208-4c083e2b14d3",
   "metadata": {},
   "outputs": [
    {
     "data": {
      "text/html": [
       "<table class=\"dataframe\">\n",
       "<caption>A data.frame: 5 × 5</caption>\n",
       "<thead>\n",
       "\t<tr><th scope=col>employees</th><th scope=col>salaries</th><th scope=col>salaries_yearly</th><th scope=col>salaries_square_root</th><th scope=col>salaries_without_tax</th></tr>\n",
       "\t<tr><th scope=col>&lt;chr&gt;</th><th scope=col>&lt;dbl&gt;</th><th scope=col>&lt;dbl&gt;</th><th scope=col>&lt;dbl&gt;</th><th scope=col>&lt;dbl&gt;</th></tr>\n",
       "</thead>\n",
       "<tbody>\n",
       "\t<tr><td>Jake    </td><td>233</td><td>2796</td><td>15.264338</td><td>2236.8</td></tr>\n",
       "\t<tr><td>Bob     </td><td> 55</td><td> 660</td><td> 7.416198</td><td> 528.0</td></tr>\n",
       "\t<tr><td>Alice   </td><td>123</td><td>1476</td><td>11.090537</td><td>1180.8</td></tr>\n",
       "\t<tr><td>Matthias</td><td> 55</td><td> 660</td><td> 7.416198</td><td> 528.0</td></tr>\n",
       "\t<tr><td>Sylvia  </td><td> 61</td><td> 732</td><td> 7.810250</td><td> 585.6</td></tr>\n",
       "</tbody>\n",
       "</table>\n"
      ],
      "text/latex": [
       "A data.frame: 5 × 5\n",
       "\\begin{tabular}{lllll}\n",
       " employees & salaries & salaries\\_yearly & salaries\\_square\\_root & salaries\\_without\\_tax\\\\\n",
       " <chr> & <dbl> & <dbl> & <dbl> & <dbl>\\\\\n",
       "\\hline\n",
       "\t Jake     & 233 & 2796 & 15.264338 & 2236.8\\\\\n",
       "\t Bob      &  55 &  660 &  7.416198 &  528.0\\\\\n",
       "\t Alice    & 123 & 1476 & 11.090537 & 1180.8\\\\\n",
       "\t Matthias &  55 &  660 &  7.416198 &  528.0\\\\\n",
       "\t Sylvia   &  61 &  732 &  7.810250 &  585.6\\\\\n",
       "\\end{tabular}\n"
      ],
      "text/markdown": [
       "\n",
       "A data.frame: 5 × 5\n",
       "\n",
       "| employees &lt;chr&gt; | salaries &lt;dbl&gt; | salaries_yearly &lt;dbl&gt; | salaries_square_root &lt;dbl&gt; | salaries_without_tax &lt;dbl&gt; |\n",
       "|---|---|---|---|---|\n",
       "| Jake     | 233 | 2796 | 15.264338 | 2236.8 |\n",
       "| Bob      |  55 |  660 |  7.416198 |  528.0 |\n",
       "| Alice    | 123 | 1476 | 11.090537 | 1180.8 |\n",
       "| Matthias |  55 |  660 |  7.416198 |  528.0 |\n",
       "| Sylvia   |  61 |  732 |  7.810250 |  585.6 |\n",
       "\n"
      ],
      "text/plain": [
       "  employees salaries salaries_yearly salaries_square_root salaries_without_tax\n",
       "1 Jake      233      2796            15.264338            2236.8              \n",
       "2 Bob        55       660             7.416198             528.0              \n",
       "3 Alice     123      1476            11.090537            1180.8              \n",
       "4 Matthias   55       660             7.416198             528.0              \n",
       "5 Sylvia     61       732             7.810250             585.6              "
      ]
     },
     "metadata": {},
     "output_type": "display_data"
    }
   ],
   "source": [
    "employee_df"
   ]
  },
  {
   "cell_type": "markdown",
   "id": "7330cbe5-e229-4193-86f8-d2b0d34bc4da",
   "metadata": {},
   "source": [
    "## Data format context"
   ]
  },
  {
   "cell_type": "markdown",
   "id": "d0409db0-c94b-4b3c-95c0-24906c3e8afe",
   "metadata": {},
   "source": [
    "### Text data basics with Python"
   ]
  },
  {
   "cell_type": "markdown",
   "id": "e9f66f84-7cb7-4109-b8a6-c933049bc1f5",
   "metadata": {},
   "source": [
    "* have `spaCy`/`nltk` installed\n",
    "* Get onto a news website and find a paragraph of interest.\n",
    "* Tokenize the paragraph into sentences\n",
    "* Take one sentence and tokenize into words\n",
    "* Remove stopwords\n",
    "* Extract all verbs (bonus points)\n",
    "\n",
    "More bonus points for removing punctuation.\n",
    "\n",
    "You can use this paragraph if you want: `The Real players wore shirts with \\\"A por la 14\\\" on the back after \\\n",
    "their win over Manchester City. It roughly translates as \\\"all out for 14\\\" as they \\\n",
    "chase a 14th Champions League title.`"
   ]
  },
  {
   "cell_type": "markdown",
   "id": "873228d4-38a1-446a-bb4e-1f229ba25b53",
   "metadata": {},
   "source": [
    "## Workflow context"
   ]
  },
  {
   "cell_type": "markdown",
   "id": "a7545ef1-87b5-4156-932f-d73962941a70",
   "metadata": {},
   "source": [
    "### Data wrangling with R\n",
    "\n",
    "* Load the `diamonds` dataset\n",
    "* Then in one pipeline do:\n",
    "    * filter out diamonds with price below 500 and color J\n",
    "    * take random 40% of the remaining data\n",
    "    * group by cut and compute average carat"
   ]
  }
 ],
 "metadata": {
  "kernelspec": {
   "display_name": "R",
   "language": "R",
   "name": "ir"
  },
  "language_info": {
   "codemirror_mode": "r",
   "file_extension": ".r",
   "mimetype": "text/x-r-source",
   "name": "R",
   "pygments_lexer": "r",
   "version": "4.1.1"
  }
 },
 "nbformat": 4,
 "nbformat_minor": 5
}
