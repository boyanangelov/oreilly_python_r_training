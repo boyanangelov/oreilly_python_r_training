{
 "cells": [
  {
   "cell_type": "markdown",
   "id": "39dbbdb9-fc55-4393-a1de-301634b0961e",
   "metadata": {},
   "source": [
    "# Exercise solutions"
   ]
  },
  {
   "cell_type": "markdown",
   "id": "f2e7b6c8-00c4-4550-b709-9528a2f6dfe4",
   "metadata": {},
   "source": [
    "## Script translation"
   ]
  },
  {
   "cell_type": "markdown",
   "id": "b3ab6f7a-5b07-4eac-aa7a-f010a7db757c",
   "metadata": {},
   "source": [
    "#### Solution (Python to R)"
   ]
  },
  {
   "cell_type": "code",
   "execution_count": 1,
   "id": "b7862451-b9cd-480b-8f9b-1808d47cbda5",
   "metadata": {},
   "outputs": [],
   "source": [
    "temperatures_fahrenheit <- c(123, 56, 13, 55, 233)"
   ]
  },
  {
   "cell_type": "code",
   "execution_count": 2,
   "id": "fb38d8ab-bd38-4cfa-8081-6b01724381f9",
   "metadata": {},
   "outputs": [
    {
     "name": "stdout",
     "output_type": "stream",
     "text": [
      "[1] 133\n",
      "[1] 66\n",
      "[1] 23\n",
      "[1] 65\n",
      "[1] 243\n"
     ]
    }
   ],
   "source": [
    "for (temp in temperatures_fahrenheit) {\n",
    "    print(temp + 10)\n",
    "}"
   ]
  },
  {
   "cell_type": "code",
   "execution_count": 3,
   "id": "68af3c24-2d68-4134-970f-6830182553d4",
   "metadata": {},
   "outputs": [
    {
     "data": {
      "text/html": [
       "<style>\n",
       ".list-inline {list-style: none; margin:0; padding: 0}\n",
       ".list-inline>li {display: inline-block}\n",
       ".list-inline>li:not(:last-child)::after {content: \"\\00b7\"; padding: 0 .5ex}\n",
       "</style>\n",
       "<ol class=list-inline><li>49.13</li><li>20</li><li>1.304</li><li>19.565</li><li>96.957</li></ol>\n"
      ],
      "text/latex": [
       "\\begin{enumerate*}\n",
       "\\item 49.13\n",
       "\\item 20\n",
       "\\item 1.304\n",
       "\\item 19.565\n",
       "\\item 96.957\n",
       "\\end{enumerate*}\n"
      ],
      "text/markdown": [
       "1. 49.13\n",
       "2. 20\n",
       "3. 1.304\n",
       "4. 19.565\n",
       "5. 96.957\n",
       "\n",
       "\n"
      ],
      "text/plain": [
       "[1] 49.130 20.000  1.304 19.565 96.957"
      ]
     },
     "metadata": {},
     "output_type": "display_data"
    }
   ],
   "source": [
    "temperatures_adjusted <- round((temperatures_fahrenheit - 10) / 2.3, 3)\n",
    "temperatures_adjusted"
   ]
  },
  {
   "cell_type": "code",
   "execution_count": 4,
   "id": "940e8d0a-d6e1-4cbb-8ca6-7f0a1e64a362",
   "metadata": {},
   "outputs": [],
   "source": [
    "adjust_temperature <- function(temp) {\n",
    "    return(round((temp - 10 / 2.3), 2))\n",
    "}"
   ]
  },
  {
   "cell_type": "code",
   "execution_count": 5,
   "id": "13efd737-e6c8-443d-af5b-22c319ef7eed",
   "metadata": {},
   "outputs": [
    {
     "data": {
      "text/html": [
       "18.65"
      ],
      "text/latex": [
       "18.65"
      ],
      "text/markdown": [
       "18.65"
      ],
      "text/plain": [
       "[1] 18.65"
      ]
     },
     "metadata": {},
     "output_type": "display_data"
    }
   ],
   "source": [
    "adjust_temperature(23)"
   ]
  },
  {
   "cell_type": "code",
   "execution_count": 6,
   "id": "e0564cc3-b891-4b9b-9f2b-b466a4c984c0",
   "metadata": {},
   "outputs": [],
   "source": [
    "cities <- c(\"Berlin\", \"Beijing\", \"Cairo\", \"Sao Paolo\", \"Madrid\")\n",
    "cities_temp_df <- data.frame(cities, temperatures_adjusted)"
   ]
  },
  {
   "cell_type": "code",
   "execution_count": 7,
   "id": "01c287ab-d382-4f27-8429-4b3b39947a9e",
   "metadata": {},
   "outputs": [
    {
     "data": {
      "text/html": [
       "<table class=\"dataframe\">\n",
       "<caption>A data.frame: 5 × 2</caption>\n",
       "<thead>\n",
       "\t<tr><th scope=col>cities</th><th scope=col>temperatures_adjusted</th></tr>\n",
       "\t<tr><th scope=col>&lt;chr&gt;</th><th scope=col>&lt;dbl&gt;</th></tr>\n",
       "</thead>\n",
       "<tbody>\n",
       "\t<tr><td>Berlin   </td><td>49.130</td></tr>\n",
       "\t<tr><td>Beijing  </td><td>20.000</td></tr>\n",
       "\t<tr><td>Cairo    </td><td> 1.304</td></tr>\n",
       "\t<tr><td>Sao Paolo</td><td>19.565</td></tr>\n",
       "\t<tr><td>Madrid   </td><td>96.957</td></tr>\n",
       "</tbody>\n",
       "</table>\n"
      ],
      "text/latex": [
       "A data.frame: 5 × 2\n",
       "\\begin{tabular}{ll}\n",
       " cities & temperatures\\_adjusted\\\\\n",
       " <chr> & <dbl>\\\\\n",
       "\\hline\n",
       "\t Berlin    & 49.130\\\\\n",
       "\t Beijing   & 20.000\\\\\n",
       "\t Cairo     &  1.304\\\\\n",
       "\t Sao Paolo & 19.565\\\\\n",
       "\t Madrid    & 96.957\\\\\n",
       "\\end{tabular}\n"
      ],
      "text/markdown": [
       "\n",
       "A data.frame: 5 × 2\n",
       "\n",
       "| cities &lt;chr&gt; | temperatures_adjusted &lt;dbl&gt; |\n",
       "|---|---|\n",
       "| Berlin    | 49.130 |\n",
       "| Beijing   | 20.000 |\n",
       "| Cairo     |  1.304 |\n",
       "| Sao Paolo | 19.565 |\n",
       "| Madrid    | 96.957 |\n",
       "\n"
      ],
      "text/plain": [
       "  cities    temperatures_adjusted\n",
       "1 Berlin    49.130               \n",
       "2 Beijing   20.000               \n",
       "3 Cairo      1.304               \n",
       "4 Sao Paolo 19.565               \n",
       "5 Madrid    96.957               "
      ]
     },
     "metadata": {},
     "output_type": "display_data"
    }
   ],
   "source": [
    "cities_temp_df"
   ]
  },
  {
   "cell_type": "code",
   "execution_count": 8,
   "id": "e8059f27-e838-4b3b-b6b7-6518dad8ea9d",
   "metadata": {},
   "outputs": [],
   "source": [
    "cities_temp_df$cities <- toupper(cities_temp_df$cities)"
   ]
  },
  {
   "cell_type": "code",
   "execution_count": 9,
   "id": "da02ef6c-501a-4c8e-b7ac-e8da28098745",
   "metadata": {},
   "outputs": [
    {
     "data": {
      "text/html": [
       "<table class=\"dataframe\">\n",
       "<caption>A data.frame: 1 × 2</caption>\n",
       "<thead>\n",
       "\t<tr><th></th><th scope=col>cities</th><th scope=col>temperatures_adjusted</th></tr>\n",
       "\t<tr><th></th><th scope=col>&lt;chr&gt;</th><th scope=col>&lt;dbl&gt;</th></tr>\n",
       "</thead>\n",
       "<tbody>\n",
       "\t<tr><th scope=row>1</th><td>BERLIN</td><td>49.13</td></tr>\n",
       "</tbody>\n",
       "</table>\n"
      ],
      "text/latex": [
       "A data.frame: 1 × 2\n",
       "\\begin{tabular}{r|ll}\n",
       "  & cities & temperatures\\_adjusted\\\\\n",
       "  & <chr> & <dbl>\\\\\n",
       "\\hline\n",
       "\t1 & BERLIN & 49.13\\\\\n",
       "\\end{tabular}\n"
      ],
      "text/markdown": [
       "\n",
       "A data.frame: 1 × 2\n",
       "\n",
       "| <!--/--> | cities &lt;chr&gt; | temperatures_adjusted &lt;dbl&gt; |\n",
       "|---|---|---|\n",
       "| 1 | BERLIN | 49.13 |\n",
       "\n"
      ],
      "text/plain": [
       "  cities temperatures_adjusted\n",
       "1 BERLIN 49.13                "
      ]
     },
     "metadata": {},
     "output_type": "display_data"
    }
   ],
   "source": [
    "head(cities_temp_df, 1)"
   ]
  },
  {
   "cell_type": "markdown",
   "id": "22610c09-4479-4ff4-b98e-da3fb690fc75",
   "metadata": {},
   "source": [
    "#### Solution (R to Python)"
   ]
  },
  {
   "cell_type": "code",
   "execution_count": 13,
   "id": "55e64a45-4d29-4c98-b405-477965ce1638",
   "metadata": {},
   "outputs": [],
   "source": [
    "employees = [\"Jake\", \"Bob\", \"Alice\", \"Matthias\", \"Sylvia\"]\n",
    "salaries = [233, 55, 123, 55, 61]"
   ]
  },
  {
   "cell_type": "code",
   "execution_count": 14,
   "id": "0adc43ad-3d74-4af4-b66b-0db41b26478f",
   "metadata": {},
   "outputs": [],
   "source": [
    "import numpy as np"
   ]
  },
  {
   "cell_type": "code",
   "execution_count": 15,
   "id": "497d6776-1e9d-4859-b14a-07a60ff5cfce",
   "metadata": {},
   "outputs": [],
   "source": [
    "salaries_yearly = np.array(salaries) * 12\n",
    "salaries_square_root = np.sqrt(salaries)"
   ]
  },
  {
   "cell_type": "code",
   "execution_count": 16,
   "id": "8b931f8c-1c58-48e9-ad4a-a7689857b19e",
   "metadata": {},
   "outputs": [],
   "source": [
    "def deduce_tax(salary):\n",
    "    return(salary - 0.2 * salary)"
   ]
  },
  {
   "cell_type": "code",
   "execution_count": 17,
   "id": "753da347-743f-424b-862a-d4795f80cc2a",
   "metadata": {},
   "outputs": [],
   "source": [
    "salaries_without_tax = deduce_tax(salaries_yearly)"
   ]
  },
  {
   "cell_type": "code",
   "execution_count": 18,
   "id": "4ddda622-13ce-44f7-ac9e-421e433641e9",
   "metadata": {},
   "outputs": [],
   "source": [
    "import pandas as pd"
   ]
  },
  {
   "cell_type": "code",
   "execution_count": 19,
   "id": "1c04a0c1-1e6b-4370-b82d-7e9424b4d233",
   "metadata": {},
   "outputs": [],
   "source": [
    "employee_df = pd.DataFrame(zip(employees, salaries, salaries_yearly, salaries_square_root, salaries_without_tax),\n",
    "                          columns = [\"employees\", \"salaries\", \"salaries_yearly\", \"salaries_square_root\", \"salaries_without_tax\"])"
   ]
  },
  {
   "cell_type": "code",
   "execution_count": 20,
   "id": "622942b9-cf2e-4330-82dc-50cf69f6b28c",
   "metadata": {},
   "outputs": [
    {
     "data": {
      "text/html": [
       "<div>\n",
       "<style scoped>\n",
       "    .dataframe tbody tr th:only-of-type {\n",
       "        vertical-align: middle;\n",
       "    }\n",
       "\n",
       "    .dataframe tbody tr th {\n",
       "        vertical-align: top;\n",
       "    }\n",
       "\n",
       "    .dataframe thead th {\n",
       "        text-align: right;\n",
       "    }\n",
       "</style>\n",
       "<table border=\"1\" class=\"dataframe\">\n",
       "  <thead>\n",
       "    <tr style=\"text-align: right;\">\n",
       "      <th></th>\n",
       "      <th>employees</th>\n",
       "      <th>salaries</th>\n",
       "      <th>salaries_yearly</th>\n",
       "      <th>salaries_square_root</th>\n",
       "      <th>salaries_without_tax</th>\n",
       "    </tr>\n",
       "  </thead>\n",
       "  <tbody>\n",
       "    <tr>\n",
       "      <th>0</th>\n",
       "      <td>Jake</td>\n",
       "      <td>233</td>\n",
       "      <td>2796</td>\n",
       "      <td>15.264338</td>\n",
       "      <td>2236.8</td>\n",
       "    </tr>\n",
       "    <tr>\n",
       "      <th>1</th>\n",
       "      <td>Bob</td>\n",
       "      <td>55</td>\n",
       "      <td>660</td>\n",
       "      <td>7.416198</td>\n",
       "      <td>528.0</td>\n",
       "    </tr>\n",
       "    <tr>\n",
       "      <th>2</th>\n",
       "      <td>Alice</td>\n",
       "      <td>123</td>\n",
       "      <td>1476</td>\n",
       "      <td>11.090537</td>\n",
       "      <td>1180.8</td>\n",
       "    </tr>\n",
       "    <tr>\n",
       "      <th>3</th>\n",
       "      <td>Matthias</td>\n",
       "      <td>55</td>\n",
       "      <td>660</td>\n",
       "      <td>7.416198</td>\n",
       "      <td>528.0</td>\n",
       "    </tr>\n",
       "    <tr>\n",
       "      <th>4</th>\n",
       "      <td>Sylvia</td>\n",
       "      <td>61</td>\n",
       "      <td>732</td>\n",
       "      <td>7.810250</td>\n",
       "      <td>585.6</td>\n",
       "    </tr>\n",
       "  </tbody>\n",
       "</table>\n",
       "</div>"
      ],
      "text/plain": [
       "  employees  salaries  salaries_yearly  salaries_square_root  \\\n",
       "0      Jake       233             2796             15.264338   \n",
       "1       Bob        55              660              7.416198   \n",
       "2     Alice       123             1476             11.090537   \n",
       "3  Matthias        55              660              7.416198   \n",
       "4    Sylvia        61              732              7.810250   \n",
       "\n",
       "   salaries_without_tax  \n",
       "0                2236.8  \n",
       "1                 528.0  \n",
       "2                1180.8  \n",
       "3                 528.0  \n",
       "4                 585.6  "
      ]
     },
     "execution_count": 20,
     "metadata": {},
     "output_type": "execute_result"
    }
   ],
   "source": [
    "employee_df"
   ]
  },
  {
   "cell_type": "markdown",
   "id": "3616a3b1-99cc-434b-b268-1d6936cd2937",
   "metadata": {},
   "source": [
    "## Text data with Python"
   ]
  },
  {
   "cell_type": "code",
   "execution_count": 1,
   "id": "9caa12c3-d166-499c-93a8-9c728fa068b8",
   "metadata": {},
   "outputs": [],
   "source": [
    "import nltk\n",
    "from nltk.corpus import stopwords\n",
    "import spacy\n",
    "\n",
    "stop_words = set(stopwords.words('english'))"
   ]
  },
  {
   "cell_type": "code",
   "execution_count": 2,
   "id": "eca06104-a253-454d-a5c1-9f66f3210fdb",
   "metadata": {},
   "outputs": [],
   "source": [
    "paragraph = \"The Real players wore shirts with \\\"A por la 14\\\" on the back after \\\n",
    "their win over Manchester City. It roughly translates as \\\"all out for 14\\\" as they \\\n",
    "chase a 14th Champions League title.\""
   ]
  },
  {
   "cell_type": "code",
   "execution_count": 3,
   "id": "1908759a-c4fa-477c-a83a-4804cb760f51",
   "metadata": {},
   "outputs": [],
   "source": [
    "sentences = nltk.sent_tokenize(paragraph)"
   ]
  },
  {
   "cell_type": "code",
   "execution_count": 4,
   "id": "06d3ae63-68fe-41b2-b412-4fee25ddcb0c",
   "metadata": {},
   "outputs": [],
   "source": [
    "sentence = sentences[0]"
   ]
  },
  {
   "cell_type": "code",
   "execution_count": 5,
   "id": "59f31bd8-548a-4288-a16c-f3a289e7a78c",
   "metadata": {},
   "outputs": [],
   "source": [
    "words = nltk.word_tokenize(sentence)"
   ]
  },
  {
   "cell_type": "code",
   "execution_count": 6,
   "id": "46330d89-c8e0-4404-af3c-d53b9f97176d",
   "metadata": {},
   "outputs": [],
   "source": [
    "cleaned_words = [w for w in words if not w.lower() in stop_words]"
   ]
  },
  {
   "cell_type": "code",
   "execution_count": 7,
   "id": "6171ed3e-485a-4d02-bd97-c301097d4354",
   "metadata": {},
   "outputs": [
    {
     "data": {
      "text/plain": [
       "['Real',\n",
       " 'players',\n",
       " 'wore',\n",
       " 'shirts',\n",
       " '``',\n",
       " 'por',\n",
       " 'la',\n",
       " '14',\n",
       " \"''\",\n",
       " 'back',\n",
       " 'win',\n",
       " 'Manchester',\n",
       " 'City',\n",
       " '.']"
      ]
     },
     "execution_count": 7,
     "metadata": {},
     "output_type": "execute_result"
    }
   ],
   "source": [
    "cleaned_words"
   ]
  },
  {
   "cell_type": "code",
   "execution_count": 8,
   "id": "8ca97071-c5e6-45fd-8f71-5aac6b224eab",
   "metadata": {},
   "outputs": [],
   "source": [
    "cleaned_words = [word.lower() for word in cleaned_words if word.isalpha()]"
   ]
  },
  {
   "cell_type": "code",
   "execution_count": 10,
   "id": "f6e14bde-162e-48bf-bee7-564e40cec67b",
   "metadata": {},
   "outputs": [],
   "source": [
    "nlp = spacy.load('en_core_web_sm')"
   ]
  },
  {
   "cell_type": "code",
   "execution_count": 11,
   "id": "305dd819-2afe-42c3-b2b8-2fca577894d0",
   "metadata": {},
   "outputs": [],
   "source": [
    "doc = nlp(sentence)"
   ]
  },
  {
   "cell_type": "code",
   "execution_count": 12,
   "id": "a7ba1a6a-5c23-4068-aa7e-44193abc4ce8",
   "metadata": {},
   "outputs": [
    {
     "data": {
      "text/plain": [
       "[wore]"
      ]
     },
     "execution_count": 12,
     "metadata": {},
     "output_type": "execute_result"
    }
   ],
   "source": [
    "[x for x in doc if x.pos_ == 'VERB']"
   ]
  },
  {
   "cell_type": "markdown",
   "id": "2ed14b26-d39f-4f0c-b315-ae931e308f67",
   "metadata": {},
   "source": [
    "## Data wrangling with R"
   ]
  },
  {
   "cell_type": "code",
   "execution_count": 10,
   "id": "20e6bb51-c546-436f-bc80-649fcf34f814",
   "metadata": {
    "tags": []
   },
   "outputs": [
    {
     "name": "stderr",
     "output_type": "stream",
     "text": [
      "\n",
      "Attache Paket: ‘dplyr’\n",
      "\n",
      "\n",
      "Die folgenden Objekte sind maskiert von ‘package:stats’:\n",
      "\n",
      "    filter, lag\n",
      "\n",
      "\n",
      "Die folgenden Objekte sind maskiert von ‘package:base’:\n",
      "\n",
      "    intersect, setdiff, setequal, union\n",
      "\n",
      "\n"
     ]
    }
   ],
   "source": [
    "library(dplyr)"
   ]
  },
  {
   "cell_type": "code",
   "execution_count": 11,
   "id": "94a975c9-b0e5-486f-bff9-0b5624943ff2",
   "metadata": {},
   "outputs": [],
   "source": [
    "diamonds_df <- read.csv(\"../datasets/diamonds.csv\")"
   ]
  },
  {
   "cell_type": "code",
   "execution_count": 12,
   "id": "d83fcefb-dcc3-44cc-95a6-8f5254361e8b",
   "metadata": {},
   "outputs": [
    {
     "data": {
      "text/html": [
       "<table class=\"dataframe\">\n",
       "<caption>A data.frame: 6 × 10</caption>\n",
       "<thead>\n",
       "\t<tr><th></th><th scope=col>carat</th><th scope=col>cut</th><th scope=col>color</th><th scope=col>clarity</th><th scope=col>depth</th><th scope=col>table</th><th scope=col>price</th><th scope=col>x</th><th scope=col>y</th><th scope=col>z</th></tr>\n",
       "\t<tr><th></th><th scope=col>&lt;dbl&gt;</th><th scope=col>&lt;chr&gt;</th><th scope=col>&lt;chr&gt;</th><th scope=col>&lt;chr&gt;</th><th scope=col>&lt;dbl&gt;</th><th scope=col>&lt;dbl&gt;</th><th scope=col>&lt;int&gt;</th><th scope=col>&lt;dbl&gt;</th><th scope=col>&lt;dbl&gt;</th><th scope=col>&lt;dbl&gt;</th></tr>\n",
       "</thead>\n",
       "<tbody>\n",
       "\t<tr><th scope=row>1</th><td>0.23</td><td>Ideal    </td><td>E</td><td>SI2 </td><td>61.5</td><td>55</td><td>326</td><td>3.95</td><td>3.98</td><td>2.43</td></tr>\n",
       "\t<tr><th scope=row>2</th><td>0.21</td><td>Premium  </td><td>E</td><td>SI1 </td><td>59.8</td><td>61</td><td>326</td><td>3.89</td><td>3.84</td><td>2.31</td></tr>\n",
       "\t<tr><th scope=row>3</th><td>0.23</td><td>Good     </td><td>E</td><td>VS1 </td><td>56.9</td><td>65</td><td>327</td><td>4.05</td><td>4.07</td><td>2.31</td></tr>\n",
       "\t<tr><th scope=row>4</th><td>0.29</td><td>Premium  </td><td>I</td><td>VS2 </td><td>62.4</td><td>58</td><td>334</td><td>4.20</td><td>4.23</td><td>2.63</td></tr>\n",
       "\t<tr><th scope=row>5</th><td>0.31</td><td>Good     </td><td>J</td><td>SI2 </td><td>63.3</td><td>58</td><td>335</td><td>4.34</td><td>4.35</td><td>2.75</td></tr>\n",
       "\t<tr><th scope=row>6</th><td>0.24</td><td>Very Good</td><td>J</td><td>VVS2</td><td>62.8</td><td>57</td><td>336</td><td>3.94</td><td>3.96</td><td>2.48</td></tr>\n",
       "</tbody>\n",
       "</table>\n"
      ],
      "text/latex": [
       "A data.frame: 6 × 10\n",
       "\\begin{tabular}{r|llllllllll}\n",
       "  & carat & cut & color & clarity & depth & table & price & x & y & z\\\\\n",
       "  & <dbl> & <chr> & <chr> & <chr> & <dbl> & <dbl> & <int> & <dbl> & <dbl> & <dbl>\\\\\n",
       "\\hline\n",
       "\t1 & 0.23 & Ideal     & E & SI2  & 61.5 & 55 & 326 & 3.95 & 3.98 & 2.43\\\\\n",
       "\t2 & 0.21 & Premium   & E & SI1  & 59.8 & 61 & 326 & 3.89 & 3.84 & 2.31\\\\\n",
       "\t3 & 0.23 & Good      & E & VS1  & 56.9 & 65 & 327 & 4.05 & 4.07 & 2.31\\\\\n",
       "\t4 & 0.29 & Premium   & I & VS2  & 62.4 & 58 & 334 & 4.20 & 4.23 & 2.63\\\\\n",
       "\t5 & 0.31 & Good      & J & SI2  & 63.3 & 58 & 335 & 4.34 & 4.35 & 2.75\\\\\n",
       "\t6 & 0.24 & Very Good & J & VVS2 & 62.8 & 57 & 336 & 3.94 & 3.96 & 2.48\\\\\n",
       "\\end{tabular}\n"
      ],
      "text/markdown": [
       "\n",
       "A data.frame: 6 × 10\n",
       "\n",
       "| <!--/--> | carat &lt;dbl&gt; | cut &lt;chr&gt; | color &lt;chr&gt; | clarity &lt;chr&gt; | depth &lt;dbl&gt; | table &lt;dbl&gt; | price &lt;int&gt; | x &lt;dbl&gt; | y &lt;dbl&gt; | z &lt;dbl&gt; |\n",
       "|---|---|---|---|---|---|---|---|---|---|---|\n",
       "| 1 | 0.23 | Ideal     | E | SI2  | 61.5 | 55 | 326 | 3.95 | 3.98 | 2.43 |\n",
       "| 2 | 0.21 | Premium   | E | SI1  | 59.8 | 61 | 326 | 3.89 | 3.84 | 2.31 |\n",
       "| 3 | 0.23 | Good      | E | VS1  | 56.9 | 65 | 327 | 4.05 | 4.07 | 2.31 |\n",
       "| 4 | 0.29 | Premium   | I | VS2  | 62.4 | 58 | 334 | 4.20 | 4.23 | 2.63 |\n",
       "| 5 | 0.31 | Good      | J | SI2  | 63.3 | 58 | 335 | 4.34 | 4.35 | 2.75 |\n",
       "| 6 | 0.24 | Very Good | J | VVS2 | 62.8 | 57 | 336 | 3.94 | 3.96 | 2.48 |\n",
       "\n"
      ],
      "text/plain": [
       "  carat cut       color clarity depth table price x    y    z   \n",
       "1 0.23  Ideal     E     SI2     61.5  55    326   3.95 3.98 2.43\n",
       "2 0.21  Premium   E     SI1     59.8  61    326   3.89 3.84 2.31\n",
       "3 0.23  Good      E     VS1     56.9  65    327   4.05 4.07 2.31\n",
       "4 0.29  Premium   I     VS2     62.4  58    334   4.20 4.23 2.63\n",
       "5 0.31  Good      J     SI2     63.3  58    335   4.34 4.35 2.75\n",
       "6 0.24  Very Good J     VVS2    62.8  57    336   3.94 3.96 2.48"
      ]
     },
     "metadata": {},
     "output_type": "display_data"
    }
   ],
   "source": [
    "head(diamonds_df)"
   ]
  },
  {
   "cell_type": "code",
   "execution_count": 13,
   "id": "8c7b2715-a0fd-4a03-9d86-47b8bf7c52ab",
   "metadata": {},
   "outputs": [
    {
     "data": {
      "text/html": [
       "<table class=\"dataframe\">\n",
       "<caption>A tibble: 5 × 2</caption>\n",
       "<thead>\n",
       "\t<tr><th scope=col>cut</th><th scope=col>Mean carat</th></tr>\n",
       "\t<tr><th scope=col>&lt;chr&gt;</th><th scope=col>&lt;dbl&gt;</th></tr>\n",
       "</thead>\n",
       "<tbody>\n",
       "\t<tr><td>Fair     </td><td>1.0205667</td></tr>\n",
       "\t<tr><td>Good     </td><td>0.8546024</td></tr>\n",
       "\t<tr><td>Ideal    </td><td>0.6987617</td></tr>\n",
       "\t<tr><td>Premium  </td><td>0.8730248</td></tr>\n",
       "\t<tr><td>Very Good</td><td>0.8127849</td></tr>\n",
       "</tbody>\n",
       "</table>\n"
      ],
      "text/latex": [
       "A tibble: 5 × 2\n",
       "\\begin{tabular}{ll}\n",
       " cut & Mean carat\\\\\n",
       " <chr> & <dbl>\\\\\n",
       "\\hline\n",
       "\t Fair      & 1.0205667\\\\\n",
       "\t Good      & 0.8546024\\\\\n",
       "\t Ideal     & 0.6987617\\\\\n",
       "\t Premium   & 0.8730248\\\\\n",
       "\t Very Good & 0.8127849\\\\\n",
       "\\end{tabular}\n"
      ],
      "text/markdown": [
       "\n",
       "A tibble: 5 × 2\n",
       "\n",
       "| cut &lt;chr&gt; | Mean carat &lt;dbl&gt; |\n",
       "|---|---|\n",
       "| Fair      | 1.0205667 |\n",
       "| Good      | 0.8546024 |\n",
       "| Ideal     | 0.6987617 |\n",
       "| Premium   | 0.8730248 |\n",
       "| Very Good | 0.8127849 |\n",
       "\n"
      ],
      "text/plain": [
       "  cut       Mean carat\n",
       "1 Fair      1.0205667 \n",
       "2 Good      0.8546024 \n",
       "3 Ideal     0.6987617 \n",
       "4 Premium   0.8730248 \n",
       "5 Very Good 0.8127849 "
      ]
     },
     "metadata": {},
     "output_type": "display_data"
    }
   ],
   "source": [
    "diamonds_df %>%\n",
    "    filter(price >= 500, color != 'J') %>%\n",
    "    sample_frac(0.4) %>%\n",
    "    group_by(cut) %>%\n",
    "    summarize('Mean carat' = mean(carat))"
   ]
  }
 ],
 "metadata": {
  "kernelspec": {
   "display_name": "Python 3 (ipykernel)",
   "language": "python",
   "name": "python3"
  },
  "language_info": {
   "codemirror_mode": {
    "name": "ipython",
    "version": 3
   },
   "file_extension": ".py",
   "mimetype": "text/x-python",
   "name": "python",
   "nbconvert_exporter": "python",
   "pygments_lexer": "ipython3",
   "version": "3.9.10"
  }
 },
 "nbformat": 4,
 "nbformat_minor": 5
}
