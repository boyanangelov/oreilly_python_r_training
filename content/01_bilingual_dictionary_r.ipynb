{
 "cells": [
  {
   "cell_type": "markdown",
   "id": "57e867ab-41f9-4d24-a638-31186d74a306",
   "metadata": {},
   "source": [
    "# Bilingual Dictionary (R)\n",
    "\n",
    "<img src=\"https://upload.wikimedia.org/wikipedia/commons/thumb/1/1b/R_logo.svg/1280px-R_logo.svg.png\" width=\"200\" height=\"200\" />\n"
   ]
  },
  {
   "cell_type": "markdown",
   "id": "d3ac377f-dff8-4542-86c6-f632a3c9a021",
   "metadata": {},
   "source": [
    "## Basic testing"
   ]
  },
  {
   "cell_type": "code",
   "execution_count": 1,
   "id": "d9446552-7e61-47d0-85a2-5c8ae3ffe717",
   "metadata": {},
   "outputs": [
    {
     "data": {
      "text/html": [
       "4"
      ],
      "text/latex": [
       "4"
      ],
      "text/markdown": [
       "4"
      ],
      "text/plain": [
       "[1] 4"
      ]
     },
     "metadata": {},
     "output_type": "display_data"
    }
   ],
   "source": [
    "2 + 2"
   ]
  },
  {
   "cell_type": "markdown",
   "id": "2516a9fc-312c-46d1-97fc-3b2e07385b89",
   "metadata": {},
   "source": [
    "## Installing packages"
   ]
  },
  {
   "cell_type": "code",
   "execution_count": null,
   "id": "e6a3989e-3550-48ba-bdac-126f23e9804e",
   "metadata": {},
   "outputs": [],
   "source": [
    "install.packages(\"dplyr\")"
   ]
  },
  {
   "cell_type": "markdown",
   "id": "c56ef8cb-967d-4784-a8a4-7ceba132cee6",
   "metadata": {},
   "source": [
    "## Loading packages"
   ]
  },
  {
   "cell_type": "code",
   "execution_count": 2,
   "id": "a819182c-9419-4239-b0fd-23c638b5bc1d",
   "metadata": {
    "collapsed": true,
    "jupyter": {
     "outputs_hidden": true
    },
    "tags": []
   },
   "outputs": [
    {
     "name": "stderr",
     "output_type": "stream",
     "text": [
      "\n",
      "Attache Paket: ‘dplyr’\n",
      "\n",
      "\n",
      "Die folgenden Objekte sind maskiert von ‘package:stats’:\n",
      "\n",
      "    filter, lag\n",
      "\n",
      "\n",
      "Die folgenden Objekte sind maskiert von ‘package:base’:\n",
      "\n",
      "    intersect, setdiff, setequal, union\n",
      "\n",
      "\n"
     ]
    }
   ],
   "source": [
    "library(dplyr)"
   ]
  },
  {
   "cell_type": "code",
   "execution_count": null,
   "id": "b0e96e0a-3ec6-42ec-bb3d-078d1b92a8a1",
   "metadata": {},
   "outputs": [],
   "source": [
    "dplyr::sample_frac()"
   ]
  },
  {
   "cell_type": "markdown",
   "id": "cdafd5b8-f8d9-492a-bc39-18cd02bdb16e",
   "metadata": {},
   "source": [
    "## Assignment and operators"
   ]
  },
  {
   "cell_type": "code",
   "execution_count": 3,
   "id": "b956e8a1-d85a-43e7-8be7-4e24dc42ff50",
   "metadata": {},
   "outputs": [],
   "source": [
    "name <- \"Anna\"\n",
    "age <- 42\n",
    "height <- 177.2\n",
    "female <- TRUE"
   ]
  },
  {
   "cell_type": "code",
   "execution_count": 4,
   "id": "5feaed44-4f68-4024-b251-eeb75a9a6cee",
   "metadata": {},
   "outputs": [
    {
     "name": "stdout",
     "output_type": "stream",
     "text": [
      "[1] \"Anna\"\n"
     ]
    }
   ],
   "source": [
    "print(name)"
   ]
  },
  {
   "cell_type": "code",
   "execution_count": 5,
   "id": "59ed856c-19b2-449e-9e68-6f02a28dbe9c",
   "metadata": {},
   "outputs": [
    {
     "data": {
      "text/html": [
       "45"
      ],
      "text/latex": [
       "45"
      ],
      "text/markdown": [
       "45"
      ],
      "text/plain": [
       "[1] 45"
      ]
     },
     "metadata": {},
     "output_type": "display_data"
    }
   ],
   "source": [
    "age + 3"
   ]
  },
  {
   "cell_type": "markdown",
   "id": "ab3cde84-4de3-4c6e-9d84-410fdc67ae1a",
   "metadata": {},
   "source": [
    "## Types"
   ]
  },
  {
   "cell_type": "code",
   "execution_count": 6,
   "id": "a280c69d-a5dd-4929-bc1a-198e3012b0a6",
   "metadata": {},
   "outputs": [
    {
     "data": {
      "text/html": [
       "'character'"
      ],
      "text/latex": [
       "'character'"
      ],
      "text/markdown": [
       "'character'"
      ],
      "text/plain": [
       "[1] \"character\""
      ]
     },
     "metadata": {},
     "output_type": "display_data"
    }
   ],
   "source": [
    "class(name)"
   ]
  },
  {
   "cell_type": "code",
   "execution_count": 7,
   "id": "8ed4d00e-8f7c-4e1f-a84b-b59cadcd06d9",
   "metadata": {},
   "outputs": [
    {
     "data": {
      "text/html": [
       "'numeric'"
      ],
      "text/latex": [
       "'numeric'"
      ],
      "text/markdown": [
       "'numeric'"
      ],
      "text/plain": [
       "[1] \"numeric\""
      ]
     },
     "metadata": {},
     "output_type": "display_data"
    }
   ],
   "source": [
    "class(age)"
   ]
  },
  {
   "cell_type": "code",
   "execution_count": 8,
   "id": "be120c16-ac85-4540-a2b7-0549cab56b1d",
   "metadata": {},
   "outputs": [
    {
     "data": {
      "text/html": [
       "'numeric'"
      ],
      "text/latex": [
       "'numeric'"
      ],
      "text/markdown": [
       "'numeric'"
      ],
      "text/plain": [
       "[1] \"numeric\""
      ]
     },
     "metadata": {},
     "output_type": "display_data"
    }
   ],
   "source": [
    "class(height)"
   ]
  },
  {
   "cell_type": "code",
   "execution_count": 9,
   "id": "bab0827d-4206-413f-9fd7-ab136dd86055",
   "metadata": {},
   "outputs": [
    {
     "data": {
      "text/html": [
       "'logical'"
      ],
      "text/latex": [
       "'logical'"
      ],
      "text/markdown": [
       "'logical'"
      ],
      "text/plain": [
       "[1] \"logical\""
      ]
     },
     "metadata": {},
     "output_type": "display_data"
    }
   ],
   "source": [
    "class(female)"
   ]
  },
  {
   "cell_type": "markdown",
   "id": "781039e0-d952-46a0-93cd-c9e44fc40d47",
   "metadata": {},
   "source": [
    "## Functions and methods"
   ]
  },
  {
   "cell_type": "code",
   "execution_count": 11,
   "id": "03e9dbbd-b7bb-4360-9557-040ec346dd23",
   "metadata": {
    "collapsed": true,
    "jupyter": {
     "outputs_hidden": true
    },
    "tags": []
   },
   "outputs": [
    {
     "data": {
      "text/html": [
       "\n",
       "<table width=\"100%\" summary=\"page for sample_n {dplyr}\"><tr><td>sample_n {dplyr}</td><td style=\"text-align: right;\">R Documentation</td></tr></table>\n",
       "\n",
       "<h2>Sample n rows from a table</h2>\n",
       "\n",
       "<h3>Description</h3>\n",
       "\n",
       "<p><a href=\"https://lifecycle.r-lib.org/articles/stages.html#superseded\"><img src=\"../help/figures/lifecycle-superseded.svg\" alt='[Superseded]' /></a>\n",
       "<code>sample_n()</code> and <code>sample_frac()</code> have been superseded in favour of\n",
       "<code>slice_sample()</code>. While they will not be deprecated in the near future,\n",
       "retirement means that we will only perform critical bug fixes, so we recommend\n",
       "moving to the newer alternative.\n",
       "</p>\n",
       "<p>These functions were superseded because we realised it was more convenient to\n",
       "have two mutually exclusive arguments to one function, rather than two\n",
       "separate functions. This also made it to clean up a few other smaller\n",
       "design issues with <code>sample_n()</code>/<code>sample_frac</code>:\n",
       "</p>\n",
       "\n",
       "<ul>\n",
       "<li><p> The connection to <code>slice()</code> was not obvious.\n",
       "</p>\n",
       "</li>\n",
       "<li><p> The name of the first argument, <code>tbl</code>, is inconsistent with other\n",
       "single table verbs which use <code>.data</code>.\n",
       "</p>\n",
       "</li>\n",
       "<li><p> The <code>size</code> argument uses tidy evaluation, which is surprising and\n",
       "undocumented.\n",
       "</p>\n",
       "</li>\n",
       "<li><p> It was easier to remove the deprecated <code>.env</code> argument.\n",
       "</p>\n",
       "</li>\n",
       "<li> <p><code>...</code> was in a suboptimal position.\n",
       "</p>\n",
       "</li></ul>\n",
       "\n",
       "\n",
       "\n",
       "<h3>Usage</h3>\n",
       "\n",
       "<pre>\n",
       "sample_n(tbl, size, replace = FALSE, weight = NULL, .env = NULL, ...)\n",
       "\n",
       "sample_frac(tbl, size = 1, replace = FALSE, weight = NULL, .env = NULL, ...)\n",
       "</pre>\n",
       "\n",
       "\n",
       "<h3>Arguments</h3>\n",
       "\n",
       "<table summary=\"R argblock\">\n",
       "<tr valign=\"top\"><td><code>tbl</code></td>\n",
       "<td>\n",
       "<p>A data.frame.</p>\n",
       "</td></tr>\n",
       "<tr valign=\"top\"><td><code>size</code></td>\n",
       "<td>\n",
       "<p>&lt;<code>tidy-select</code>&gt;\n",
       "For <code>sample_n()</code>, the number of rows to select.\n",
       "For <code>sample_frac()</code>, the fraction of rows to select.\n",
       "If <code>tbl</code> is grouped, <code>size</code> applies to each group.</p>\n",
       "</td></tr>\n",
       "<tr valign=\"top\"><td><code>replace</code></td>\n",
       "<td>\n",
       "<p>Sample with or without replacement?</p>\n",
       "</td></tr>\n",
       "<tr valign=\"top\"><td><code>weight</code></td>\n",
       "<td>\n",
       "<p>&lt;<code>tidy-select</code>&gt; Sampling weights.\n",
       "This must evaluate to a vector of non-negative numbers the same length as\n",
       "the input. Weights are automatically standardised to sum to 1.</p>\n",
       "</td></tr>\n",
       "<tr valign=\"top\"><td><code>.env</code></td>\n",
       "<td>\n",
       "<p>DEPRECATED.</p>\n",
       "</td></tr>\n",
       "<tr valign=\"top\"><td><code>...</code></td>\n",
       "<td>\n",
       "<p>ignored</p>\n",
       "</td></tr>\n",
       "</table>\n",
       "\n",
       "\n",
       "<h3>Examples</h3>\n",
       "\n",
       "<pre>\n",
       "by_cyl &lt;- mtcars %&gt;% group_by(cyl)\n",
       "\n",
       "# sample_n() -&gt; slice_sample() ----------------------------------------------\n",
       "sample_n(mtcars, 10)\n",
       "sample_n(mtcars, 50, replace = TRUE)\n",
       "sample_n(mtcars, 10, weight = mpg)\n",
       "\n",
       "# Changes:\n",
       "# * explicitly name the `n` argument,\n",
       "# * the `weight` argument is now `weight_by`.\n",
       "\n",
       "slice_sample(mtcars, n = 10)\n",
       "slice_sample(mtcars, n = 50, replace = TRUE)\n",
       "slice_sample(mtcars, n = 10, weight_by = mpg)\n",
       "\n",
       "# Note that sample_n() would error if n was bigger than the group size\n",
       "# slice_sample() will just use the available rows for consistency with\n",
       "# the other slice helpers like slice_head()\n",
       "\n",
       "# sample_frac() -&gt; slice_sample() -------------------------------------------\n",
       "sample_frac(mtcars)\n",
       "sample_frac(mtcars, replace = TRUE)\n",
       "\n",
       "# Changes:\n",
       "# * use prop = 1 to randomly sample all rows\n",
       "\n",
       "slice_sample(mtcars, prop = 1)\n",
       "slice_sample(mtcars, prop = 1, replace = TRUE)\n",
       "\n",
       "</pre>\n",
       "\n",
       "<hr /><div style=\"text-align: center;\">[Package <em>dplyr</em> version 1.0.8 ]</div>"
      ],
      "text/latex": [
       "\\inputencoding{utf8}\n",
       "\\HeaderA{sample\\_n}{Sample n rows from a table}{sample.Rul.n}\n",
       "\\aliasA{sample\\_frac}{sample\\_n}{sample.Rul.frac}\n",
       "\\keyword{internal}{sample\\_n}\n",
       "%\n",
       "\\begin{Description}\\relax\n",
       "\\strong{[Superseded]}\n",
       "\\code{sample\\_n()} and \\code{sample\\_frac()} have been superseded in favour of\n",
       "\\code{\\LinkA{slice\\_sample()}{slice.Rul.sample}}. While they will not be deprecated in the near future,\n",
       "retirement means that we will only perform critical bug fixes, so we recommend\n",
       "moving to the newer alternative.\n",
       "\n",
       "These functions were superseded because we realised it was more convenient to\n",
       "have two mutually exclusive arguments to one function, rather than two\n",
       "separate functions. This also made it to clean up a few other smaller\n",
       "design issues with \\code{sample\\_n()}/\\code{sample\\_frac}:\n",
       "\\begin{itemize}\n",
       "\n",
       "\\item{} The connection to \\code{slice()} was not obvious.\n",
       "\\item{} The name of the first argument, \\code{tbl}, is inconsistent with other\n",
       "single table verbs which use \\code{.data}.\n",
       "\\item{} The \\code{size} argument uses tidy evaluation, which is surprising and\n",
       "undocumented.\n",
       "\\item{} It was easier to remove the deprecated \\code{.env} argument.\n",
       "\\item{} \\code{...} was in a suboptimal position.\n",
       "\n",
       "\\end{itemize}\n",
       "\n",
       "\\end{Description}\n",
       "%\n",
       "\\begin{Usage}\n",
       "\\begin{verbatim}\n",
       "sample_n(tbl, size, replace = FALSE, weight = NULL, .env = NULL, ...)\n",
       "\n",
       "sample_frac(tbl, size = 1, replace = FALSE, weight = NULL, .env = NULL, ...)\n",
       "\\end{verbatim}\n",
       "\\end{Usage}\n",
       "%\n",
       "\\begin{Arguments}\n",
       "\\begin{ldescription}\n",
       "\\item[\\code{tbl}] A data.frame.\n",
       "\n",
       "\\item[\\code{size}] <\\code{\\LinkA{tidy-select}{dplyr.Rul.tidy.Rul.select}}>\n",
       "For \\code{sample\\_n()}, the number of rows to select.\n",
       "For \\code{sample\\_frac()}, the fraction of rows to select.\n",
       "If \\code{tbl} is grouped, \\code{size} applies to each group.\n",
       "\n",
       "\\item[\\code{replace}] Sample with or without replacement?\n",
       "\n",
       "\\item[\\code{weight}] <\\code{\\LinkA{tidy-select}{dplyr.Rul.tidy.Rul.select}}> Sampling weights.\n",
       "This must evaluate to a vector of non-negative numbers the same length as\n",
       "the input. Weights are automatically standardised to sum to 1.\n",
       "\n",
       "\\item[\\code{.env}] DEPRECATED.\n",
       "\n",
       "\\item[\\code{...}] ignored\n",
       "\\end{ldescription}\n",
       "\\end{Arguments}\n",
       "%\n",
       "\\begin{Examples}\n",
       "\\begin{ExampleCode}\n",
       "by_cyl <- mtcars %>% group_by(cyl)\n",
       "\n",
       "# sample_n() -> slice_sample() ----------------------------------------------\n",
       "sample_n(mtcars, 10)\n",
       "sample_n(mtcars, 50, replace = TRUE)\n",
       "sample_n(mtcars, 10, weight = mpg)\n",
       "\n",
       "# Changes:\n",
       "# * explicitly name the `n` argument,\n",
       "# * the `weight` argument is now `weight_by`.\n",
       "\n",
       "slice_sample(mtcars, n = 10)\n",
       "slice_sample(mtcars, n = 50, replace = TRUE)\n",
       "slice_sample(mtcars, n = 10, weight_by = mpg)\n",
       "\n",
       "# Note that sample_n() would error if n was bigger than the group size\n",
       "# slice_sample() will just use the available rows for consistency with\n",
       "# the other slice helpers like slice_head()\n",
       "\n",
       "# sample_frac() -> slice_sample() -------------------------------------------\n",
       "sample_frac(mtcars)\n",
       "sample_frac(mtcars, replace = TRUE)\n",
       "\n",
       "# Changes:\n",
       "# * use prop = 1 to randomly sample all rows\n",
       "\n",
       "slice_sample(mtcars, prop = 1)\n",
       "slice_sample(mtcars, prop = 1, replace = TRUE)\n",
       "\n",
       "\\end{ExampleCode}\n",
       "\\end{Examples}"
      ],
      "text/plain": [
       "sample_n                 package:dplyr                 R Documentation\n",
       "\n",
       "_\bS_\ba_\bm_\bp_\bl_\be _\bn _\br_\bo_\bw_\bs _\bf_\br_\bo_\bm _\ba _\bt_\ba_\bb_\bl_\be\n",
       "\n",
       "_\bD_\be_\bs_\bc_\br_\bi_\bp_\bt_\bi_\bo_\bn:\n",
       "\n",
       "     *[Superseded]* ‘sample_n()’ and ‘sample_frac()’ have been\n",
       "     superseded in favour of ‘slice_sample()’. While they will not be\n",
       "     deprecated in the near future, retirement means that we will only\n",
       "     perform critical bug fixes, so we recommend moving to the newer\n",
       "     alternative.\n",
       "\n",
       "     These functions were superseded because we realised it was more\n",
       "     convenient to have two mutually exclusive arguments to one\n",
       "     function, rather than two separate functions. This also made it to\n",
       "     clean up a few other smaller design issues with\n",
       "     ‘sample_n()’/‘sample_frac’:\n",
       "\n",
       "        • The connection to ‘slice()’ was not obvious.\n",
       "\n",
       "        • The name of the first argument, ‘tbl’, is inconsistent with\n",
       "          other single table verbs which use ‘.data’.\n",
       "\n",
       "        • The ‘size’ argument uses tidy evaluation, which is surprising\n",
       "          and undocumented.\n",
       "\n",
       "        • It was easier to remove the deprecated ‘.env’ argument.\n",
       "\n",
       "        • ‘...’ was in a suboptimal position.\n",
       "\n",
       "_\bU_\bs_\ba_\bg_\be:\n",
       "\n",
       "     sample_n(tbl, size, replace = FALSE, weight = NULL, .env = NULL, ...)\n",
       "     \n",
       "     sample_frac(tbl, size = 1, replace = FALSE, weight = NULL, .env = NULL, ...)\n",
       "     \n",
       "_\bA_\br_\bg_\bu_\bm_\be_\bn_\bt_\bs:\n",
       "\n",
       "     tbl: A data.frame.\n",
       "\n",
       "    size: <‘tidy-select’> For ‘sample_n()’, the number of rows to\n",
       "          select. For ‘sample_frac()’, the fraction of rows to select.\n",
       "          If ‘tbl’ is grouped, ‘size’ applies to each group.\n",
       "\n",
       " replace: Sample with or without replacement?\n",
       "\n",
       "  weight: <‘tidy-select’> Sampling weights. This must evaluate to a\n",
       "          vector of non-negative numbers the same length as the input.\n",
       "          Weights are automatically standardised to sum to 1.\n",
       "\n",
       "    .env: DEPRECATED.\n",
       "\n",
       "     ...: ignored\n",
       "\n",
       "_\bE_\bx_\ba_\bm_\bp_\bl_\be_\bs:\n",
       "\n",
       "     by_cyl <- mtcars %>% group_by(cyl)\n",
       "     \n",
       "     # sample_n() -> slice_sample() ----------------------------------------------\n",
       "     sample_n(mtcars, 10)\n",
       "     sample_n(mtcars, 50, replace = TRUE)\n",
       "     sample_n(mtcars, 10, weight = mpg)\n",
       "     \n",
       "     # Changes:\n",
       "     # * explicitly name the `n` argument,\n",
       "     # * the `weight` argument is now `weight_by`.\n",
       "     \n",
       "     slice_sample(mtcars, n = 10)\n",
       "     slice_sample(mtcars, n = 50, replace = TRUE)\n",
       "     slice_sample(mtcars, n = 10, weight_by = mpg)\n",
       "     \n",
       "     # Note that sample_n() would error if n was bigger than the group size\n",
       "     # slice_sample() will just use the available rows for consistency with\n",
       "     # the other slice helpers like slice_head()\n",
       "     \n",
       "     # sample_frac() -> slice_sample() -------------------------------------------\n",
       "     sample_frac(mtcars)\n",
       "     sample_frac(mtcars, replace = TRUE)\n",
       "     \n",
       "     # Changes:\n",
       "     # * use prop = 1 to randomly sample all rows\n",
       "     \n",
       "     slice_sample(mtcars, prop = 1)\n",
       "     slice_sample(mtcars, prop = 1, replace = TRUE)\n",
       "     "
      ]
     },
     "metadata": {},
     "output_type": "display_data"
    }
   ],
   "source": [
    "?sample_frac"
   ]
  },
  {
   "cell_type": "code",
   "execution_count": 14,
   "id": "5f2c92a4-441f-4715-a4e1-a79c759f8e01",
   "metadata": {},
   "outputs": [],
   "source": [
    "sum_two <- function(a, b) {\n",
    "    return(a + b)\n",
    "}"
   ]
  },
  {
   "cell_type": "code",
   "execution_count": 15,
   "id": "81e13f9e-587f-40dc-ae94-e019b77a6c9f",
   "metadata": {},
   "outputs": [
    {
     "data": {
      "text/html": [
       "5"
      ],
      "text/latex": [
       "5"
      ],
      "text/markdown": [
       "5"
      ],
      "text/plain": [
       "[1] 5"
      ]
     },
     "metadata": {},
     "output_type": "display_data"
    }
   ],
   "source": [
    "sum_two(2, 3)"
   ]
  },
  {
   "cell_type": "markdown",
   "id": "6a304b06-2d02-4422-af67-037310423fd3",
   "metadata": {},
   "source": [
    "## Logical expressions"
   ]
  },
  {
   "cell_type": "code",
   "execution_count": 6,
   "id": "eea2c35c-7aaa-4c28-8f10-d59a0917b97e",
   "metadata": {},
   "outputs": [
    {
     "data": {
      "text/html": [
       "FALSE"
      ],
      "text/latex": [
       "FALSE"
      ],
      "text/markdown": [
       "FALSE"
      ],
      "text/plain": [
       "[1] FALSE"
      ]
     },
     "metadata": {},
     "output_type": "display_data"
    }
   ],
   "source": [
    "1 == 2"
   ]
  },
  {
   "cell_type": "code",
   "execution_count": 7,
   "id": "a22f8d27-895c-4e98-8125-4e248c4c0127",
   "metadata": {},
   "outputs": [
    {
     "data": {
      "text/html": [
       "TRUE"
      ],
      "text/latex": [
       "TRUE"
      ],
      "text/markdown": [
       "TRUE"
      ],
      "text/plain": [
       "[1] TRUE"
      ]
     },
     "metadata": {},
     "output_type": "display_data"
    }
   ],
   "source": [
    "1 < 2"
   ]
  },
  {
   "cell_type": "code",
   "execution_count": 8,
   "id": "45f7c4aa-4c2a-4a91-97df-127e3deaeb9a",
   "metadata": {},
   "outputs": [
    {
     "data": {
      "text/html": [
       "TRUE"
      ],
      "text/latex": [
       "TRUE"
      ],
      "text/markdown": [
       "TRUE"
      ],
      "text/plain": [
       "[1] TRUE"
      ]
     },
     "metadata": {},
     "output_type": "display_data"
    }
   ],
   "source": [
    "1 < 2 && 3 < 4"
   ]
  },
  {
   "cell_type": "code",
   "execution_count": 10,
   "id": "9d030cb0-10b3-4f11-98a6-92c1220cc818",
   "metadata": {},
   "outputs": [
    {
     "data": {
      "text/html": [
       "FALSE"
      ],
      "text/latex": [
       "FALSE"
      ],
      "text/markdown": [
       "FALSE"
      ],
      "text/plain": [
       "[1] FALSE"
      ]
     },
     "metadata": {},
     "output_type": "display_data"
    }
   ],
   "source": [
    "3 < 2 | 3 < 2"
   ]
  },
  {
   "cell_type": "markdown",
   "id": "69920d90-b008-4a9b-957d-9cf20348b942",
   "metadata": {},
   "source": [
    "## Lists, vectorization and indexing"
   ]
  },
  {
   "cell_type": "markdown",
   "id": "34d80b46-9f12-4909-b63c-73d5b459d15d",
   "metadata": {},
   "source": [
    "In R what we call a `list` in Python, is actually a `vector` of a data type. "
   ]
  },
  {
   "cell_type": "code",
   "execution_count": 12,
   "id": "dd97837f-fafc-4ecf-ade6-ce0968e2c921",
   "metadata": {},
   "outputs": [],
   "source": [
    "heights <- c(155, 174, 182, 198)\n",
    "weights <- c(77, 65, 89, 95)"
   ]
  },
  {
   "cell_type": "code",
   "execution_count": 15,
   "id": "eeec42c8-6e33-419f-9565-decfd5d10cae",
   "metadata": {},
   "outputs": [
    {
     "data": {
      "text/html": [],
      "text/latex": [],
      "text/markdown": [],
      "text/plain": [
       "numeric(0)"
      ]
     },
     "metadata": {},
     "output_type": "display_data"
    }
   ],
   "source": [
    "heights[0]"
   ]
  },
  {
   "cell_type": "code",
   "execution_count": 16,
   "id": "4dda4fba-88b7-42a0-812c-06aa45e07840",
   "metadata": {},
   "outputs": [
    {
     "data": {
      "text/html": [
       "155"
      ],
      "text/latex": [
       "155"
      ],
      "text/markdown": [
       "155"
      ],
      "text/plain": [
       "[1] 155"
      ]
     },
     "metadata": {},
     "output_type": "display_data"
    }
   ],
   "source": [
    "heights[1]"
   ]
  },
  {
   "cell_type": "code",
   "execution_count": 17,
   "id": "5ee85936-fd71-4449-973d-2b773c1e1272",
   "metadata": {},
   "outputs": [
    {
     "data": {
      "text/html": [
       "<style>\n",
       ".list-inline {list-style: none; margin:0; padding: 0}\n",
       ".list-inline>li {display: inline-block}\n",
       ".list-inline>li:not(:last-child)::after {content: \"\\00b7\"; padding: 0 .5ex}\n",
       "</style>\n",
       "<ol class=list-inline><li>155</li><li>174</li><li>182</li></ol>\n"
      ],
      "text/latex": [
       "\\begin{enumerate*}\n",
       "\\item 155\n",
       "\\item 174\n",
       "\\item 182\n",
       "\\end{enumerate*}\n"
      ],
      "text/markdown": [
       "1. 155\n",
       "2. 174\n",
       "3. 182\n",
       "\n",
       "\n"
      ],
      "text/plain": [
       "[1] 155 174 182"
      ]
     },
     "metadata": {},
     "output_type": "display_data"
    }
   ],
   "source": [
    "heights[1:3]"
   ]
  },
  {
   "cell_type": "markdown",
   "id": "f216ae01-bae6-48be-9e59-78d0d68e7e27",
   "metadata": {},
   "source": [
    "Now this is unexpected:"
   ]
  },
  {
   "cell_type": "code",
   "execution_count": 22,
   "id": "e3e20cd8-9af6-4cc8-ac8d-a02cfdd3c0dd",
   "metadata": {},
   "outputs": [
    {
     "data": {
      "text/html": [
       "<style>\n",
       ".list-inline {list-style: none; margin:0; padding: 0}\n",
       ".list-inline>li {display: inline-block}\n",
       ".list-inline>li:not(:last-child)::after {content: \"\\00b7\"; padding: 0 .5ex}\n",
       "</style>\n",
       "<ol class=list-inline><li>174</li><li>182</li><li>198</li></ol>\n"
      ],
      "text/latex": [
       "\\begin{enumerate*}\n",
       "\\item 174\n",
       "\\item 182\n",
       "\\item 198\n",
       "\\end{enumerate*}\n"
      ],
      "text/markdown": [
       "1. 174\n",
       "2. 182\n",
       "3. 198\n",
       "\n",
       "\n"
      ],
      "text/plain": [
       "[1] 174 182 198"
      ]
     },
     "metadata": {},
     "output_type": "display_data"
    }
   ],
   "source": [
    "heights[-1]"
   ]
  },
  {
   "cell_type": "code",
   "execution_count": 23,
   "id": "5dd3dd9e-ba74-40d3-9910-3f9ce77d1507",
   "metadata": {},
   "outputs": [
    {
     "data": {
      "text/html": [
       "198"
      ],
      "text/latex": [
       "198"
      ],
      "text/markdown": [
       "198"
      ],
      "text/plain": [
       "[1] 198"
      ]
     },
     "metadata": {},
     "output_type": "display_data"
    }
   ],
   "source": [
    "last(heights)"
   ]
  },
  {
   "cell_type": "markdown",
   "id": "0b97c1f5-25e5-4ca9-9da0-f2b3418ee6f5",
   "metadata": {},
   "source": [
    "In R vectorization works by default, remember the FUBU principle!"
   ]
  },
  {
   "cell_type": "code",
   "execution_count": 13,
   "id": "adbf1399-0e32-4ce4-9930-f00f8c8da771",
   "metadata": {},
   "outputs": [
    {
     "data": {
      "text/html": [
       "<style>\n",
       ".list-inline {list-style: none; margin:0; padding: 0}\n",
       ".list-inline>li {display: inline-block}\n",
       ".list-inline>li:not(:last-child)::after {content: \"\\00b7\"; padding: 0 .5ex}\n",
       "</style>\n",
       "<ol class=list-inline><li>156</li><li>175</li><li>183</li><li>199</li></ol>\n"
      ],
      "text/latex": [
       "\\begin{enumerate*}\n",
       "\\item 156\n",
       "\\item 175\n",
       "\\item 183\n",
       "\\item 199\n",
       "\\end{enumerate*}\n"
      ],
      "text/markdown": [
       "1. 156\n",
       "2. 175\n",
       "3. 183\n",
       "4. 199\n",
       "\n",
       "\n"
      ],
      "text/plain": [
       "[1] 156 175 183 199"
      ]
     },
     "metadata": {},
     "output_type": "display_data"
    }
   ],
   "source": [
    "heights + 1"
   ]
  },
  {
   "cell_type": "code",
   "execution_count": 14,
   "id": "ac9ea82c-1ab9-42f4-9201-6f6a1b9483b9",
   "metadata": {},
   "outputs": [
    {
     "data": {
      "text/html": [
       "<style>\n",
       ".list-inline {list-style: none; margin:0; padding: 0}\n",
       ".list-inline>li {display: inline-block}\n",
       ".list-inline>li:not(:last-child)::after {content: \"\\00b7\"; padding: 0 .5ex}\n",
       "</style>\n",
       "<ol class=list-inline><li>2.01298701298701</li><li>2.67692307692308</li><li>2.04494382022472</li><li>2.08421052631579</li></ol>\n"
      ],
      "text/latex": [
       "\\begin{enumerate*}\n",
       "\\item 2.01298701298701\n",
       "\\item 2.67692307692308\n",
       "\\item 2.04494382022472\n",
       "\\item 2.08421052631579\n",
       "\\end{enumerate*}\n"
      ],
      "text/markdown": [
       "1. 2.01298701298701\n",
       "2. 2.67692307692308\n",
       "3. 2.04494382022472\n",
       "4. 2.08421052631579\n",
       "\n",
       "\n"
      ],
      "text/plain": [
       "[1] 2.012987 2.676923 2.044944 2.084211"
      ]
     },
     "metadata": {},
     "output_type": "display_data"
    }
   ],
   "source": [
    "heights / weights"
   ]
  },
  {
   "cell_type": "markdown",
   "id": "04db1b65-1b5d-4ba2-8808-673d310a2db2",
   "metadata": {},
   "source": [
    "## Loops"
   ]
  },
  {
   "cell_type": "code",
   "execution_count": 35,
   "id": "b933026c-38ec-4b1b-90ba-2553eec7eafb",
   "metadata": {},
   "outputs": [
    {
     "name": "stdout",
     "output_type": "stream",
     "text": [
      "[1] 155\n",
      "[1] 174\n",
      "[1] 182\n",
      "[1] 198\n"
     ]
    }
   ],
   "source": [
    "for (i in heights) {\n",
    "    print(i)\n",
    "}"
   ]
  },
  {
   "cell_type": "code",
   "execution_count": 36,
   "id": "322c4b2c-2079-431a-9c30-5f64a780a49c",
   "metadata": {},
   "outputs": [],
   "source": [
    "add_one <- function(x) {\n",
    "    return(x + 1)\n",
    "}"
   ]
  },
  {
   "cell_type": "markdown",
   "id": "97de2af5-136a-4dd7-abec-6ff192023ec3",
   "metadata": {},
   "source": [
    "But normally we iterate in R using the `apply` family of functions:"
   ]
  },
  {
   "cell_type": "code",
   "execution_count": 37,
   "id": "eb53ed22-286d-4afb-8422-9cff197d89f3",
   "metadata": {},
   "outputs": [
    {
     "data": {
      "text/html": [
       "<ol>\n",
       "\t<li>156</li>\n",
       "\t<li>175</li>\n",
       "\t<li>183</li>\n",
       "\t<li>199</li>\n",
       "</ol>\n"
      ],
      "text/latex": [
       "\\begin{enumerate}\n",
       "\\item 156\n",
       "\\item 175\n",
       "\\item 183\n",
       "\\item 199\n",
       "\\end{enumerate}\n"
      ],
      "text/markdown": [
       "1. 156\n",
       "2. 175\n",
       "3. 183\n",
       "4. 199\n",
       "\n",
       "\n"
      ],
      "text/plain": [
       "[[1]]\n",
       "[1] 156\n",
       "\n",
       "[[2]]\n",
       "[1] 175\n",
       "\n",
       "[[3]]\n",
       "[1] 183\n",
       "\n",
       "[[4]]\n",
       "[1] 199\n"
      ]
     },
     "metadata": {},
     "output_type": "display_data"
    }
   ],
   "source": [
    "lapply(heights, add_one)"
   ]
  },
  {
   "cell_type": "markdown",
   "id": "352cc384-9cfa-46a5-9f66-1c5cdf5c27c5",
   "metadata": {},
   "source": [
    "## Dataframes"
   ]
  },
  {
   "cell_type": "code",
   "execution_count": 3,
   "id": "c6341362-2dbb-41c1-bdd8-4692a29c2a93",
   "metadata": {},
   "outputs": [],
   "source": [
    "data(\"starwars\")"
   ]
  },
  {
   "cell_type": "code",
   "execution_count": 4,
   "id": "8e5de59f-e9da-4963-a4c5-dc5b1749a48e",
   "metadata": {
    "collapsed": true,
    "jupyter": {
     "outputs_hidden": true
    },
    "tags": []
   },
   "outputs": [
    {
     "data": {
      "text/html": [
       "<table class=\"dataframe\">\n",
       "<caption>A tibble: 87 × 14</caption>\n",
       "<thead>\n",
       "\t<tr><th scope=col>name</th><th scope=col>height</th><th scope=col>mass</th><th scope=col>hair_color</th><th scope=col>skin_color</th><th scope=col>eye_color</th><th scope=col>birth_year</th><th scope=col>sex</th><th scope=col>gender</th><th scope=col>homeworld</th><th scope=col>species</th><th scope=col>films</th><th scope=col>vehicles</th><th scope=col>starships</th></tr>\n",
       "\t<tr><th scope=col>&lt;chr&gt;</th><th scope=col>&lt;int&gt;</th><th scope=col>&lt;dbl&gt;</th><th scope=col>&lt;chr&gt;</th><th scope=col>&lt;chr&gt;</th><th scope=col>&lt;chr&gt;</th><th scope=col>&lt;dbl&gt;</th><th scope=col>&lt;chr&gt;</th><th scope=col>&lt;chr&gt;</th><th scope=col>&lt;chr&gt;</th><th scope=col>&lt;chr&gt;</th><th scope=col>&lt;list&gt;</th><th scope=col>&lt;list&gt;</th><th scope=col>&lt;list&gt;</th></tr>\n",
       "</thead>\n",
       "<tbody>\n",
       "\t<tr><td>Luke Skywalker       </td><td>172</td><td>  77.0</td><td>blond        </td><td>fair            </td><td>blue     </td><td> 19.0</td><td>male          </td><td>masculine</td><td>Tatooine  </td><td>Human         </td><td>The Empire Strikes Back, Revenge of the Sith    , Return of the Jedi     , A New Hope             , The Force Awakens      </td><td>Snowspeeder          , Imperial Speeder Bike</td><td>X-wing          , Imperial shuttle</td></tr>\n",
       "\t<tr><td>C-3PO                </td><td>167</td><td>  75.0</td><td>NA           </td><td>gold            </td><td>yellow   </td><td>112.0</td><td>none          </td><td>masculine</td><td>Tatooine  </td><td>Droid         </td><td>The Empire Strikes Back, Attack of the Clones   , The Phantom Menace     , Revenge of the Sith    , Return of the Jedi     , A New Hope             </td><td></td><td></td></tr>\n",
       "\t<tr><td>R2-D2                </td><td> 96</td><td>  32.0</td><td>NA           </td><td>white, blue     </td><td>red      </td><td> 33.0</td><td>none          </td><td>masculine</td><td>Naboo     </td><td>Droid         </td><td>The Empire Strikes Back, Attack of the Clones   , The Phantom Menace     , Revenge of the Sith    , Return of the Jedi     , A New Hope             , The Force Awakens      </td><td></td><td></td></tr>\n",
       "\t<tr><td>Darth Vader          </td><td>202</td><td> 136.0</td><td>none         </td><td>white           </td><td>yellow   </td><td> 41.9</td><td>male          </td><td>masculine</td><td>Tatooine  </td><td>Human         </td><td>The Empire Strikes Back, Revenge of the Sith    , Return of the Jedi     , A New Hope             </td><td></td><td>TIE Advanced x1</td></tr>\n",
       "\t<tr><td>Leia Organa          </td><td>150</td><td>  49.0</td><td>brown        </td><td>light           </td><td>brown    </td><td> 19.0</td><td>female        </td><td>feminine </td><td>Alderaan  </td><td>Human         </td><td>The Empire Strikes Back, Revenge of the Sith    , Return of the Jedi     , A New Hope             , The Force Awakens      </td><td>Imperial Speeder Bike</td><td></td></tr>\n",
       "\t<tr><td>Owen Lars            </td><td>178</td><td> 120.0</td><td>brown, grey  </td><td>light           </td><td>blue     </td><td> 52.0</td><td>male          </td><td>masculine</td><td>Tatooine  </td><td>Human         </td><td>Attack of the Clones, Revenge of the Sith , A New Hope          </td><td></td><td></td></tr>\n",
       "\t<tr><td>Beru Whitesun lars   </td><td>165</td><td>  75.0</td><td>brown        </td><td>light           </td><td>blue     </td><td> 47.0</td><td>female        </td><td>feminine </td><td>Tatooine  </td><td>Human         </td><td>Attack of the Clones, Revenge of the Sith , A New Hope          </td><td></td><td></td></tr>\n",
       "\t<tr><td>R5-D4                </td><td> 97</td><td>  32.0</td><td>NA           </td><td>white, red      </td><td>red      </td><td>   NA</td><td>none          </td><td>masculine</td><td>Tatooine  </td><td>Droid         </td><td>A New Hope</td><td></td><td></td></tr>\n",
       "\t<tr><td>Biggs Darklighter    </td><td>183</td><td>  84.0</td><td>black        </td><td>light           </td><td>brown    </td><td> 24.0</td><td>male          </td><td>masculine</td><td>Tatooine  </td><td>Human         </td><td>A New Hope</td><td></td><td>X-wing</td></tr>\n",
       "\t<tr><td>Obi-Wan Kenobi       </td><td>182</td><td>  77.0</td><td>auburn, white</td><td>fair            </td><td>blue-gray</td><td> 57.0</td><td>male          </td><td>masculine</td><td>Stewjon   </td><td>Human         </td><td>The Empire Strikes Back, Attack of the Clones   , The Phantom Menace     , Revenge of the Sith    , Return of the Jedi     , A New Hope             </td><td>Tribubble bongo</td><td>Jedi starfighter        , Trade Federation cruiser, Naboo star skiff        , Jedi Interceptor        , Belbullab-22 starfighter</td></tr>\n",
       "\t<tr><td>Anakin Skywalker     </td><td>188</td><td>  84.0</td><td>blond        </td><td>fair            </td><td>blue     </td><td> 41.9</td><td>male          </td><td>masculine</td><td>Tatooine  </td><td>Human         </td><td>Attack of the Clones, The Phantom Menace  , Revenge of the Sith </td><td>Zephyr-G swoop bike, XJ-6 airspeeder    </td><td>Trade Federation cruiser, Jedi Interceptor        , Naboo fighter           </td></tr>\n",
       "\t<tr><td>Wilhuff Tarkin       </td><td>180</td><td>    NA</td><td>auburn, grey </td><td>fair            </td><td>blue     </td><td> 64.0</td><td>male          </td><td>masculine</td><td>Eriadu    </td><td>Human         </td><td>Revenge of the Sith, A New Hope         </td><td></td><td></td></tr>\n",
       "\t<tr><td>Chewbacca            </td><td>228</td><td> 112.0</td><td>brown        </td><td>unknown         </td><td>blue     </td><td>200.0</td><td>male          </td><td>masculine</td><td>Kashyyyk  </td><td>Wookiee       </td><td>The Empire Strikes Back, Revenge of the Sith    , Return of the Jedi     , A New Hope             , The Force Awakens      </td><td>AT-ST</td><td>Millennium Falcon, Imperial shuttle </td></tr>\n",
       "\t<tr><td>Han Solo             </td><td>180</td><td>  80.0</td><td>brown        </td><td>fair            </td><td>brown    </td><td> 29.0</td><td>male          </td><td>masculine</td><td>Corellia  </td><td>Human         </td><td>The Empire Strikes Back, Return of the Jedi     , A New Hope             , The Force Awakens      </td><td></td><td>Millennium Falcon, Imperial shuttle </td></tr>\n",
       "\t<tr><td>Greedo               </td><td>173</td><td>  74.0</td><td>NA           </td><td>green           </td><td>black    </td><td> 44.0</td><td>male          </td><td>masculine</td><td>Rodia     </td><td>Rodian        </td><td>A New Hope</td><td></td><td></td></tr>\n",
       "\t<tr><td>Jabba Desilijic Tiure</td><td>175</td><td>1358.0</td><td>NA           </td><td>green-tan, brown</td><td>orange   </td><td>600.0</td><td>hermaphroditic</td><td>masculine</td><td>Nal Hutta </td><td>Hutt          </td><td>The Phantom Menace, Return of the Jedi, A New Hope        </td><td></td><td></td></tr>\n",
       "\t<tr><td>Wedge Antilles       </td><td>170</td><td>  77.0</td><td>brown        </td><td>fair            </td><td>hazel    </td><td> 21.0</td><td>male          </td><td>masculine</td><td>Corellia  </td><td>Human         </td><td>The Empire Strikes Back, Return of the Jedi     , A New Hope             </td><td>Snowspeeder</td><td>X-wing</td></tr>\n",
       "\t<tr><td>Jek Tono Porkins     </td><td>180</td><td> 110.0</td><td>brown        </td><td>fair            </td><td>blue     </td><td>   NA</td><td>male          </td><td>masculine</td><td>Bestine IV</td><td>Human         </td><td>A New Hope</td><td></td><td>X-wing</td></tr>\n",
       "\t<tr><td>Yoda                 </td><td> 66</td><td>  17.0</td><td>white        </td><td>green           </td><td>brown    </td><td>896.0</td><td>male          </td><td>masculine</td><td>NA        </td><td>Yoda's species</td><td>The Empire Strikes Back, Attack of the Clones   , The Phantom Menace     , Revenge of the Sith    , Return of the Jedi     </td><td></td><td></td></tr>\n",
       "\t<tr><td>Palpatine            </td><td>170</td><td>  75.0</td><td>grey         </td><td>pale            </td><td>yellow   </td><td> 82.0</td><td>male          </td><td>masculine</td><td>Naboo     </td><td>Human         </td><td>The Empire Strikes Back, Attack of the Clones   , The Phantom Menace     , Revenge of the Sith    , Return of the Jedi     </td><td></td><td></td></tr>\n",
       "\t<tr><td>Boba Fett            </td><td>183</td><td>  78.2</td><td>black        </td><td>fair            </td><td>brown    </td><td> 31.5</td><td>male          </td><td>masculine</td><td>Kamino    </td><td>Human         </td><td>The Empire Strikes Back, Attack of the Clones   , Return of the Jedi     </td><td></td><td>Slave 1</td></tr>\n",
       "\t<tr><td>IG-88                </td><td>200</td><td> 140.0</td><td>none         </td><td>metal           </td><td>red      </td><td> 15.0</td><td>none          </td><td>masculine</td><td>NA        </td><td>Droid         </td><td>The Empire Strikes Back</td><td></td><td></td></tr>\n",
       "\t<tr><td>Bossk                </td><td>190</td><td> 113.0</td><td>none         </td><td>green           </td><td>red      </td><td> 53.0</td><td>male          </td><td>masculine</td><td>Trandosha </td><td>Trandoshan    </td><td>The Empire Strikes Back</td><td></td><td></td></tr>\n",
       "\t<tr><td>Lando Calrissian     </td><td>177</td><td>  79.0</td><td>black        </td><td>dark            </td><td>brown    </td><td> 31.0</td><td>male          </td><td>masculine</td><td>Socorro   </td><td>Human         </td><td>The Empire Strikes Back, Return of the Jedi     </td><td></td><td>Millennium Falcon</td></tr>\n",
       "\t<tr><td>Lobot                </td><td>175</td><td>  79.0</td><td>none         </td><td>light           </td><td>blue     </td><td> 37.0</td><td>male          </td><td>masculine</td><td>Bespin    </td><td>Human         </td><td>The Empire Strikes Back</td><td></td><td></td></tr>\n",
       "\t<tr><td>Ackbar               </td><td>180</td><td>  83.0</td><td>none         </td><td>brown mottle    </td><td>orange   </td><td> 41.0</td><td>male          </td><td>masculine</td><td>Mon Cala  </td><td>Mon Calamari  </td><td>Return of the Jedi, The Force Awakens </td><td></td><td></td></tr>\n",
       "\t<tr><td>Mon Mothma           </td><td>150</td><td>    NA</td><td>auburn       </td><td>fair            </td><td>blue     </td><td> 48.0</td><td>female        </td><td>feminine </td><td>Chandrila </td><td>Human         </td><td>Return of the Jedi</td><td></td><td></td></tr>\n",
       "\t<tr><td>Arvel Crynyd         </td><td> NA</td><td>    NA</td><td>brown        </td><td>fair            </td><td>brown    </td><td>   NA</td><td>male          </td><td>masculine</td><td>NA        </td><td>Human         </td><td>Return of the Jedi</td><td></td><td>A-wing</td></tr>\n",
       "\t<tr><td>Wicket Systri Warrick</td><td> 88</td><td>  20.0</td><td>brown        </td><td>brown           </td><td>brown    </td><td>  8.0</td><td>male          </td><td>masculine</td><td>Endor     </td><td>Ewok          </td><td>Return of the Jedi</td><td></td><td></td></tr>\n",
       "\t<tr><td>Nien Nunb            </td><td>160</td><td>  68.0</td><td>none         </td><td>grey            </td><td>black    </td><td>   NA</td><td>male          </td><td>masculine</td><td>Sullust   </td><td>Sullustan     </td><td>Return of the Jedi</td><td></td><td>Millennium Falcon</td></tr>\n",
       "\t<tr><td>⋮</td><td>⋮</td><td>⋮</td><td>⋮</td><td>⋮</td><td>⋮</td><td>⋮</td><td>⋮</td><td>⋮</td><td>⋮</td><td>⋮</td><td>⋮</td><td>⋮</td><td>⋮</td></tr>\n",
       "\t<tr><td>Cordé              </td><td>157</td><td>   NA</td><td>brown  </td><td>light              </td><td>brown        </td><td> NA</td><td>female</td><td>feminine </td><td>Naboo       </td><td>Human    </td><td>Attack of the Clones</td><td></td><td></td></tr>\n",
       "\t<tr><td>Cliegg Lars        </td><td>183</td><td>   NA</td><td>brown  </td><td>fair               </td><td>blue         </td><td> 82</td><td>male  </td><td>masculine</td><td>Tatooine    </td><td>Human    </td><td>Attack of the Clones</td><td></td><td></td></tr>\n",
       "\t<tr><td>Poggle the Lesser  </td><td>183</td><td> 80.0</td><td>none   </td><td>green              </td><td>yellow       </td><td> NA</td><td>male  </td><td>masculine</td><td>Geonosis    </td><td>Geonosian</td><td>Attack of the Clones, Revenge of the Sith </td><td></td><td></td></tr>\n",
       "\t<tr><td>Luminara Unduli    </td><td>170</td><td> 56.2</td><td>black  </td><td>yellow             </td><td>blue         </td><td> 58</td><td>female</td><td>feminine </td><td>Mirial      </td><td>Mirialan </td><td>Attack of the Clones, Revenge of the Sith </td><td></td><td></td></tr>\n",
       "\t<tr><td>Barriss Offee      </td><td>166</td><td> 50.0</td><td>black  </td><td>yellow             </td><td>blue         </td><td> 40</td><td>female</td><td>feminine </td><td>Mirial      </td><td>Mirialan </td><td>Attack of the Clones</td><td></td><td></td></tr>\n",
       "\t<tr><td>Dormé              </td><td>165</td><td>   NA</td><td>brown  </td><td>light              </td><td>brown        </td><td> NA</td><td>female</td><td>feminine </td><td>Naboo       </td><td>Human    </td><td>Attack of the Clones</td><td></td><td></td></tr>\n",
       "\t<tr><td>Dooku              </td><td>193</td><td> 80.0</td><td>white  </td><td>fair               </td><td>brown        </td><td>102</td><td>male  </td><td>masculine</td><td>Serenno     </td><td>Human    </td><td>Attack of the Clones, Revenge of the Sith </td><td>Flitknot speeder</td><td></td></tr>\n",
       "\t<tr><td>Bail Prestor Organa</td><td>191</td><td>   NA</td><td>black  </td><td>tan                </td><td>brown        </td><td> 67</td><td>male  </td><td>masculine</td><td>Alderaan    </td><td>Human    </td><td>Attack of the Clones, Revenge of the Sith </td><td></td><td></td></tr>\n",
       "\t<tr><td>Jango Fett         </td><td>183</td><td> 79.0</td><td>black  </td><td>tan                </td><td>brown        </td><td> 66</td><td>male  </td><td>masculine</td><td>Concord Dawn</td><td>Human    </td><td>Attack of the Clones</td><td></td><td></td></tr>\n",
       "\t<tr><td>Zam Wesell         </td><td>168</td><td> 55.0</td><td>blonde </td><td>fair, green, yellow</td><td>yellow       </td><td> NA</td><td>female</td><td>feminine </td><td>Zolan       </td><td>Clawdite </td><td>Attack of the Clones</td><td>Koro-2 Exodrive airspeeder</td><td></td></tr>\n",
       "\t<tr><td>Dexter Jettster    </td><td>198</td><td>102.0</td><td>none   </td><td>brown              </td><td>yellow       </td><td> NA</td><td>male  </td><td>masculine</td><td>Ojom        </td><td>Besalisk </td><td>Attack of the Clones</td><td></td><td></td></tr>\n",
       "\t<tr><td>Lama Su            </td><td>229</td><td> 88.0</td><td>none   </td><td>grey               </td><td>black        </td><td> NA</td><td>male  </td><td>masculine</td><td>Kamino      </td><td>Kaminoan </td><td>Attack of the Clones</td><td></td><td></td></tr>\n",
       "\t<tr><td>Taun We            </td><td>213</td><td>   NA</td><td>none   </td><td>grey               </td><td>black        </td><td> NA</td><td>female</td><td>feminine </td><td>Kamino      </td><td>Kaminoan </td><td>Attack of the Clones</td><td></td><td></td></tr>\n",
       "\t<tr><td>Jocasta Nu         </td><td>167</td><td>   NA</td><td>white  </td><td>fair               </td><td>blue         </td><td> NA</td><td>female</td><td>feminine </td><td>Coruscant   </td><td>Human    </td><td>Attack of the Clones</td><td></td><td></td></tr>\n",
       "\t<tr><td>Ratts Tyerell      </td><td> 79</td><td> 15.0</td><td>none   </td><td>grey, blue         </td><td>unknown      </td><td> NA</td><td>male  </td><td>masculine</td><td>Aleen Minor </td><td>Aleena   </td><td>The Phantom Menace</td><td></td><td></td></tr>\n",
       "\t<tr><td>R4-P17             </td><td> 96</td><td>   NA</td><td>none   </td><td>silver, red        </td><td>red, blue    </td><td> NA</td><td>none  </td><td>feminine </td><td>NA          </td><td>Droid    </td><td>Attack of the Clones, Revenge of the Sith </td><td></td><td></td></tr>\n",
       "\t<tr><td>Wat Tambor         </td><td>193</td><td> 48.0</td><td>none   </td><td>green, grey        </td><td>unknown      </td><td> NA</td><td>male  </td><td>masculine</td><td>Skako       </td><td>Skakoan  </td><td>Attack of the Clones</td><td></td><td></td></tr>\n",
       "\t<tr><td>San Hill           </td><td>191</td><td>   NA</td><td>none   </td><td>grey               </td><td>gold         </td><td> NA</td><td>male  </td><td>masculine</td><td>Muunilinst  </td><td>Muun     </td><td>Attack of the Clones</td><td></td><td></td></tr>\n",
       "\t<tr><td>Shaak Ti           </td><td>178</td><td> 57.0</td><td>none   </td><td>red, blue, white   </td><td>black        </td><td> NA</td><td>female</td><td>feminine </td><td>Shili       </td><td>Togruta  </td><td>Attack of the Clones, Revenge of the Sith </td><td></td><td></td></tr>\n",
       "\t<tr><td>Grievous           </td><td>216</td><td>159.0</td><td>none   </td><td>brown, white       </td><td>green, yellow</td><td> NA</td><td>male  </td><td>masculine</td><td>Kalee       </td><td>Kaleesh  </td><td>Revenge of the Sith</td><td>Tsmeu-6 personal wheel bike</td><td>Belbullab-22 starfighter</td></tr>\n",
       "\t<tr><td>Tarfful            </td><td>234</td><td>136.0</td><td>brown  </td><td>brown              </td><td>blue         </td><td> NA</td><td>male  </td><td>masculine</td><td>Kashyyyk    </td><td>Wookiee  </td><td>Revenge of the Sith</td><td></td><td></td></tr>\n",
       "\t<tr><td>Raymus Antilles    </td><td>188</td><td> 79.0</td><td>brown  </td><td>light              </td><td>brown        </td><td> NA</td><td>male  </td><td>masculine</td><td>Alderaan    </td><td>Human    </td><td>Revenge of the Sith, A New Hope         </td><td></td><td></td></tr>\n",
       "\t<tr><td>Sly Moore          </td><td>178</td><td> 48.0</td><td>none   </td><td>pale               </td><td>white        </td><td> NA</td><td>NA    </td><td>NA       </td><td>Umbara      </td><td>NA       </td><td>Attack of the Clones, Revenge of the Sith </td><td></td><td></td></tr>\n",
       "\t<tr><td>Tion Medon         </td><td>206</td><td> 80.0</td><td>none   </td><td>grey               </td><td>black        </td><td> NA</td><td>male  </td><td>masculine</td><td>Utapau      </td><td>Pau'an   </td><td>Revenge of the Sith</td><td></td><td></td></tr>\n",
       "\t<tr><td>Finn               </td><td> NA</td><td>   NA</td><td>black  </td><td>dark               </td><td>dark         </td><td> NA</td><td>male  </td><td>masculine</td><td>NA          </td><td>Human    </td><td>The Force Awakens</td><td></td><td></td></tr>\n",
       "\t<tr><td>Rey                </td><td> NA</td><td>   NA</td><td>brown  </td><td>light              </td><td>hazel        </td><td> NA</td><td>female</td><td>feminine </td><td>NA          </td><td>Human    </td><td>The Force Awakens</td><td></td><td></td></tr>\n",
       "\t<tr><td>Poe Dameron        </td><td> NA</td><td>   NA</td><td>brown  </td><td>light              </td><td>brown        </td><td> NA</td><td>male  </td><td>masculine</td><td>NA          </td><td>Human    </td><td>The Force Awakens</td><td></td><td>T-70 X-wing fighter</td></tr>\n",
       "\t<tr><td>BB8                </td><td> NA</td><td>   NA</td><td>none   </td><td>none               </td><td>black        </td><td> NA</td><td>none  </td><td>masculine</td><td>NA          </td><td>Droid    </td><td>The Force Awakens</td><td></td><td></td></tr>\n",
       "\t<tr><td>Captain Phasma     </td><td> NA</td><td>   NA</td><td>unknown</td><td>unknown            </td><td>unknown      </td><td> NA</td><td>NA    </td><td>NA       </td><td>NA          </td><td>NA       </td><td>The Force Awakens</td><td></td><td></td></tr>\n",
       "\t<tr><td>Padmé Amidala      </td><td>165</td><td> 45.0</td><td>brown  </td><td>light              </td><td>brown        </td><td> 46</td><td>female</td><td>feminine </td><td>Naboo       </td><td>Human    </td><td>Attack of the Clones, The Phantom Menace  , Revenge of the Sith </td><td></td><td>H-type Nubian yacht, Naboo star skiff   , Naboo fighter      </td></tr>\n",
       "</tbody>\n",
       "</table>\n"
      ],
      "text/latex": [
       "A tibble: 87 × 14\n",
       "\\begin{tabular}{llllllllllllll}\n",
       " name & height & mass & hair\\_color & skin\\_color & eye\\_color & birth\\_year & sex & gender & homeworld & species & films & vehicles & starships\\\\\n",
       " <chr> & <int> & <dbl> & <chr> & <chr> & <chr> & <dbl> & <chr> & <chr> & <chr> & <chr> & <list> & <list> & <list>\\\\\n",
       "\\hline\n",
       "\t Luke Skywalker        & 172 &   77.0 & blond         & fair             & blue      &  19.0 & male           & masculine & Tatooine   & Human          & The Empire Strikes Back, Revenge of the Sith    , Return of the Jedi     , A New Hope             , The Force Awakens       & Snowspeeder          , Imperial Speeder Bike & X-wing          , Imperial shuttle\\\\\n",
       "\t C-3PO                 & 167 &   75.0 & NA            & gold             & yellow    & 112.0 & none           & masculine & Tatooine   & Droid          & The Empire Strikes Back, Attack of the Clones   , The Phantom Menace     , Revenge of the Sith    , Return of the Jedi     , A New Hope              &  & \\\\\n",
       "\t R2-D2                 &  96 &   32.0 & NA            & white, blue      & red       &  33.0 & none           & masculine & Naboo      & Droid          & The Empire Strikes Back, Attack of the Clones   , The Phantom Menace     , Revenge of the Sith    , Return of the Jedi     , A New Hope             , The Force Awakens       &  & \\\\\n",
       "\t Darth Vader           & 202 &  136.0 & none          & white            & yellow    &  41.9 & male           & masculine & Tatooine   & Human          & The Empire Strikes Back, Revenge of the Sith    , Return of the Jedi     , A New Hope              &  & TIE Advanced x1\\\\\n",
       "\t Leia Organa           & 150 &   49.0 & brown         & light            & brown     &  19.0 & female         & feminine  & Alderaan   & Human          & The Empire Strikes Back, Revenge of the Sith    , Return of the Jedi     , A New Hope             , The Force Awakens       & Imperial Speeder Bike & \\\\\n",
       "\t Owen Lars             & 178 &  120.0 & brown, grey   & light            & blue      &  52.0 & male           & masculine & Tatooine   & Human          & Attack of the Clones, Revenge of the Sith , A New Hope           &  & \\\\\n",
       "\t Beru Whitesun lars    & 165 &   75.0 & brown         & light            & blue      &  47.0 & female         & feminine  & Tatooine   & Human          & Attack of the Clones, Revenge of the Sith , A New Hope           &  & \\\\\n",
       "\t R5-D4                 &  97 &   32.0 & NA            & white, red       & red       &    NA & none           & masculine & Tatooine   & Droid          & A New Hope &  & \\\\\n",
       "\t Biggs Darklighter     & 183 &   84.0 & black         & light            & brown     &  24.0 & male           & masculine & Tatooine   & Human          & A New Hope &  & X-wing\\\\\n",
       "\t Obi-Wan Kenobi        & 182 &   77.0 & auburn, white & fair             & blue-gray &  57.0 & male           & masculine & Stewjon    & Human          & The Empire Strikes Back, Attack of the Clones   , The Phantom Menace     , Revenge of the Sith    , Return of the Jedi     , A New Hope              & Tribubble bongo & Jedi starfighter        , Trade Federation cruiser, Naboo star skiff        , Jedi Interceptor        , Belbullab-22 starfighter\\\\\n",
       "\t Anakin Skywalker      & 188 &   84.0 & blond         & fair             & blue      &  41.9 & male           & masculine & Tatooine   & Human          & Attack of the Clones, The Phantom Menace  , Revenge of the Sith  & Zephyr-G swoop bike, XJ-6 airspeeder     & Trade Federation cruiser, Jedi Interceptor        , Naboo fighter           \\\\\n",
       "\t Wilhuff Tarkin        & 180 &     NA & auburn, grey  & fair             & blue      &  64.0 & male           & masculine & Eriadu     & Human          & Revenge of the Sith, A New Hope          &  & \\\\\n",
       "\t Chewbacca             & 228 &  112.0 & brown         & unknown          & blue      & 200.0 & male           & masculine & Kashyyyk   & Wookiee        & The Empire Strikes Back, Revenge of the Sith    , Return of the Jedi     , A New Hope             , The Force Awakens       & AT-ST & Millennium Falcon, Imperial shuttle \\\\\n",
       "\t Han Solo              & 180 &   80.0 & brown         & fair             & brown     &  29.0 & male           & masculine & Corellia   & Human          & The Empire Strikes Back, Return of the Jedi     , A New Hope             , The Force Awakens       &  & Millennium Falcon, Imperial shuttle \\\\\n",
       "\t Greedo                & 173 &   74.0 & NA            & green            & black     &  44.0 & male           & masculine & Rodia      & Rodian         & A New Hope &  & \\\\\n",
       "\t Jabba Desilijic Tiure & 175 & 1358.0 & NA            & green-tan, brown & orange    & 600.0 & hermaphroditic & masculine & Nal Hutta  & Hutt           & The Phantom Menace, Return of the Jedi, A New Hope         &  & \\\\\n",
       "\t Wedge Antilles        & 170 &   77.0 & brown         & fair             & hazel     &  21.0 & male           & masculine & Corellia   & Human          & The Empire Strikes Back, Return of the Jedi     , A New Hope              & Snowspeeder & X-wing\\\\\n",
       "\t Jek Tono Porkins      & 180 &  110.0 & brown         & fair             & blue      &    NA & male           & masculine & Bestine IV & Human          & A New Hope &  & X-wing\\\\\n",
       "\t Yoda                  &  66 &   17.0 & white         & green            & brown     & 896.0 & male           & masculine & NA         & Yoda's species & The Empire Strikes Back, Attack of the Clones   , The Phantom Menace     , Revenge of the Sith    , Return of the Jedi      &  & \\\\\n",
       "\t Palpatine             & 170 &   75.0 & grey          & pale             & yellow    &  82.0 & male           & masculine & Naboo      & Human          & The Empire Strikes Back, Attack of the Clones   , The Phantom Menace     , Revenge of the Sith    , Return of the Jedi      &  & \\\\\n",
       "\t Boba Fett             & 183 &   78.2 & black         & fair             & brown     &  31.5 & male           & masculine & Kamino     & Human          & The Empire Strikes Back, Attack of the Clones   , Return of the Jedi      &  & Slave 1\\\\\n",
       "\t IG-88                 & 200 &  140.0 & none          & metal            & red       &  15.0 & none           & masculine & NA         & Droid          & The Empire Strikes Back &  & \\\\\n",
       "\t Bossk                 & 190 &  113.0 & none          & green            & red       &  53.0 & male           & masculine & Trandosha  & Trandoshan     & The Empire Strikes Back &  & \\\\\n",
       "\t Lando Calrissian      & 177 &   79.0 & black         & dark             & brown     &  31.0 & male           & masculine & Socorro    & Human          & The Empire Strikes Back, Return of the Jedi      &  & Millennium Falcon\\\\\n",
       "\t Lobot                 & 175 &   79.0 & none          & light            & blue      &  37.0 & male           & masculine & Bespin     & Human          & The Empire Strikes Back &  & \\\\\n",
       "\t Ackbar                & 180 &   83.0 & none          & brown mottle     & orange    &  41.0 & male           & masculine & Mon Cala   & Mon Calamari   & Return of the Jedi, The Force Awakens  &  & \\\\\n",
       "\t Mon Mothma            & 150 &     NA & auburn        & fair             & blue      &  48.0 & female         & feminine  & Chandrila  & Human          & Return of the Jedi &  & \\\\\n",
       "\t Arvel Crynyd          &  NA &     NA & brown         & fair             & brown     &    NA & male           & masculine & NA         & Human          & Return of the Jedi &  & A-wing\\\\\n",
       "\t Wicket Systri Warrick &  88 &   20.0 & brown         & brown            & brown     &   8.0 & male           & masculine & Endor      & Ewok           & Return of the Jedi &  & \\\\\n",
       "\t Nien Nunb             & 160 &   68.0 & none          & grey             & black     &    NA & male           & masculine & Sullust    & Sullustan      & Return of the Jedi &  & Millennium Falcon\\\\\n",
       "\t ⋮ & ⋮ & ⋮ & ⋮ & ⋮ & ⋮ & ⋮ & ⋮ & ⋮ & ⋮ & ⋮ & ⋮ & ⋮ & ⋮\\\\\n",
       "\t Cordé               & 157 &    NA & brown   & light               & brown         &  NA & female & feminine  & Naboo        & Human     & Attack of the Clones &  & \\\\\n",
       "\t Cliegg Lars         & 183 &    NA & brown   & fair                & blue          &  82 & male   & masculine & Tatooine     & Human     & Attack of the Clones &  & \\\\\n",
       "\t Poggle the Lesser   & 183 &  80.0 & none    & green               & yellow        &  NA & male   & masculine & Geonosis     & Geonosian & Attack of the Clones, Revenge of the Sith  &  & \\\\\n",
       "\t Luminara Unduli     & 170 &  56.2 & black   & yellow              & blue          &  58 & female & feminine  & Mirial       & Mirialan  & Attack of the Clones, Revenge of the Sith  &  & \\\\\n",
       "\t Barriss Offee       & 166 &  50.0 & black   & yellow              & blue          &  40 & female & feminine  & Mirial       & Mirialan  & Attack of the Clones &  & \\\\\n",
       "\t Dormé               & 165 &    NA & brown   & light               & brown         &  NA & female & feminine  & Naboo        & Human     & Attack of the Clones &  & \\\\\n",
       "\t Dooku               & 193 &  80.0 & white   & fair                & brown         & 102 & male   & masculine & Serenno      & Human     & Attack of the Clones, Revenge of the Sith  & Flitknot speeder & \\\\\n",
       "\t Bail Prestor Organa & 191 &    NA & black   & tan                 & brown         &  67 & male   & masculine & Alderaan     & Human     & Attack of the Clones, Revenge of the Sith  &  & \\\\\n",
       "\t Jango Fett          & 183 &  79.0 & black   & tan                 & brown         &  66 & male   & masculine & Concord Dawn & Human     & Attack of the Clones &  & \\\\\n",
       "\t Zam Wesell          & 168 &  55.0 & blonde  & fair, green, yellow & yellow        &  NA & female & feminine  & Zolan        & Clawdite  & Attack of the Clones & Koro-2 Exodrive airspeeder & \\\\\n",
       "\t Dexter Jettster     & 198 & 102.0 & none    & brown               & yellow        &  NA & male   & masculine & Ojom         & Besalisk  & Attack of the Clones &  & \\\\\n",
       "\t Lama Su             & 229 &  88.0 & none    & grey                & black         &  NA & male   & masculine & Kamino       & Kaminoan  & Attack of the Clones &  & \\\\\n",
       "\t Taun We             & 213 &    NA & none    & grey                & black         &  NA & female & feminine  & Kamino       & Kaminoan  & Attack of the Clones &  & \\\\\n",
       "\t Jocasta Nu          & 167 &    NA & white   & fair                & blue          &  NA & female & feminine  & Coruscant    & Human     & Attack of the Clones &  & \\\\\n",
       "\t Ratts Tyerell       &  79 &  15.0 & none    & grey, blue          & unknown       &  NA & male   & masculine & Aleen Minor  & Aleena    & The Phantom Menace &  & \\\\\n",
       "\t R4-P17              &  96 &    NA & none    & silver, red         & red, blue     &  NA & none   & feminine  & NA           & Droid     & Attack of the Clones, Revenge of the Sith  &  & \\\\\n",
       "\t Wat Tambor          & 193 &  48.0 & none    & green, grey         & unknown       &  NA & male   & masculine & Skako        & Skakoan   & Attack of the Clones &  & \\\\\n",
       "\t San Hill            & 191 &    NA & none    & grey                & gold          &  NA & male   & masculine & Muunilinst   & Muun      & Attack of the Clones &  & \\\\\n",
       "\t Shaak Ti            & 178 &  57.0 & none    & red, blue, white    & black         &  NA & female & feminine  & Shili        & Togruta   & Attack of the Clones, Revenge of the Sith  &  & \\\\\n",
       "\t Grievous            & 216 & 159.0 & none    & brown, white        & green, yellow &  NA & male   & masculine & Kalee        & Kaleesh   & Revenge of the Sith & Tsmeu-6 personal wheel bike & Belbullab-22 starfighter\\\\\n",
       "\t Tarfful             & 234 & 136.0 & brown   & brown               & blue          &  NA & male   & masculine & Kashyyyk     & Wookiee   & Revenge of the Sith &  & \\\\\n",
       "\t Raymus Antilles     & 188 &  79.0 & brown   & light               & brown         &  NA & male   & masculine & Alderaan     & Human     & Revenge of the Sith, A New Hope          &  & \\\\\n",
       "\t Sly Moore           & 178 &  48.0 & none    & pale                & white         &  NA & NA     & NA        & Umbara       & NA        & Attack of the Clones, Revenge of the Sith  &  & \\\\\n",
       "\t Tion Medon          & 206 &  80.0 & none    & grey                & black         &  NA & male   & masculine & Utapau       & Pau'an    & Revenge of the Sith &  & \\\\\n",
       "\t Finn                &  NA &    NA & black   & dark                & dark          &  NA & male   & masculine & NA           & Human     & The Force Awakens &  & \\\\\n",
       "\t Rey                 &  NA &    NA & brown   & light               & hazel         &  NA & female & feminine  & NA           & Human     & The Force Awakens &  & \\\\\n",
       "\t Poe Dameron         &  NA &    NA & brown   & light               & brown         &  NA & male   & masculine & NA           & Human     & The Force Awakens &  & T-70 X-wing fighter\\\\\n",
       "\t BB8                 &  NA &    NA & none    & none                & black         &  NA & none   & masculine & NA           & Droid     & The Force Awakens &  & \\\\\n",
       "\t Captain Phasma      &  NA &    NA & unknown & unknown             & unknown       &  NA & NA     & NA        & NA           & NA        & The Force Awakens &  & \\\\\n",
       "\t Padmé Amidala       & 165 &  45.0 & brown   & light               & brown         &  46 & female & feminine  & Naboo        & Human     & Attack of the Clones, The Phantom Menace  , Revenge of the Sith  &  & H-type Nubian yacht, Naboo star skiff   , Naboo fighter      \\\\\n",
       "\\end{tabular}\n"
      ],
      "text/markdown": [
       "\n",
       "A tibble: 87 × 14\n",
       "\n",
       "| name &lt;chr&gt; | height &lt;int&gt; | mass &lt;dbl&gt; | hair_color &lt;chr&gt; | skin_color &lt;chr&gt; | eye_color &lt;chr&gt; | birth_year &lt;dbl&gt; | sex &lt;chr&gt; | gender &lt;chr&gt; | homeworld &lt;chr&gt; | species &lt;chr&gt; | films &lt;list&gt; | vehicles &lt;list&gt; | starships &lt;list&gt; |\n",
       "|---|---|---|---|---|---|---|---|---|---|---|---|---|---|\n",
       "| Luke Skywalker        | 172 |   77.0 | blond         | fair             | blue      |  19.0 | male           | masculine | Tatooine   | Human          | The Empire Strikes Back, Revenge of the Sith    , Return of the Jedi     , A New Hope             , The Force Awakens       | Snowspeeder          , Imperial Speeder Bike | X-wing          , Imperial shuttle |\n",
       "| C-3PO                 | 167 |   75.0 | NA            | gold             | yellow    | 112.0 | none           | masculine | Tatooine   | Droid          | The Empire Strikes Back, Attack of the Clones   , The Phantom Menace     , Revenge of the Sith    , Return of the Jedi     , A New Hope              | <!----> | <!----> |\n",
       "| R2-D2                 |  96 |   32.0 | NA            | white, blue      | red       |  33.0 | none           | masculine | Naboo      | Droid          | The Empire Strikes Back, Attack of the Clones   , The Phantom Menace     , Revenge of the Sith    , Return of the Jedi     , A New Hope             , The Force Awakens       | <!----> | <!----> |\n",
       "| Darth Vader           | 202 |  136.0 | none          | white            | yellow    |  41.9 | male           | masculine | Tatooine   | Human          | The Empire Strikes Back, Revenge of the Sith    , Return of the Jedi     , A New Hope              | <!----> | TIE Advanced x1 |\n",
       "| Leia Organa           | 150 |   49.0 | brown         | light            | brown     |  19.0 | female         | feminine  | Alderaan   | Human          | The Empire Strikes Back, Revenge of the Sith    , Return of the Jedi     , A New Hope             , The Force Awakens       | Imperial Speeder Bike | <!----> |\n",
       "| Owen Lars             | 178 |  120.0 | brown, grey   | light            | blue      |  52.0 | male           | masculine | Tatooine   | Human          | Attack of the Clones, Revenge of the Sith , A New Hope           | <!----> | <!----> |\n",
       "| Beru Whitesun lars    | 165 |   75.0 | brown         | light            | blue      |  47.0 | female         | feminine  | Tatooine   | Human          | Attack of the Clones, Revenge of the Sith , A New Hope           | <!----> | <!----> |\n",
       "| R5-D4                 |  97 |   32.0 | NA            | white, red       | red       |    NA | none           | masculine | Tatooine   | Droid          | A New Hope | <!----> | <!----> |\n",
       "| Biggs Darklighter     | 183 |   84.0 | black         | light            | brown     |  24.0 | male           | masculine | Tatooine   | Human          | A New Hope | <!----> | X-wing |\n",
       "| Obi-Wan Kenobi        | 182 |   77.0 | auburn, white | fair             | blue-gray |  57.0 | male           | masculine | Stewjon    | Human          | The Empire Strikes Back, Attack of the Clones   , The Phantom Menace     , Revenge of the Sith    , Return of the Jedi     , A New Hope              | Tribubble bongo | Jedi starfighter        , Trade Federation cruiser, Naboo star skiff        , Jedi Interceptor        , Belbullab-22 starfighter |\n",
       "| Anakin Skywalker      | 188 |   84.0 | blond         | fair             | blue      |  41.9 | male           | masculine | Tatooine   | Human          | Attack of the Clones, The Phantom Menace  , Revenge of the Sith  | Zephyr-G swoop bike, XJ-6 airspeeder     | Trade Federation cruiser, Jedi Interceptor        , Naboo fighter            |\n",
       "| Wilhuff Tarkin        | 180 |     NA | auburn, grey  | fair             | blue      |  64.0 | male           | masculine | Eriadu     | Human          | Revenge of the Sith, A New Hope          | <!----> | <!----> |\n",
       "| Chewbacca             | 228 |  112.0 | brown         | unknown          | blue      | 200.0 | male           | masculine | Kashyyyk   | Wookiee        | The Empire Strikes Back, Revenge of the Sith    , Return of the Jedi     , A New Hope             , The Force Awakens       | AT-ST | Millennium Falcon, Imperial shuttle  |\n",
       "| Han Solo              | 180 |   80.0 | brown         | fair             | brown     |  29.0 | male           | masculine | Corellia   | Human          | The Empire Strikes Back, Return of the Jedi     , A New Hope             , The Force Awakens       | <!----> | Millennium Falcon, Imperial shuttle  |\n",
       "| Greedo                | 173 |   74.0 | NA            | green            | black     |  44.0 | male           | masculine | Rodia      | Rodian         | A New Hope | <!----> | <!----> |\n",
       "| Jabba Desilijic Tiure | 175 | 1358.0 | NA            | green-tan, brown | orange    | 600.0 | hermaphroditic | masculine | Nal Hutta  | Hutt           | The Phantom Menace, Return of the Jedi, A New Hope         | <!----> | <!----> |\n",
       "| Wedge Antilles        | 170 |   77.0 | brown         | fair             | hazel     |  21.0 | male           | masculine | Corellia   | Human          | The Empire Strikes Back, Return of the Jedi     , A New Hope              | Snowspeeder | X-wing |\n",
       "| Jek Tono Porkins      | 180 |  110.0 | brown         | fair             | blue      |    NA | male           | masculine | Bestine IV | Human          | A New Hope | <!----> | X-wing |\n",
       "| Yoda                  |  66 |   17.0 | white         | green            | brown     | 896.0 | male           | masculine | NA         | Yoda's species | The Empire Strikes Back, Attack of the Clones   , The Phantom Menace     , Revenge of the Sith    , Return of the Jedi      | <!----> | <!----> |\n",
       "| Palpatine             | 170 |   75.0 | grey          | pale             | yellow    |  82.0 | male           | masculine | Naboo      | Human          | The Empire Strikes Back, Attack of the Clones   , The Phantom Menace     , Revenge of the Sith    , Return of the Jedi      | <!----> | <!----> |\n",
       "| Boba Fett             | 183 |   78.2 | black         | fair             | brown     |  31.5 | male           | masculine | Kamino     | Human          | The Empire Strikes Back, Attack of the Clones   , Return of the Jedi      | <!----> | Slave 1 |\n",
       "| IG-88                 | 200 |  140.0 | none          | metal            | red       |  15.0 | none           | masculine | NA         | Droid          | The Empire Strikes Back | <!----> | <!----> |\n",
       "| Bossk                 | 190 |  113.0 | none          | green            | red       |  53.0 | male           | masculine | Trandosha  | Trandoshan     | The Empire Strikes Back | <!----> | <!----> |\n",
       "| Lando Calrissian      | 177 |   79.0 | black         | dark             | brown     |  31.0 | male           | masculine | Socorro    | Human          | The Empire Strikes Back, Return of the Jedi      | <!----> | Millennium Falcon |\n",
       "| Lobot                 | 175 |   79.0 | none          | light            | blue      |  37.0 | male           | masculine | Bespin     | Human          | The Empire Strikes Back | <!----> | <!----> |\n",
       "| Ackbar                | 180 |   83.0 | none          | brown mottle     | orange    |  41.0 | male           | masculine | Mon Cala   | Mon Calamari   | Return of the Jedi, The Force Awakens  | <!----> | <!----> |\n",
       "| Mon Mothma            | 150 |     NA | auburn        | fair             | blue      |  48.0 | female         | feminine  | Chandrila  | Human          | Return of the Jedi | <!----> | <!----> |\n",
       "| Arvel Crynyd          |  NA |     NA | brown         | fair             | brown     |    NA | male           | masculine | NA         | Human          | Return of the Jedi | <!----> | A-wing |\n",
       "| Wicket Systri Warrick |  88 |   20.0 | brown         | brown            | brown     |   8.0 | male           | masculine | Endor      | Ewok           | Return of the Jedi | <!----> | <!----> |\n",
       "| Nien Nunb             | 160 |   68.0 | none          | grey             | black     |    NA | male           | masculine | Sullust    | Sullustan      | Return of the Jedi | <!----> | Millennium Falcon |\n",
       "| ⋮ | ⋮ | ⋮ | ⋮ | ⋮ | ⋮ | ⋮ | ⋮ | ⋮ | ⋮ | ⋮ | ⋮ | ⋮ | ⋮ |\n",
       "| Cordé               | 157 |    NA | brown   | light               | brown         |  NA | female | feminine  | Naboo        | Human     | Attack of the Clones | <!----> | <!----> |\n",
       "| Cliegg Lars         | 183 |    NA | brown   | fair                | blue          |  82 | male   | masculine | Tatooine     | Human     | Attack of the Clones | <!----> | <!----> |\n",
       "| Poggle the Lesser   | 183 |  80.0 | none    | green               | yellow        |  NA | male   | masculine | Geonosis     | Geonosian | Attack of the Clones, Revenge of the Sith  | <!----> | <!----> |\n",
       "| Luminara Unduli     | 170 |  56.2 | black   | yellow              | blue          |  58 | female | feminine  | Mirial       | Mirialan  | Attack of the Clones, Revenge of the Sith  | <!----> | <!----> |\n",
       "| Barriss Offee       | 166 |  50.0 | black   | yellow              | blue          |  40 | female | feminine  | Mirial       | Mirialan  | Attack of the Clones | <!----> | <!----> |\n",
       "| Dormé               | 165 |    NA | brown   | light               | brown         |  NA | female | feminine  | Naboo        | Human     | Attack of the Clones | <!----> | <!----> |\n",
       "| Dooku               | 193 |  80.0 | white   | fair                | brown         | 102 | male   | masculine | Serenno      | Human     | Attack of the Clones, Revenge of the Sith  | Flitknot speeder | <!----> |\n",
       "| Bail Prestor Organa | 191 |    NA | black   | tan                 | brown         |  67 | male   | masculine | Alderaan     | Human     | Attack of the Clones, Revenge of the Sith  | <!----> | <!----> |\n",
       "| Jango Fett          | 183 |  79.0 | black   | tan                 | brown         |  66 | male   | masculine | Concord Dawn | Human     | Attack of the Clones | <!----> | <!----> |\n",
       "| Zam Wesell          | 168 |  55.0 | blonde  | fair, green, yellow | yellow        |  NA | female | feminine  | Zolan        | Clawdite  | Attack of the Clones | Koro-2 Exodrive airspeeder | <!----> |\n",
       "| Dexter Jettster     | 198 | 102.0 | none    | brown               | yellow        |  NA | male   | masculine | Ojom         | Besalisk  | Attack of the Clones | <!----> | <!----> |\n",
       "| Lama Su             | 229 |  88.0 | none    | grey                | black         |  NA | male   | masculine | Kamino       | Kaminoan  | Attack of the Clones | <!----> | <!----> |\n",
       "| Taun We             | 213 |    NA | none    | grey                | black         |  NA | female | feminine  | Kamino       | Kaminoan  | Attack of the Clones | <!----> | <!----> |\n",
       "| Jocasta Nu          | 167 |    NA | white   | fair                | blue          |  NA | female | feminine  | Coruscant    | Human     | Attack of the Clones | <!----> | <!----> |\n",
       "| Ratts Tyerell       |  79 |  15.0 | none    | grey, blue          | unknown       |  NA | male   | masculine | Aleen Minor  | Aleena    | The Phantom Menace | <!----> | <!----> |\n",
       "| R4-P17              |  96 |    NA | none    | silver, red         | red, blue     |  NA | none   | feminine  | NA           | Droid     | Attack of the Clones, Revenge of the Sith  | <!----> | <!----> |\n",
       "| Wat Tambor          | 193 |  48.0 | none    | green, grey         | unknown       |  NA | male   | masculine | Skako        | Skakoan   | Attack of the Clones | <!----> | <!----> |\n",
       "| San Hill            | 191 |    NA | none    | grey                | gold          |  NA | male   | masculine | Muunilinst   | Muun      | Attack of the Clones | <!----> | <!----> |\n",
       "| Shaak Ti            | 178 |  57.0 | none    | red, blue, white    | black         |  NA | female | feminine  | Shili        | Togruta   | Attack of the Clones, Revenge of the Sith  | <!----> | <!----> |\n",
       "| Grievous            | 216 | 159.0 | none    | brown, white        | green, yellow |  NA | male   | masculine | Kalee        | Kaleesh   | Revenge of the Sith | Tsmeu-6 personal wheel bike | Belbullab-22 starfighter |\n",
       "| Tarfful             | 234 | 136.0 | brown   | brown               | blue          |  NA | male   | masculine | Kashyyyk     | Wookiee   | Revenge of the Sith | <!----> | <!----> |\n",
       "| Raymus Antilles     | 188 |  79.0 | brown   | light               | brown         |  NA | male   | masculine | Alderaan     | Human     | Revenge of the Sith, A New Hope          | <!----> | <!----> |\n",
       "| Sly Moore           | 178 |  48.0 | none    | pale                | white         |  NA | NA     | NA        | Umbara       | NA        | Attack of the Clones, Revenge of the Sith  | <!----> | <!----> |\n",
       "| Tion Medon          | 206 |  80.0 | none    | grey                | black         |  NA | male   | masculine | Utapau       | Pau'an    | Revenge of the Sith | <!----> | <!----> |\n",
       "| Finn                |  NA |    NA | black   | dark                | dark          |  NA | male   | masculine | NA           | Human     | The Force Awakens | <!----> | <!----> |\n",
       "| Rey                 |  NA |    NA | brown   | light               | hazel         |  NA | female | feminine  | NA           | Human     | The Force Awakens | <!----> | <!----> |\n",
       "| Poe Dameron         |  NA |    NA | brown   | light               | brown         |  NA | male   | masculine | NA           | Human     | The Force Awakens | <!----> | T-70 X-wing fighter |\n",
       "| BB8                 |  NA |    NA | none    | none                | black         |  NA | none   | masculine | NA           | Droid     | The Force Awakens | <!----> | <!----> |\n",
       "| Captain Phasma      |  NA |    NA | unknown | unknown             | unknown       |  NA | NA     | NA        | NA           | NA        | The Force Awakens | <!----> | <!----> |\n",
       "| Padmé Amidala       | 165 |  45.0 | brown   | light               | brown         |  46 | female | feminine  | Naboo        | Human     | Attack of the Clones, The Phantom Menace  , Revenge of the Sith  | <!----> | H-type Nubian yacht, Naboo star skiff   , Naboo fighter       |\n",
       "\n"
      ],
      "text/plain": [
       "   name                  height mass   hair_color    skin_color         \n",
       "1  Luke Skywalker        172      77.0 blond         fair               \n",
       "2  C-3PO                 167      75.0 NA            gold               \n",
       "3  R2-D2                  96      32.0 NA            white, blue        \n",
       "4  Darth Vader           202     136.0 none          white              \n",
       "5  Leia Organa           150      49.0 brown         light              \n",
       "6  Owen Lars             178     120.0 brown, grey   light              \n",
       "7  Beru Whitesun lars    165      75.0 brown         light              \n",
       "8  R5-D4                  97      32.0 NA            white, red         \n",
       "9  Biggs Darklighter     183      84.0 black         light              \n",
       "10 Obi-Wan Kenobi        182      77.0 auburn, white fair               \n",
       "11 Anakin Skywalker      188      84.0 blond         fair               \n",
       "12 Wilhuff Tarkin        180        NA auburn, grey  fair               \n",
       "13 Chewbacca             228     112.0 brown         unknown            \n",
       "14 Han Solo              180      80.0 brown         fair               \n",
       "15 Greedo                173      74.0 NA            green              \n",
       "16 Jabba Desilijic Tiure 175    1358.0 NA            green-tan, brown   \n",
       "17 Wedge Antilles        170      77.0 brown         fair               \n",
       "18 Jek Tono Porkins      180     110.0 brown         fair               \n",
       "19 Yoda                   66      17.0 white         green              \n",
       "20 Palpatine             170      75.0 grey          pale               \n",
       "21 Boba Fett             183      78.2 black         fair               \n",
       "22 IG-88                 200     140.0 none          metal              \n",
       "23 Bossk                 190     113.0 none          green              \n",
       "24 Lando Calrissian      177      79.0 black         dark               \n",
       "25 Lobot                 175      79.0 none          light              \n",
       "26 Ackbar                180      83.0 none          brown mottle       \n",
       "27 Mon Mothma            150        NA auburn        fair               \n",
       "28 Arvel Crynyd           NA        NA brown         fair               \n",
       "29 Wicket Systri Warrick  88      20.0 brown         brown              \n",
       "30 Nien Nunb             160      68.0 none          grey               \n",
       "⋮  ⋮                     ⋮      ⋮      ⋮             ⋮                  \n",
       "58 Cordé                 157       NA  brown         light              \n",
       "59 Cliegg Lars           183       NA  brown         fair               \n",
       "60 Poggle the Lesser     183     80.0  none          green              \n",
       "61 Luminara Unduli       170     56.2  black         yellow             \n",
       "62 Barriss Offee         166     50.0  black         yellow             \n",
       "63 Dormé                 165       NA  brown         light              \n",
       "64 Dooku                 193     80.0  white         fair               \n",
       "65 Bail Prestor Organa   191       NA  black         tan                \n",
       "66 Jango Fett            183     79.0  black         tan                \n",
       "67 Zam Wesell            168     55.0  blonde        fair, green, yellow\n",
       "68 Dexter Jettster       198    102.0  none          brown              \n",
       "69 Lama Su               229     88.0  none          grey               \n",
       "70 Taun We               213       NA  none          grey               \n",
       "71 Jocasta Nu            167       NA  white         fair               \n",
       "72 Ratts Tyerell          79     15.0  none          grey, blue         \n",
       "73 R4-P17                 96       NA  none          silver, red        \n",
       "74 Wat Tambor            193     48.0  none          green, grey        \n",
       "75 San Hill              191       NA  none          grey               \n",
       "76 Shaak Ti              178     57.0  none          red, blue, white   \n",
       "77 Grievous              216    159.0  none          brown, white       \n",
       "78 Tarfful               234    136.0  brown         brown              \n",
       "79 Raymus Antilles       188     79.0  brown         light              \n",
       "80 Sly Moore             178     48.0  none          pale               \n",
       "81 Tion Medon            206     80.0  none          grey               \n",
       "82 Finn                   NA       NA  black         dark               \n",
       "83 Rey                    NA       NA  brown         light              \n",
       "84 Poe Dameron            NA       NA  brown         light              \n",
       "85 BB8                    NA       NA  none          none               \n",
       "86 Captain Phasma         NA       NA  unknown       unknown            \n",
       "87 Padmé Amidala         165     45.0  brown         light              \n",
       "   eye_color     birth_year sex            gender    homeworld   \n",
       "1  blue           19.0      male           masculine Tatooine    \n",
       "2  yellow        112.0      none           masculine Tatooine    \n",
       "3  red            33.0      none           masculine Naboo       \n",
       "4  yellow         41.9      male           masculine Tatooine    \n",
       "5  brown          19.0      female         feminine  Alderaan    \n",
       "6  blue           52.0      male           masculine Tatooine    \n",
       "7  blue           47.0      female         feminine  Tatooine    \n",
       "8  red              NA      none           masculine Tatooine    \n",
       "9  brown          24.0      male           masculine Tatooine    \n",
       "10 blue-gray      57.0      male           masculine Stewjon     \n",
       "11 blue           41.9      male           masculine Tatooine    \n",
       "12 blue           64.0      male           masculine Eriadu      \n",
       "13 blue          200.0      male           masculine Kashyyyk    \n",
       "14 brown          29.0      male           masculine Corellia    \n",
       "15 black          44.0      male           masculine Rodia       \n",
       "16 orange        600.0      hermaphroditic masculine Nal Hutta   \n",
       "17 hazel          21.0      male           masculine Corellia    \n",
       "18 blue             NA      male           masculine Bestine IV  \n",
       "19 brown         896.0      male           masculine NA          \n",
       "20 yellow         82.0      male           masculine Naboo       \n",
       "21 brown          31.5      male           masculine Kamino      \n",
       "22 red            15.0      none           masculine NA          \n",
       "23 red            53.0      male           masculine Trandosha   \n",
       "24 brown          31.0      male           masculine Socorro     \n",
       "25 blue           37.0      male           masculine Bespin      \n",
       "26 orange         41.0      male           masculine Mon Cala    \n",
       "27 blue           48.0      female         feminine  Chandrila   \n",
       "28 brown            NA      male           masculine NA          \n",
       "29 brown           8.0      male           masculine Endor       \n",
       "30 black            NA      male           masculine Sullust     \n",
       "⋮  ⋮             ⋮          ⋮              ⋮         ⋮           \n",
       "58 brown          NA        female         feminine  Naboo       \n",
       "59 blue           82        male           masculine Tatooine    \n",
       "60 yellow         NA        male           masculine Geonosis    \n",
       "61 blue           58        female         feminine  Mirial      \n",
       "62 blue           40        female         feminine  Mirial      \n",
       "63 brown          NA        female         feminine  Naboo       \n",
       "64 brown         102        male           masculine Serenno     \n",
       "65 brown          67        male           masculine Alderaan    \n",
       "66 brown          66        male           masculine Concord Dawn\n",
       "67 yellow         NA        female         feminine  Zolan       \n",
       "68 yellow         NA        male           masculine Ojom        \n",
       "69 black          NA        male           masculine Kamino      \n",
       "70 black          NA        female         feminine  Kamino      \n",
       "71 blue           NA        female         feminine  Coruscant   \n",
       "72 unknown        NA        male           masculine Aleen Minor \n",
       "73 red, blue      NA        none           feminine  NA          \n",
       "74 unknown        NA        male           masculine Skako       \n",
       "75 gold           NA        male           masculine Muunilinst  \n",
       "76 black          NA        female         feminine  Shili       \n",
       "77 green, yellow  NA        male           masculine Kalee       \n",
       "78 blue           NA        male           masculine Kashyyyk    \n",
       "79 brown          NA        male           masculine Alderaan    \n",
       "80 white          NA        NA             NA        Umbara      \n",
       "81 black          NA        male           masculine Utapau      \n",
       "82 dark           NA        male           masculine NA          \n",
       "83 hazel          NA        female         feminine  NA          \n",
       "84 brown          NA        male           masculine NA          \n",
       "85 black          NA        none           masculine NA          \n",
       "86 unknown        NA        NA             NA        NA          \n",
       "87 brown          46        female         feminine  Naboo       \n",
       "   species       \n",
       "1  Human         \n",
       "2  Droid         \n",
       "3  Droid         \n",
       "4  Human         \n",
       "5  Human         \n",
       "6  Human         \n",
       "7  Human         \n",
       "8  Droid         \n",
       "9  Human         \n",
       "10 Human         \n",
       "11 Human         \n",
       "12 Human         \n",
       "13 Wookiee       \n",
       "14 Human         \n",
       "15 Rodian        \n",
       "16 Hutt          \n",
       "17 Human         \n",
       "18 Human         \n",
       "19 Yoda's species\n",
       "20 Human         \n",
       "21 Human         \n",
       "22 Droid         \n",
       "23 Trandoshan    \n",
       "24 Human         \n",
       "25 Human         \n",
       "26 Mon Calamari  \n",
       "27 Human         \n",
       "28 Human         \n",
       "29 Ewok          \n",
       "30 Sullustan     \n",
       "⋮  ⋮             \n",
       "58 Human         \n",
       "59 Human         \n",
       "60 Geonosian     \n",
       "61 Mirialan      \n",
       "62 Mirialan      \n",
       "63 Human         \n",
       "64 Human         \n",
       "65 Human         \n",
       "66 Human         \n",
       "67 Clawdite      \n",
       "68 Besalisk      \n",
       "69 Kaminoan      \n",
       "70 Kaminoan      \n",
       "71 Human         \n",
       "72 Aleena        \n",
       "73 Droid         \n",
       "74 Skakoan       \n",
       "75 Muun          \n",
       "76 Togruta       \n",
       "77 Kaleesh       \n",
       "78 Wookiee       \n",
       "79 Human         \n",
       "80 NA            \n",
       "81 Pau'an        \n",
       "82 Human         \n",
       "83 Human         \n",
       "84 Human         \n",
       "85 Droid         \n",
       "86 NA            \n",
       "87 Human         \n",
       "   films                                                                                                                                                                        \n",
       "1  The Empire Strikes Back, Revenge of the Sith    , Return of the Jedi     , A New Hope             , The Force Awakens                                                        \n",
       "2  The Empire Strikes Back, Attack of the Clones   , The Phantom Menace     , Revenge of the Sith    , Return of the Jedi     , A New Hope                                      \n",
       "3  The Empire Strikes Back, Attack of the Clones   , The Phantom Menace     , Revenge of the Sith    , Return of the Jedi     , A New Hope             , The Force Awakens      \n",
       "4  The Empire Strikes Back, Revenge of the Sith    , Return of the Jedi     , A New Hope                                                                                        \n",
       "5  The Empire Strikes Back, Revenge of the Sith    , Return of the Jedi     , A New Hope             , The Force Awakens                                                        \n",
       "6  Attack of the Clones, Revenge of the Sith , A New Hope                                                                                                                       \n",
       "7  Attack of the Clones, Revenge of the Sith , A New Hope                                                                                                                       \n",
       "8  A New Hope                                                                                                                                                                   \n",
       "9  A New Hope                                                                                                                                                                   \n",
       "10 The Empire Strikes Back, Attack of the Clones   , The Phantom Menace     , Revenge of the Sith    , Return of the Jedi     , A New Hope                                      \n",
       "11 Attack of the Clones, The Phantom Menace  , Revenge of the Sith                                                                                                              \n",
       "12 Revenge of the Sith, A New Hope                                                                                                                                              \n",
       "13 The Empire Strikes Back, Revenge of the Sith    , Return of the Jedi     , A New Hope             , The Force Awakens                                                        \n",
       "14 The Empire Strikes Back, Return of the Jedi     , A New Hope             , The Force Awakens                                                                                 \n",
       "15 A New Hope                                                                                                                                                                   \n",
       "16 The Phantom Menace, Return of the Jedi, A New Hope                                                                                                                           \n",
       "17 The Empire Strikes Back, Return of the Jedi     , A New Hope                                                                                                                 \n",
       "18 A New Hope                                                                                                                                                                   \n",
       "19 The Empire Strikes Back, Attack of the Clones   , The Phantom Menace     , Revenge of the Sith    , Return of the Jedi                                                       \n",
       "20 The Empire Strikes Back, Attack of the Clones   , The Phantom Menace     , Revenge of the Sith    , Return of the Jedi                                                       \n",
       "21 The Empire Strikes Back, Attack of the Clones   , Return of the Jedi                                                                                                         \n",
       "22 The Empire Strikes Back                                                                                                                                                      \n",
       "23 The Empire Strikes Back                                                                                                                                                      \n",
       "24 The Empire Strikes Back, Return of the Jedi                                                                                                                                  \n",
       "25 The Empire Strikes Back                                                                                                                                                      \n",
       "26 Return of the Jedi, The Force Awakens                                                                                                                                        \n",
       "27 Return of the Jedi                                                                                                                                                           \n",
       "28 Return of the Jedi                                                                                                                                                           \n",
       "29 Return of the Jedi                                                                                                                                                           \n",
       "30 Return of the Jedi                                                                                                                                                           \n",
       "⋮  ⋮                                                                                                                                                                            \n",
       "58 Attack of the Clones                                                                                                                                                         \n",
       "59 Attack of the Clones                                                                                                                                                         \n",
       "60 Attack of the Clones, Revenge of the Sith                                                                                                                                    \n",
       "61 Attack of the Clones, Revenge of the Sith                                                                                                                                    \n",
       "62 Attack of the Clones                                                                                                                                                         \n",
       "63 Attack of the Clones                                                                                                                                                         \n",
       "64 Attack of the Clones, Revenge of the Sith                                                                                                                                    \n",
       "65 Attack of the Clones, Revenge of the Sith                                                                                                                                    \n",
       "66 Attack of the Clones                                                                                                                                                         \n",
       "67 Attack of the Clones                                                                                                                                                         \n",
       "68 Attack of the Clones                                                                                                                                                         \n",
       "69 Attack of the Clones                                                                                                                                                         \n",
       "70 Attack of the Clones                                                                                                                                                         \n",
       "71 Attack of the Clones                                                                                                                                                         \n",
       "72 The Phantom Menace                                                                                                                                                           \n",
       "73 Attack of the Clones, Revenge of the Sith                                                                                                                                    \n",
       "74 Attack of the Clones                                                                                                                                                         \n",
       "75 Attack of the Clones                                                                                                                                                         \n",
       "76 Attack of the Clones, Revenge of the Sith                                                                                                                                    \n",
       "77 Revenge of the Sith                                                                                                                                                          \n",
       "78 Revenge of the Sith                                                                                                                                                          \n",
       "79 Revenge of the Sith, A New Hope                                                                                                                                              \n",
       "80 Attack of the Clones, Revenge of the Sith                                                                                                                                    \n",
       "81 Revenge of the Sith                                                                                                                                                          \n",
       "82 The Force Awakens                                                                                                                                                            \n",
       "83 The Force Awakens                                                                                                                                                            \n",
       "84 The Force Awakens                                                                                                                                                            \n",
       "85 The Force Awakens                                                                                                                                                            \n",
       "86 The Force Awakens                                                                                                                                                            \n",
       "87 Attack of the Clones, The Phantom Menace  , Revenge of the Sith                                                                                                              \n",
       "   vehicles                                    \n",
       "1  Snowspeeder          , Imperial Speeder Bike\n",
       "2                                              \n",
       "3                                              \n",
       "4                                              \n",
       "5  Imperial Speeder Bike                       \n",
       "6                                              \n",
       "7                                              \n",
       "8                                              \n",
       "9                                              \n",
       "10 Tribubble bongo                             \n",
       "11 Zephyr-G swoop bike, XJ-6 airspeeder        \n",
       "12                                             \n",
       "13 AT-ST                                       \n",
       "14                                             \n",
       "15                                             \n",
       "16                                             \n",
       "17 Snowspeeder                                 \n",
       "18                                             \n",
       "19                                             \n",
       "20                                             \n",
       "21                                             \n",
       "22                                             \n",
       "23                                             \n",
       "24                                             \n",
       "25                                             \n",
       "26                                             \n",
       "27                                             \n",
       "28                                             \n",
       "29                                             \n",
       "30                                             \n",
       "⋮  ⋮                                           \n",
       "58                                             \n",
       "59                                             \n",
       "60                                             \n",
       "61                                             \n",
       "62                                             \n",
       "63                                             \n",
       "64 Flitknot speeder                            \n",
       "65                                             \n",
       "66                                             \n",
       "67 Koro-2 Exodrive airspeeder                  \n",
       "68                                             \n",
       "69                                             \n",
       "70                                             \n",
       "71                                             \n",
       "72                                             \n",
       "73                                             \n",
       "74                                             \n",
       "75                                             \n",
       "76                                             \n",
       "77 Tsmeu-6 personal wheel bike                 \n",
       "78                                             \n",
       "79                                             \n",
       "80                                             \n",
       "81                                             \n",
       "82                                             \n",
       "83                                             \n",
       "84                                             \n",
       "85                                             \n",
       "86                                             \n",
       "87                                             \n",
       "   starships                                                                                                                       \n",
       "1  X-wing          , Imperial shuttle                                                                                              \n",
       "2                                                                                                                                  \n",
       "3                                                                                                                                  \n",
       "4  TIE Advanced x1                                                                                                                 \n",
       "5                                                                                                                                  \n",
       "6                                                                                                                                  \n",
       "7                                                                                                                                  \n",
       "8                                                                                                                                  \n",
       "9  X-wing                                                                                                                          \n",
       "10 Jedi starfighter        , Trade Federation cruiser, Naboo star skiff        , Jedi Interceptor        , Belbullab-22 starfighter\n",
       "11 Trade Federation cruiser, Jedi Interceptor        , Naboo fighter                                                               \n",
       "12                                                                                                                                 \n",
       "13 Millennium Falcon, Imperial shuttle                                                                                             \n",
       "14 Millennium Falcon, Imperial shuttle                                                                                             \n",
       "15                                                                                                                                 \n",
       "16                                                                                                                                 \n",
       "17 X-wing                                                                                                                          \n",
       "18 X-wing                                                                                                                          \n",
       "19                                                                                                                                 \n",
       "20                                                                                                                                 \n",
       "21 Slave 1                                                                                                                         \n",
       "22                                                                                                                                 \n",
       "23                                                                                                                                 \n",
       "24 Millennium Falcon                                                                                                               \n",
       "25                                                                                                                                 \n",
       "26                                                                                                                                 \n",
       "27                                                                                                                                 \n",
       "28 A-wing                                                                                                                          \n",
       "29                                                                                                                                 \n",
       "30 Millennium Falcon                                                                                                               \n",
       "⋮  ⋮                                                                                                                               \n",
       "58                                                                                                                                 \n",
       "59                                                                                                                                 \n",
       "60                                                                                                                                 \n",
       "61                                                                                                                                 \n",
       "62                                                                                                                                 \n",
       "63                                                                                                                                 \n",
       "64                                                                                                                                 \n",
       "65                                                                                                                                 \n",
       "66                                                                                                                                 \n",
       "67                                                                                                                                 \n",
       "68                                                                                                                                 \n",
       "69                                                                                                                                 \n",
       "70                                                                                                                                 \n",
       "71                                                                                                                                 \n",
       "72                                                                                                                                 \n",
       "73                                                                                                                                 \n",
       "74                                                                                                                                 \n",
       "75                                                                                                                                 \n",
       "76                                                                                                                                 \n",
       "77 Belbullab-22 starfighter                                                                                                        \n",
       "78                                                                                                                                 \n",
       "79                                                                                                                                 \n",
       "80                                                                                                                                 \n",
       "81                                                                                                                                 \n",
       "82                                                                                                                                 \n",
       "83                                                                                                                                 \n",
       "84 T-70 X-wing fighter                                                                                                             \n",
       "85                                                                                                                                 \n",
       "86                                                                                                                                 \n",
       "87 H-type Nubian yacht, Naboo star skiff   , Naboo fighter                                                                         "
      ]
     },
     "metadata": {},
     "output_type": "display_data"
    }
   ],
   "source": [
    "starwars"
   ]
  },
  {
   "cell_type": "markdown",
   "id": "7216a7a7-413d-412f-b5df-69d80dfc4a48",
   "metadata": {},
   "source": [
    "This is not just a regular`data.frame`:"
   ]
  },
  {
   "cell_type": "code",
   "execution_count": 5,
   "id": "e801f62f-2b12-4780-8819-371460a419dd",
   "metadata": {},
   "outputs": [
    {
     "data": {
      "text/html": [
       "<style>\n",
       ".list-inline {list-style: none; margin:0; padding: 0}\n",
       ".list-inline>li {display: inline-block}\n",
       ".list-inline>li:not(:last-child)::after {content: \"\\00b7\"; padding: 0 .5ex}\n",
       "</style>\n",
       "<ol class=list-inline><li>'tbl_df'</li><li>'tbl'</li><li>'data.frame'</li></ol>\n"
      ],
      "text/latex": [
       "\\begin{enumerate*}\n",
       "\\item 'tbl\\_df'\n",
       "\\item 'tbl'\n",
       "\\item 'data.frame'\n",
       "\\end{enumerate*}\n"
      ],
      "text/markdown": [
       "1. 'tbl_df'\n",
       "2. 'tbl'\n",
       "3. 'data.frame'\n",
       "\n",
       "\n"
      ],
      "text/plain": [
       "[1] \"tbl_df\"     \"tbl\"        \"data.frame\""
      ]
     },
     "metadata": {},
     "output_type": "display_data"
    }
   ],
   "source": [
    "class(starwars)"
   ]
  },
  {
   "cell_type": "code",
   "execution_count": 38,
   "id": "7f309854-0beb-48b9-bc04-cfa24ae58682",
   "metadata": {},
   "outputs": [
    {
     "data": {
      "text/html": [
       "<table class=\"dataframe\">\n",
       "<caption>A tibble: 87 × 1</caption>\n",
       "<thead>\n",
       "\t<tr><th scope=col>name</th></tr>\n",
       "\t<tr><th scope=col>&lt;chr&gt;</th></tr>\n",
       "</thead>\n",
       "<tbody>\n",
       "\t<tr><td>Luke Skywalker       </td></tr>\n",
       "\t<tr><td>C-3PO                </td></tr>\n",
       "\t<tr><td>R2-D2                </td></tr>\n",
       "\t<tr><td>Darth Vader          </td></tr>\n",
       "\t<tr><td>Leia Organa          </td></tr>\n",
       "\t<tr><td>Owen Lars            </td></tr>\n",
       "\t<tr><td>Beru Whitesun lars   </td></tr>\n",
       "\t<tr><td>R5-D4                </td></tr>\n",
       "\t<tr><td>Biggs Darklighter    </td></tr>\n",
       "\t<tr><td>Obi-Wan Kenobi       </td></tr>\n",
       "\t<tr><td>Anakin Skywalker     </td></tr>\n",
       "\t<tr><td>Wilhuff Tarkin       </td></tr>\n",
       "\t<tr><td>Chewbacca            </td></tr>\n",
       "\t<tr><td>Han Solo             </td></tr>\n",
       "\t<tr><td>Greedo               </td></tr>\n",
       "\t<tr><td>Jabba Desilijic Tiure</td></tr>\n",
       "\t<tr><td>Wedge Antilles       </td></tr>\n",
       "\t<tr><td>Jek Tono Porkins     </td></tr>\n",
       "\t<tr><td>Yoda                 </td></tr>\n",
       "\t<tr><td>Palpatine            </td></tr>\n",
       "\t<tr><td>Boba Fett            </td></tr>\n",
       "\t<tr><td>IG-88                </td></tr>\n",
       "\t<tr><td>Bossk                </td></tr>\n",
       "\t<tr><td>Lando Calrissian     </td></tr>\n",
       "\t<tr><td>Lobot                </td></tr>\n",
       "\t<tr><td>Ackbar               </td></tr>\n",
       "\t<tr><td>Mon Mothma           </td></tr>\n",
       "\t<tr><td>Arvel Crynyd         </td></tr>\n",
       "\t<tr><td>Wicket Systri Warrick</td></tr>\n",
       "\t<tr><td>Nien Nunb            </td></tr>\n",
       "\t<tr><td>⋮</td></tr>\n",
       "\t<tr><td>Cordé              </td></tr>\n",
       "\t<tr><td>Cliegg Lars        </td></tr>\n",
       "\t<tr><td>Poggle the Lesser  </td></tr>\n",
       "\t<tr><td>Luminara Unduli    </td></tr>\n",
       "\t<tr><td>Barriss Offee      </td></tr>\n",
       "\t<tr><td>Dormé              </td></tr>\n",
       "\t<tr><td>Dooku              </td></tr>\n",
       "\t<tr><td>Bail Prestor Organa</td></tr>\n",
       "\t<tr><td>Jango Fett         </td></tr>\n",
       "\t<tr><td>Zam Wesell         </td></tr>\n",
       "\t<tr><td>Dexter Jettster    </td></tr>\n",
       "\t<tr><td>Lama Su            </td></tr>\n",
       "\t<tr><td>Taun We            </td></tr>\n",
       "\t<tr><td>Jocasta Nu         </td></tr>\n",
       "\t<tr><td>Ratts Tyerell      </td></tr>\n",
       "\t<tr><td>R4-P17             </td></tr>\n",
       "\t<tr><td>Wat Tambor         </td></tr>\n",
       "\t<tr><td>San Hill           </td></tr>\n",
       "\t<tr><td>Shaak Ti           </td></tr>\n",
       "\t<tr><td>Grievous           </td></tr>\n",
       "\t<tr><td>Tarfful            </td></tr>\n",
       "\t<tr><td>Raymus Antilles    </td></tr>\n",
       "\t<tr><td>Sly Moore          </td></tr>\n",
       "\t<tr><td>Tion Medon         </td></tr>\n",
       "\t<tr><td>Finn               </td></tr>\n",
       "\t<tr><td>Rey                </td></tr>\n",
       "\t<tr><td>Poe Dameron        </td></tr>\n",
       "\t<tr><td>BB8                </td></tr>\n",
       "\t<tr><td>Captain Phasma     </td></tr>\n",
       "\t<tr><td>Padmé Amidala      </td></tr>\n",
       "</tbody>\n",
       "</table>\n"
      ],
      "text/latex": [
       "A tibble: 87 × 1\n",
       "\\begin{tabular}{l}\n",
       " name\\\\\n",
       " <chr>\\\\\n",
       "\\hline\n",
       "\t Luke Skywalker       \\\\\n",
       "\t C-3PO                \\\\\n",
       "\t R2-D2                \\\\\n",
       "\t Darth Vader          \\\\\n",
       "\t Leia Organa          \\\\\n",
       "\t Owen Lars            \\\\\n",
       "\t Beru Whitesun lars   \\\\\n",
       "\t R5-D4                \\\\\n",
       "\t Biggs Darklighter    \\\\\n",
       "\t Obi-Wan Kenobi       \\\\\n",
       "\t Anakin Skywalker     \\\\\n",
       "\t Wilhuff Tarkin       \\\\\n",
       "\t Chewbacca            \\\\\n",
       "\t Han Solo             \\\\\n",
       "\t Greedo               \\\\\n",
       "\t Jabba Desilijic Tiure\\\\\n",
       "\t Wedge Antilles       \\\\\n",
       "\t Jek Tono Porkins     \\\\\n",
       "\t Yoda                 \\\\\n",
       "\t Palpatine            \\\\\n",
       "\t Boba Fett            \\\\\n",
       "\t IG-88                \\\\\n",
       "\t Bossk                \\\\\n",
       "\t Lando Calrissian     \\\\\n",
       "\t Lobot                \\\\\n",
       "\t Ackbar               \\\\\n",
       "\t Mon Mothma           \\\\\n",
       "\t Arvel Crynyd         \\\\\n",
       "\t Wicket Systri Warrick\\\\\n",
       "\t Nien Nunb            \\\\\n",
       "\t ⋮\\\\\n",
       "\t Cordé              \\\\\n",
       "\t Cliegg Lars        \\\\\n",
       "\t Poggle the Lesser  \\\\\n",
       "\t Luminara Unduli    \\\\\n",
       "\t Barriss Offee      \\\\\n",
       "\t Dormé              \\\\\n",
       "\t Dooku              \\\\\n",
       "\t Bail Prestor Organa\\\\\n",
       "\t Jango Fett         \\\\\n",
       "\t Zam Wesell         \\\\\n",
       "\t Dexter Jettster    \\\\\n",
       "\t Lama Su            \\\\\n",
       "\t Taun We            \\\\\n",
       "\t Jocasta Nu         \\\\\n",
       "\t Ratts Tyerell      \\\\\n",
       "\t R4-P17             \\\\\n",
       "\t Wat Tambor         \\\\\n",
       "\t San Hill           \\\\\n",
       "\t Shaak Ti           \\\\\n",
       "\t Grievous           \\\\\n",
       "\t Tarfful            \\\\\n",
       "\t Raymus Antilles    \\\\\n",
       "\t Sly Moore          \\\\\n",
       "\t Tion Medon         \\\\\n",
       "\t Finn               \\\\\n",
       "\t Rey                \\\\\n",
       "\t Poe Dameron        \\\\\n",
       "\t BB8                \\\\\n",
       "\t Captain Phasma     \\\\\n",
       "\t Padmé Amidala      \\\\\n",
       "\\end{tabular}\n"
      ],
      "text/markdown": [
       "\n",
       "A tibble: 87 × 1\n",
       "\n",
       "| name &lt;chr&gt; |\n",
       "|---|\n",
       "| Luke Skywalker        |\n",
       "| C-3PO                 |\n",
       "| R2-D2                 |\n",
       "| Darth Vader           |\n",
       "| Leia Organa           |\n",
       "| Owen Lars             |\n",
       "| Beru Whitesun lars    |\n",
       "| R5-D4                 |\n",
       "| Biggs Darklighter     |\n",
       "| Obi-Wan Kenobi        |\n",
       "| Anakin Skywalker      |\n",
       "| Wilhuff Tarkin        |\n",
       "| Chewbacca             |\n",
       "| Han Solo              |\n",
       "| Greedo                |\n",
       "| Jabba Desilijic Tiure |\n",
       "| Wedge Antilles        |\n",
       "| Jek Tono Porkins      |\n",
       "| Yoda                  |\n",
       "| Palpatine             |\n",
       "| Boba Fett             |\n",
       "| IG-88                 |\n",
       "| Bossk                 |\n",
       "| Lando Calrissian      |\n",
       "| Lobot                 |\n",
       "| Ackbar                |\n",
       "| Mon Mothma            |\n",
       "| Arvel Crynyd          |\n",
       "| Wicket Systri Warrick |\n",
       "| Nien Nunb             |\n",
       "| ⋮ |\n",
       "| Cordé               |\n",
       "| Cliegg Lars         |\n",
       "| Poggle the Lesser   |\n",
       "| Luminara Unduli     |\n",
       "| Barriss Offee       |\n",
       "| Dormé               |\n",
       "| Dooku               |\n",
       "| Bail Prestor Organa |\n",
       "| Jango Fett          |\n",
       "| Zam Wesell          |\n",
       "| Dexter Jettster     |\n",
       "| Lama Su             |\n",
       "| Taun We             |\n",
       "| Jocasta Nu          |\n",
       "| Ratts Tyerell       |\n",
       "| R4-P17              |\n",
       "| Wat Tambor          |\n",
       "| San Hill            |\n",
       "| Shaak Ti            |\n",
       "| Grievous            |\n",
       "| Tarfful             |\n",
       "| Raymus Antilles     |\n",
       "| Sly Moore           |\n",
       "| Tion Medon          |\n",
       "| Finn                |\n",
       "| Rey                 |\n",
       "| Poe Dameron         |\n",
       "| BB8                 |\n",
       "| Captain Phasma      |\n",
       "| Padmé Amidala       |\n",
       "\n"
      ],
      "text/plain": [
       "   name                 \n",
       "1  Luke Skywalker       \n",
       "2  C-3PO                \n",
       "3  R2-D2                \n",
       "4  Darth Vader          \n",
       "5  Leia Organa          \n",
       "6  Owen Lars            \n",
       "7  Beru Whitesun lars   \n",
       "8  R5-D4                \n",
       "9  Biggs Darklighter    \n",
       "10 Obi-Wan Kenobi       \n",
       "11 Anakin Skywalker     \n",
       "12 Wilhuff Tarkin       \n",
       "13 Chewbacca            \n",
       "14 Han Solo             \n",
       "15 Greedo               \n",
       "16 Jabba Desilijic Tiure\n",
       "17 Wedge Antilles       \n",
       "18 Jek Tono Porkins     \n",
       "19 Yoda                 \n",
       "20 Palpatine            \n",
       "21 Boba Fett            \n",
       "22 IG-88                \n",
       "23 Bossk                \n",
       "24 Lando Calrissian     \n",
       "25 Lobot                \n",
       "26 Ackbar               \n",
       "27 Mon Mothma           \n",
       "28 Arvel Crynyd         \n",
       "29 Wicket Systri Warrick\n",
       "30 Nien Nunb            \n",
       "⋮  ⋮                    \n",
       "58 Cordé                \n",
       "59 Cliegg Lars          \n",
       "60 Poggle the Lesser    \n",
       "61 Luminara Unduli      \n",
       "62 Barriss Offee        \n",
       "63 Dormé                \n",
       "64 Dooku                \n",
       "65 Bail Prestor Organa  \n",
       "66 Jango Fett           \n",
       "67 Zam Wesell           \n",
       "68 Dexter Jettster      \n",
       "69 Lama Su              \n",
       "70 Taun We              \n",
       "71 Jocasta Nu           \n",
       "72 Ratts Tyerell        \n",
       "73 R4-P17               \n",
       "74 Wat Tambor           \n",
       "75 San Hill             \n",
       "76 Shaak Ti             \n",
       "77 Grievous             \n",
       "78 Tarfful              \n",
       "79 Raymus Antilles      \n",
       "80 Sly Moore            \n",
       "81 Tion Medon           \n",
       "82 Finn                 \n",
       "83 Rey                  \n",
       "84 Poe Dameron          \n",
       "85 BB8                  \n",
       "86 Captain Phasma       \n",
       "87 Padmé Amidala        "
      ]
     },
     "metadata": {},
     "output_type": "display_data"
    }
   ],
   "source": [
    "starwars[\"name\"]"
   ]
  },
  {
   "cell_type": "code",
   "execution_count": 39,
   "id": "84c5c92b-c0f6-4fde-8916-3590f35d6401",
   "metadata": {},
   "outputs": [
    {
     "data": {
      "text/html": [
       "<style>\n",
       ".list-inline {list-style: none; margin:0; padding: 0}\n",
       ".list-inline>li {display: inline-block}\n",
       ".list-inline>li:not(:last-child)::after {content: \"\\00b7\"; padding: 0 .5ex}\n",
       "</style>\n",
       "<ol class=list-inline><li>'Luke Skywalker'</li><li>'C-3PO'</li><li>'R2-D2'</li><li>'Darth Vader'</li><li>'Leia Organa'</li><li>'Owen Lars'</li><li>'Beru Whitesun lars'</li><li>'R5-D4'</li><li>'Biggs Darklighter'</li><li>'Obi-Wan Kenobi'</li><li>'Anakin Skywalker'</li><li>'Wilhuff Tarkin'</li><li>'Chewbacca'</li><li>'Han Solo'</li><li>'Greedo'</li><li>'Jabba Desilijic Tiure'</li><li>'Wedge Antilles'</li><li>'Jek Tono Porkins'</li><li>'Yoda'</li><li>'Palpatine'</li><li>'Boba Fett'</li><li>'IG-88'</li><li>'Bossk'</li><li>'Lando Calrissian'</li><li>'Lobot'</li><li>'Ackbar'</li><li>'Mon Mothma'</li><li>'Arvel Crynyd'</li><li>'Wicket Systri Warrick'</li><li>'Nien Nunb'</li><li>'Qui-Gon Jinn'</li><li>'Nute Gunray'</li><li>'Finis Valorum'</li><li>'Jar Jar Binks'</li><li>'Roos Tarpals'</li><li>'Rugor Nass'</li><li>'Ric Olié'</li><li>'Watto'</li><li>'Sebulba'</li><li>'Quarsh Panaka'</li><li>'Shmi Skywalker'</li><li>'Darth Maul'</li><li>'Bib Fortuna'</li><li>'Ayla Secura'</li><li>'Dud Bolt'</li><li>'Gasgano'</li><li>'Ben Quadinaros'</li><li>'Mace Windu'</li><li>'Ki-Adi-Mundi'</li><li>'Kit Fisto'</li><li>'Eeth Koth'</li><li>'Adi Gallia'</li><li>'Saesee Tiin'</li><li>'Yarael Poof'</li><li>'Plo Koon'</li><li>'Mas Amedda'</li><li>'Gregar Typho'</li><li>'Cordé'</li><li>'Cliegg Lars'</li><li>'Poggle the Lesser'</li><li>'Luminara Unduli'</li><li>'Barriss Offee'</li><li>'Dormé'</li><li>'Dooku'</li><li>'Bail Prestor Organa'</li><li>'Jango Fett'</li><li>'Zam Wesell'</li><li>'Dexter Jettster'</li><li>'Lama Su'</li><li>'Taun We'</li><li>'Jocasta Nu'</li><li>'Ratts Tyerell'</li><li>'R4-P17'</li><li>'Wat Tambor'</li><li>'San Hill'</li><li>'Shaak Ti'</li><li>'Grievous'</li><li>'Tarfful'</li><li>'Raymus Antilles'</li><li>'Sly Moore'</li><li>'Tion Medon'</li><li>'Finn'</li><li>'Rey'</li><li>'Poe Dameron'</li><li>'BB8'</li><li>'Captain Phasma'</li><li>'Padmé Amidala'</li></ol>\n"
      ],
      "text/latex": [
       "\\begin{enumerate*}\n",
       "\\item 'Luke Skywalker'\n",
       "\\item 'C-3PO'\n",
       "\\item 'R2-D2'\n",
       "\\item 'Darth Vader'\n",
       "\\item 'Leia Organa'\n",
       "\\item 'Owen Lars'\n",
       "\\item 'Beru Whitesun lars'\n",
       "\\item 'R5-D4'\n",
       "\\item 'Biggs Darklighter'\n",
       "\\item 'Obi-Wan Kenobi'\n",
       "\\item 'Anakin Skywalker'\n",
       "\\item 'Wilhuff Tarkin'\n",
       "\\item 'Chewbacca'\n",
       "\\item 'Han Solo'\n",
       "\\item 'Greedo'\n",
       "\\item 'Jabba Desilijic Tiure'\n",
       "\\item 'Wedge Antilles'\n",
       "\\item 'Jek Tono Porkins'\n",
       "\\item 'Yoda'\n",
       "\\item 'Palpatine'\n",
       "\\item 'Boba Fett'\n",
       "\\item 'IG-88'\n",
       "\\item 'Bossk'\n",
       "\\item 'Lando Calrissian'\n",
       "\\item 'Lobot'\n",
       "\\item 'Ackbar'\n",
       "\\item 'Mon Mothma'\n",
       "\\item 'Arvel Crynyd'\n",
       "\\item 'Wicket Systri Warrick'\n",
       "\\item 'Nien Nunb'\n",
       "\\item 'Qui-Gon Jinn'\n",
       "\\item 'Nute Gunray'\n",
       "\\item 'Finis Valorum'\n",
       "\\item 'Jar Jar Binks'\n",
       "\\item 'Roos Tarpals'\n",
       "\\item 'Rugor Nass'\n",
       "\\item 'Ric Olié'\n",
       "\\item 'Watto'\n",
       "\\item 'Sebulba'\n",
       "\\item 'Quarsh Panaka'\n",
       "\\item 'Shmi Skywalker'\n",
       "\\item 'Darth Maul'\n",
       "\\item 'Bib Fortuna'\n",
       "\\item 'Ayla Secura'\n",
       "\\item 'Dud Bolt'\n",
       "\\item 'Gasgano'\n",
       "\\item 'Ben Quadinaros'\n",
       "\\item 'Mace Windu'\n",
       "\\item 'Ki-Adi-Mundi'\n",
       "\\item 'Kit Fisto'\n",
       "\\item 'Eeth Koth'\n",
       "\\item 'Adi Gallia'\n",
       "\\item 'Saesee Tiin'\n",
       "\\item 'Yarael Poof'\n",
       "\\item 'Plo Koon'\n",
       "\\item 'Mas Amedda'\n",
       "\\item 'Gregar Typho'\n",
       "\\item 'Cordé'\n",
       "\\item 'Cliegg Lars'\n",
       "\\item 'Poggle the Lesser'\n",
       "\\item 'Luminara Unduli'\n",
       "\\item 'Barriss Offee'\n",
       "\\item 'Dormé'\n",
       "\\item 'Dooku'\n",
       "\\item 'Bail Prestor Organa'\n",
       "\\item 'Jango Fett'\n",
       "\\item 'Zam Wesell'\n",
       "\\item 'Dexter Jettster'\n",
       "\\item 'Lama Su'\n",
       "\\item 'Taun We'\n",
       "\\item 'Jocasta Nu'\n",
       "\\item 'Ratts Tyerell'\n",
       "\\item 'R4-P17'\n",
       "\\item 'Wat Tambor'\n",
       "\\item 'San Hill'\n",
       "\\item 'Shaak Ti'\n",
       "\\item 'Grievous'\n",
       "\\item 'Tarfful'\n",
       "\\item 'Raymus Antilles'\n",
       "\\item 'Sly Moore'\n",
       "\\item 'Tion Medon'\n",
       "\\item 'Finn'\n",
       "\\item 'Rey'\n",
       "\\item 'Poe Dameron'\n",
       "\\item 'BB8'\n",
       "\\item 'Captain Phasma'\n",
       "\\item 'Padmé Amidala'\n",
       "\\end{enumerate*}\n"
      ],
      "text/markdown": [
       "1. 'Luke Skywalker'\n",
       "2. 'C-3PO'\n",
       "3. 'R2-D2'\n",
       "4. 'Darth Vader'\n",
       "5. 'Leia Organa'\n",
       "6. 'Owen Lars'\n",
       "7. 'Beru Whitesun lars'\n",
       "8. 'R5-D4'\n",
       "9. 'Biggs Darklighter'\n",
       "10. 'Obi-Wan Kenobi'\n",
       "11. 'Anakin Skywalker'\n",
       "12. 'Wilhuff Tarkin'\n",
       "13. 'Chewbacca'\n",
       "14. 'Han Solo'\n",
       "15. 'Greedo'\n",
       "16. 'Jabba Desilijic Tiure'\n",
       "17. 'Wedge Antilles'\n",
       "18. 'Jek Tono Porkins'\n",
       "19. 'Yoda'\n",
       "20. 'Palpatine'\n",
       "21. 'Boba Fett'\n",
       "22. 'IG-88'\n",
       "23. 'Bossk'\n",
       "24. 'Lando Calrissian'\n",
       "25. 'Lobot'\n",
       "26. 'Ackbar'\n",
       "27. 'Mon Mothma'\n",
       "28. 'Arvel Crynyd'\n",
       "29. 'Wicket Systri Warrick'\n",
       "30. 'Nien Nunb'\n",
       "31. 'Qui-Gon Jinn'\n",
       "32. 'Nute Gunray'\n",
       "33. 'Finis Valorum'\n",
       "34. 'Jar Jar Binks'\n",
       "35. 'Roos Tarpals'\n",
       "36. 'Rugor Nass'\n",
       "37. 'Ric Olié'\n",
       "38. 'Watto'\n",
       "39. 'Sebulba'\n",
       "40. 'Quarsh Panaka'\n",
       "41. 'Shmi Skywalker'\n",
       "42. 'Darth Maul'\n",
       "43. 'Bib Fortuna'\n",
       "44. 'Ayla Secura'\n",
       "45. 'Dud Bolt'\n",
       "46. 'Gasgano'\n",
       "47. 'Ben Quadinaros'\n",
       "48. 'Mace Windu'\n",
       "49. 'Ki-Adi-Mundi'\n",
       "50. 'Kit Fisto'\n",
       "51. 'Eeth Koth'\n",
       "52. 'Adi Gallia'\n",
       "53. 'Saesee Tiin'\n",
       "54. 'Yarael Poof'\n",
       "55. 'Plo Koon'\n",
       "56. 'Mas Amedda'\n",
       "57. 'Gregar Typho'\n",
       "58. 'Cordé'\n",
       "59. 'Cliegg Lars'\n",
       "60. 'Poggle the Lesser'\n",
       "61. 'Luminara Unduli'\n",
       "62. 'Barriss Offee'\n",
       "63. 'Dormé'\n",
       "64. 'Dooku'\n",
       "65. 'Bail Prestor Organa'\n",
       "66. 'Jango Fett'\n",
       "67. 'Zam Wesell'\n",
       "68. 'Dexter Jettster'\n",
       "69. 'Lama Su'\n",
       "70. 'Taun We'\n",
       "71. 'Jocasta Nu'\n",
       "72. 'Ratts Tyerell'\n",
       "73. 'R4-P17'\n",
       "74. 'Wat Tambor'\n",
       "75. 'San Hill'\n",
       "76. 'Shaak Ti'\n",
       "77. 'Grievous'\n",
       "78. 'Tarfful'\n",
       "79. 'Raymus Antilles'\n",
       "80. 'Sly Moore'\n",
       "81. 'Tion Medon'\n",
       "82. 'Finn'\n",
       "83. 'Rey'\n",
       "84. 'Poe Dameron'\n",
       "85. 'BB8'\n",
       "86. 'Captain Phasma'\n",
       "87. 'Padmé Amidala'\n",
       "\n",
       "\n"
      ],
      "text/plain": [
       " [1] \"Luke Skywalker\"        \"C-3PO\"                 \"R2-D2\"                \n",
       " [4] \"Darth Vader\"           \"Leia Organa\"           \"Owen Lars\"            \n",
       " [7] \"Beru Whitesun lars\"    \"R5-D4\"                 \"Biggs Darklighter\"    \n",
       "[10] \"Obi-Wan Kenobi\"        \"Anakin Skywalker\"      \"Wilhuff Tarkin\"       \n",
       "[13] \"Chewbacca\"             \"Han Solo\"              \"Greedo\"               \n",
       "[16] \"Jabba Desilijic Tiure\" \"Wedge Antilles\"        \"Jek Tono Porkins\"     \n",
       "[19] \"Yoda\"                  \"Palpatine\"             \"Boba Fett\"            \n",
       "[22] \"IG-88\"                 \"Bossk\"                 \"Lando Calrissian\"     \n",
       "[25] \"Lobot\"                 \"Ackbar\"                \"Mon Mothma\"           \n",
       "[28] \"Arvel Crynyd\"          \"Wicket Systri Warrick\" \"Nien Nunb\"            \n",
       "[31] \"Qui-Gon Jinn\"          \"Nute Gunray\"           \"Finis Valorum\"        \n",
       "[34] \"Jar Jar Binks\"         \"Roos Tarpals\"          \"Rugor Nass\"           \n",
       "[37] \"Ric Olié\"              \"Watto\"                 \"Sebulba\"              \n",
       "[40] \"Quarsh Panaka\"         \"Shmi Skywalker\"        \"Darth Maul\"           \n",
       "[43] \"Bib Fortuna\"           \"Ayla Secura\"           \"Dud Bolt\"             \n",
       "[46] \"Gasgano\"               \"Ben Quadinaros\"        \"Mace Windu\"           \n",
       "[49] \"Ki-Adi-Mundi\"          \"Kit Fisto\"             \"Eeth Koth\"            \n",
       "[52] \"Adi Gallia\"            \"Saesee Tiin\"           \"Yarael Poof\"          \n",
       "[55] \"Plo Koon\"              \"Mas Amedda\"            \"Gregar Typho\"         \n",
       "[58] \"Cordé\"                 \"Cliegg Lars\"           \"Poggle the Lesser\"    \n",
       "[61] \"Luminara Unduli\"       \"Barriss Offee\"         \"Dormé\"                \n",
       "[64] \"Dooku\"                 \"Bail Prestor Organa\"   \"Jango Fett\"           \n",
       "[67] \"Zam Wesell\"            \"Dexter Jettster\"       \"Lama Su\"              \n",
       "[70] \"Taun We\"               \"Jocasta Nu\"            \"Ratts Tyerell\"        \n",
       "[73] \"R4-P17\"                \"Wat Tambor\"            \"San Hill\"             \n",
       "[76] \"Shaak Ti\"              \"Grievous\"              \"Tarfful\"              \n",
       "[79] \"Raymus Antilles\"       \"Sly Moore\"             \"Tion Medon\"           \n",
       "[82] \"Finn\"                  \"Rey\"                   \"Poe Dameron\"          \n",
       "[85] \"BB8\"                   \"Captain Phasma\"        \"Padmé Amidala\"        "
      ]
     },
     "metadata": {},
     "output_type": "display_data"
    }
   ],
   "source": [
    "starwars$name"
   ]
  },
  {
   "cell_type": "code",
   "execution_count": 40,
   "id": "0d497caa-0f16-4b0d-ba0a-c9737c0e9fad",
   "metadata": {},
   "outputs": [
    {
     "data": {
      "text/html": [
       "'character'"
      ],
      "text/latex": [
       "'character'"
      ],
      "text/markdown": [
       "'character'"
      ],
      "text/plain": [
       "[1] \"character\""
      ]
     },
     "metadata": {},
     "output_type": "display_data"
    }
   ],
   "source": [
    "class(starwars$name)"
   ]
  },
  {
   "cell_type": "code",
   "execution_count": 41,
   "id": "d7dedb32-02ad-4eaf-b931-8fd8d85ae178",
   "metadata": {},
   "outputs": [
    {
     "data": {
      "text/html": [
       "<style>\n",
       ".list-inline {list-style: none; margin:0; padding: 0}\n",
       ".list-inline>li {display: inline-block}\n",
       ".list-inline>li:not(:last-child)::after {content: \"\\00b7\"; padding: 0 .5ex}\n",
       "</style>\n",
       "<ol class=list-inline><li>'Luke Skywalker'</li><li>'C-3PO'</li><li>'R2-D2'</li></ol>\n"
      ],
      "text/latex": [
       "\\begin{enumerate*}\n",
       "\\item 'Luke Skywalker'\n",
       "\\item 'C-3PO'\n",
       "\\item 'R2-D2'\n",
       "\\end{enumerate*}\n"
      ],
      "text/markdown": [
       "1. 'Luke Skywalker'\n",
       "2. 'C-3PO'\n",
       "3. 'R2-D2'\n",
       "\n",
       "\n"
      ],
      "text/plain": [
       "[1] \"Luke Skywalker\" \"C-3PO\"          \"R2-D2\"         "
      ]
     },
     "metadata": {},
     "output_type": "display_data"
    }
   ],
   "source": [
    "starwars$name[0:3]"
   ]
  },
  {
   "cell_type": "markdown",
   "id": "562dc36a-9ade-46b6-887d-9c40b2494718",
   "metadata": {},
   "source": [
    "This is syntactically the nicest way!"
   ]
  },
  {
   "cell_type": "code",
   "execution_count": 45,
   "id": "a9fdfd62-d326-41fc-9788-895dcbf869fd",
   "metadata": {},
   "outputs": [
    {
     "data": {
      "text/html": [
       "<table class=\"dataframe\">\n",
       "<caption>A tibble: 6 × 2</caption>\n",
       "<thead>\n",
       "\t<tr><th scope=col>name</th><th scope=col>sex</th></tr>\n",
       "\t<tr><th scope=col>&lt;chr&gt;</th><th scope=col>&lt;chr&gt;</th></tr>\n",
       "</thead>\n",
       "<tbody>\n",
       "\t<tr><td>Luke Skywalker</td><td>male  </td></tr>\n",
       "\t<tr><td>C-3PO         </td><td>none  </td></tr>\n",
       "\t<tr><td>R2-D2         </td><td>none  </td></tr>\n",
       "\t<tr><td>Darth Vader   </td><td>male  </td></tr>\n",
       "\t<tr><td>Leia Organa   </td><td>female</td></tr>\n",
       "\t<tr><td>Owen Lars     </td><td>male  </td></tr>\n",
       "</tbody>\n",
       "</table>\n"
      ],
      "text/latex": [
       "A tibble: 6 × 2\n",
       "\\begin{tabular}{ll}\n",
       " name & sex\\\\\n",
       " <chr> & <chr>\\\\\n",
       "\\hline\n",
       "\t Luke Skywalker & male  \\\\\n",
       "\t C-3PO          & none  \\\\\n",
       "\t R2-D2          & none  \\\\\n",
       "\t Darth Vader    & male  \\\\\n",
       "\t Leia Organa    & female\\\\\n",
       "\t Owen Lars      & male  \\\\\n",
       "\\end{tabular}\n"
      ],
      "text/markdown": [
       "\n",
       "A tibble: 6 × 2\n",
       "\n",
       "| name &lt;chr&gt; | sex &lt;chr&gt; |\n",
       "|---|---|\n",
       "| Luke Skywalker | male   |\n",
       "| C-3PO          | none   |\n",
       "| R2-D2          | none   |\n",
       "| Darth Vader    | male   |\n",
       "| Leia Organa    | female |\n",
       "| Owen Lars      | male   |\n",
       "\n"
      ],
      "text/plain": [
       "  name           sex   \n",
       "1 Luke Skywalker male  \n",
       "2 C-3PO          none  \n",
       "3 R2-D2          none  \n",
       "4 Darth Vader    male  \n",
       "5 Leia Organa    female\n",
       "6 Owen Lars      male  "
      ]
     },
     "metadata": {},
     "output_type": "display_data"
    }
   ],
   "source": [
    "starwars %>% select(\"name\", \"sex\") %>% head()"
   ]
  }
 ],
 "metadata": {
  "kernelspec": {
   "display_name": "R",
   "language": "R",
   "name": "ir"
  },
  "language_info": {
   "codemirror_mode": "r",
   "file_extension": ".r",
   "mimetype": "text/x-r-source",
   "name": "R",
   "pygments_lexer": "r",
   "version": "4.1.1"
  }
 },
 "nbformat": 4,
 "nbformat_minor": 5
}
