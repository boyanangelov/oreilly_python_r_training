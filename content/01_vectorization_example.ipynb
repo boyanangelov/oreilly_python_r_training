{
 "cells": [
  {
   "cell_type": "markdown",
   "id": "b66e4981-6ae9-444f-9bb9-de45d22bdbdf",
   "metadata": {},
   "source": [
    "# Vectorization example"
   ]
  },
  {
   "cell_type": "markdown",
   "id": "d4dd8612-ab9e-498d-ab55-64d1d71511d9",
   "metadata": {},
   "source": [
    "## Python"
   ]
  },
  {
   "cell_type": "code",
   "execution_count": 1,
   "id": "f415145f-de9c-49ec-958d-d4557a7ff6fd",
   "metadata": {},
   "outputs": [],
   "source": [
    "example_list = [0, 2, 3, 5, 6]"
   ]
  },
  {
   "cell_type": "code",
   "execution_count": 2,
   "id": "9528b988-7e66-44f1-affa-452bfb0d32df",
   "metadata": {
    "collapsed": true,
    "jupyter": {
     "outputs_hidden": true
    },
    "tags": []
   },
   "outputs": [
    {
     "ename": "TypeError",
     "evalue": "can only concatenate list (not \"int\") to list",
     "output_type": "error",
     "traceback": [
      "\u001b[0;31m---------------------------------------------------------------------------\u001b[0m",
      "\u001b[0;31mTypeError\u001b[0m                                 Traceback (most recent call last)",
      "Input \u001b[0;32mIn [2]\u001b[0m, in \u001b[0;36m<cell line: 1>\u001b[0;34m()\u001b[0m\n\u001b[0;32m----> 1\u001b[0m \u001b[43mexample_list\u001b[49m\u001b[43m \u001b[49m\u001b[38;5;241;43m+\u001b[39;49m\u001b[43m \u001b[49m\u001b[38;5;241;43m1\u001b[39;49m\n",
      "\u001b[0;31mTypeError\u001b[0m: can only concatenate list (not \"int\") to list"
     ]
    }
   ],
   "source": [
    "example_list + 1"
   ]
  },
  {
   "cell_type": "code",
   "execution_count": 3,
   "id": "d5dc987f-db2c-4696-afc7-02b86475e2de",
   "metadata": {},
   "outputs": [],
   "source": [
    "import numpy as np"
   ]
  },
  {
   "cell_type": "code",
   "execution_count": 4,
   "id": "3001b7de-bba6-4a9b-911e-c0c267ee7c14",
   "metadata": {},
   "outputs": [],
   "source": [
    "example_list_np = np.array(example_list)"
   ]
  },
  {
   "cell_type": "code",
   "execution_count": 5,
   "id": "d28c5f79-4bd4-48d6-adac-65fbe2a46aee",
   "metadata": {},
   "outputs": [
    {
     "data": {
      "text/plain": [
       "array([1, 3, 4, 6, 7])"
      ]
     },
     "execution_count": 5,
     "metadata": {},
     "output_type": "execute_result"
    }
   ],
   "source": [
    "example_list_np + 1"
   ]
  },
  {
   "cell_type": "markdown",
   "id": "6725afe7-dae2-4ec9-ad2c-f343bff3177b",
   "metadata": {},
   "source": [
    "## R"
   ]
  },
  {
   "cell_type": "code",
   "execution_count": 1,
   "id": "adb9e9be-9911-4e2d-bcb4-65698f0a78c6",
   "metadata": {},
   "outputs": [],
   "source": [
    "example_list <- c(0, 2, 3, 5, 6)"
   ]
  },
  {
   "cell_type": "code",
   "execution_count": 2,
   "id": "eef34466-a2a8-4703-a691-2132ef0fd848",
   "metadata": {},
   "outputs": [
    {
     "data": {
      "text/html": [
       "<style>\n",
       ".list-inline {list-style: none; margin:0; padding: 0}\n",
       ".list-inline>li {display: inline-block}\n",
       ".list-inline>li:not(:last-child)::after {content: \"\\00b7\"; padding: 0 .5ex}\n",
       "</style>\n",
       "<ol class=list-inline><li>1</li><li>3</li><li>4</li><li>6</li><li>7</li></ol>\n"
      ],
      "text/latex": [
       "\\begin{enumerate*}\n",
       "\\item 1\n",
       "\\item 3\n",
       "\\item 4\n",
       "\\item 6\n",
       "\\item 7\n",
       "\\end{enumerate*}\n"
      ],
      "text/markdown": [
       "1. 1\n",
       "2. 3\n",
       "3. 4\n",
       "4. 6\n",
       "5. 7\n",
       "\n",
       "\n"
      ],
      "text/plain": [
       "[1] 1 3 4 6 7"
      ]
     },
     "metadata": {},
     "output_type": "display_data"
    }
   ],
   "source": [
    "example_list + 1"
   ]
  },
  {
   "cell_type": "markdown",
   "id": "7339357b-f5b5-4b6c-800a-670a5c9168c3",
   "metadata": {},
   "source": [
    "Conclusion: In Python you'll need `numpy`, while in R this is built-in. A good example of the origin influencing function concept!"
   ]
  }
 ],
 "metadata": {
  "kernelspec": {
   "display_name": "Python 3 (ipykernel)",
   "language": "python",
   "name": "python3"
  },
  "language_info": {
   "codemirror_mode": {
    "name": "ipython",
    "version": 3
   },
   "file_extension": ".py",
   "mimetype": "text/x-python",
   "name": "python",
   "nbconvert_exporter": "python",
   "pygments_lexer": "ipython3",
   "version": "3.9.10"
  }
 },
 "nbformat": 4,
 "nbformat_minor": 5
}
