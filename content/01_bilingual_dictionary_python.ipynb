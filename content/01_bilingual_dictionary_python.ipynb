{
 "cells": [
  {
   "cell_type": "markdown",
   "id": "b055c82f-46c5-4758-ab17-733bde1a3cdb",
   "metadata": {},
   "source": [
    "# Bilingual Dictionary (Python)\n",
    "\n",
    "<img src=\"https://upload.wikimedia.org/wikipedia/commons/thumb/c/c3/Python-logo-notext.svg/2048px-Python-logo-notext.svg.png\" width=\"200\" height=\"200\" />"
   ]
  },
  {
   "cell_type": "markdown",
   "id": "c1bfaf48-723a-4068-bc53-6e19f9bacf7e",
   "metadata": {},
   "source": [
    "## Basic testing"
   ]
  },
  {
   "cell_type": "code",
   "execution_count": 1,
   "id": "def5503e-d9b4-4203-a31a-221145fe7e1b",
   "metadata": {},
   "outputs": [
    {
     "data": {
      "text/plain": [
       "4"
      ]
     },
     "execution_count": 1,
     "metadata": {},
     "output_type": "execute_result"
    }
   ],
   "source": [
    "2 + 2"
   ]
  },
  {
   "cell_type": "markdown",
   "id": "4cd7396a-c4fb-471b-8e89-c6a81a463a28",
   "metadata": {},
   "source": [
    "## Installing packages"
   ]
  },
  {
   "cell_type": "markdown",
   "id": "d701f4d8-e4cb-4e0c-9d43-3ebd86579a9b",
   "metadata": {},
   "source": [
    "In Jupyter you can use `!` to execute commands on the command line, through a cell:"
   ]
  },
  {
   "cell_type": "code",
   "execution_count": null,
   "id": "f0acd5ab-27dd-49cb-8433-c51918527b70",
   "metadata": {},
   "outputs": [],
   "source": [
    "!pip install pandas"
   ]
  },
  {
   "cell_type": "markdown",
   "id": "91f6eb29-95ac-487d-9c81-9cf1eebe9853",
   "metadata": {},
   "source": [
    "## Loading packages"
   ]
  },
  {
   "cell_type": "code",
   "execution_count": 2,
   "id": "6db4058a-3e43-4f90-aff0-15930844721f",
   "metadata": {},
   "outputs": [],
   "source": [
    "import pandas as pd"
   ]
  },
  {
   "cell_type": "markdown",
   "id": "b6e74637-5382-4d91-851d-c9a8d9ef9536",
   "metadata": {},
   "source": [
    "Note the alias!"
   ]
  },
  {
   "cell_type": "markdown",
   "id": "42932cd0-006b-4a92-abf8-0c9589e5cccc",
   "metadata": {},
   "source": [
    "Using one function only:"
   ]
  },
  {
   "cell_type": "code",
   "execution_count": 3,
   "id": "03302bc6-0937-47d1-893c-b3912ce6f2c3",
   "metadata": {},
   "outputs": [],
   "source": [
    "from sklearn.model_selection import train_test_split"
   ]
  },
  {
   "cell_type": "markdown",
   "id": "7864ff5e-4534-4365-9dc9-e2732888c604",
   "metadata": {},
   "source": [
    "## Assignment and operators"
   ]
  },
  {
   "cell_type": "code",
   "execution_count": 4,
   "id": "397a64a1-5c65-433b-8710-f6f57b1cbf09",
   "metadata": {},
   "outputs": [],
   "source": [
    "name = \"Anna\"\n",
    "age = 42\n",
    "height = 177.2\n",
    "female = True"
   ]
  },
  {
   "cell_type": "code",
   "execution_count": 5,
   "id": "4ab99d28-3f68-4db0-8cac-b5b7cada9a4e",
   "metadata": {},
   "outputs": [
    {
     "name": "stdout",
     "output_type": "stream",
     "text": [
      "Anna\n"
     ]
    }
   ],
   "source": [
    "print(name)"
   ]
  },
  {
   "cell_type": "code",
   "execution_count": 6,
   "id": "b40621cf-f653-4f42-83d4-61a91a440839",
   "metadata": {},
   "outputs": [
    {
     "data": {
      "text/plain": [
       "45"
      ]
     },
     "execution_count": 6,
     "metadata": {},
     "output_type": "execute_result"
    }
   ],
   "source": [
    "age + 3"
   ]
  },
  {
   "cell_type": "markdown",
   "id": "d2e82cd8-03b2-4513-b55c-ebe96a7f3ee8",
   "metadata": {},
   "source": [
    "## Types"
   ]
  },
  {
   "cell_type": "code",
   "execution_count": 7,
   "id": "435bd827-5226-46d0-bb29-bd89d1575180",
   "metadata": {},
   "outputs": [
    {
     "data": {
      "text/plain": [
       "str"
      ]
     },
     "execution_count": 7,
     "metadata": {},
     "output_type": "execute_result"
    }
   ],
   "source": [
    "type(name)"
   ]
  },
  {
   "cell_type": "code",
   "execution_count": 8,
   "id": "f94adf27-b58b-4fa5-89f9-79abdacf6051",
   "metadata": {},
   "outputs": [
    {
     "data": {
      "text/plain": [
       "int"
      ]
     },
     "execution_count": 8,
     "metadata": {},
     "output_type": "execute_result"
    }
   ],
   "source": [
    "type(age)"
   ]
  },
  {
   "cell_type": "code",
   "execution_count": 9,
   "id": "9fe65619-8956-40f6-aba2-3d04c81b3a86",
   "metadata": {},
   "outputs": [
    {
     "data": {
      "text/plain": [
       "float"
      ]
     },
     "execution_count": 9,
     "metadata": {},
     "output_type": "execute_result"
    }
   ],
   "source": [
    "type(height)"
   ]
  },
  {
   "cell_type": "code",
   "execution_count": 10,
   "id": "ee70916a-a722-4032-844c-0d80836aeab4",
   "metadata": {},
   "outputs": [
    {
     "data": {
      "text/plain": [
       "bool"
      ]
     },
     "execution_count": 10,
     "metadata": {},
     "output_type": "execute_result"
    }
   ],
   "source": [
    "type(female)"
   ]
  },
  {
   "cell_type": "markdown",
   "id": "94afd510-dec8-4230-9a79-25de92a13cbc",
   "metadata": {},
   "source": [
    "## Functions and methods"
   ]
  },
  {
   "cell_type": "code",
   "execution_count": 11,
   "id": "8936dbfc-f483-4aad-98ee-f8bf4379930d",
   "metadata": {},
   "outputs": [],
   "source": [
    "def sum_two(a, b):\n",
    "    return(a + b)"
   ]
  },
  {
   "cell_type": "code",
   "execution_count": 12,
   "id": "855b2b15-2ad2-4e77-9b96-85fd634bec3e",
   "metadata": {},
   "outputs": [
    {
     "data": {
      "text/plain": [
       "5"
      ]
     },
     "execution_count": 12,
     "metadata": {},
     "output_type": "execute_result"
    }
   ],
   "source": [
    "sum_two(2, 3)"
   ]
  },
  {
   "cell_type": "markdown",
   "id": "c98bc18c-fabe-4080-bfa6-d4081b1e4cb8",
   "metadata": {},
   "source": [
    "## Logical expressions"
   ]
  },
  {
   "cell_type": "code",
   "execution_count": 13,
   "id": "9b2220e3-899d-4389-9794-13756b281d17",
   "metadata": {},
   "outputs": [
    {
     "data": {
      "text/plain": [
       "True"
      ]
     },
     "execution_count": 13,
     "metadata": {},
     "output_type": "execute_result"
    }
   ],
   "source": [
    "2 > 1"
   ]
  },
  {
   "cell_type": "code",
   "execution_count": 14,
   "id": "2febd0fa-5917-4a00-a87d-ab38040f9304",
   "metadata": {},
   "outputs": [
    {
     "data": {
      "text/plain": [
       "False"
      ]
     },
     "execution_count": 14,
     "metadata": {},
     "output_type": "execute_result"
    }
   ],
   "source": [
    "2 > 3"
   ]
  },
  {
   "cell_type": "code",
   "execution_count": 15,
   "id": "fda2c707-53ca-482a-8395-f5f54c227a7a",
   "metadata": {},
   "outputs": [
    {
     "data": {
      "text/plain": [
       "True"
      ]
     },
     "execution_count": 15,
     "metadata": {},
     "output_type": "execute_result"
    }
   ],
   "source": [
    "3 >= 3"
   ]
  },
  {
   "cell_type": "code",
   "execution_count": 16,
   "id": "3eca6583-7fce-4b27-859d-9bfbc438e1ae",
   "metadata": {},
   "outputs": [
    {
     "data": {
      "text/plain": [
       "True"
      ]
     },
     "execution_count": 16,
     "metadata": {},
     "output_type": "execute_result"
    }
   ],
   "source": [
    "(2 > 1) & (4 > 3)"
   ]
  },
  {
   "cell_type": "code",
   "execution_count": 17,
   "id": "38dfa442-d8ae-47d2-a712-209a859cd23f",
   "metadata": {},
   "outputs": [
    {
     "data": {
      "text/plain": [
       "False"
      ]
     },
     "execution_count": 17,
     "metadata": {},
     "output_type": "execute_result"
    }
   ],
   "source": [
    "(2 > 1) & (4 > 5)"
   ]
  },
  {
   "cell_type": "code",
   "execution_count": 18,
   "id": "9b924e5f-2c47-4bdb-8f61-5c45bbda0dec",
   "metadata": {},
   "outputs": [
    {
     "data": {
      "text/plain": [
       "True"
      ]
     },
     "execution_count": 18,
     "metadata": {},
     "output_type": "execute_result"
    }
   ],
   "source": [
    "(2 > 1) | (4 > 3)"
   ]
  },
  {
   "cell_type": "code",
   "execution_count": 19,
   "id": "33028c3e-83f0-46d2-8809-c8483fb58664",
   "metadata": {},
   "outputs": [
    {
     "data": {
      "text/plain": [
       "False"
      ]
     },
     "execution_count": 19,
     "metadata": {},
     "output_type": "execute_result"
    }
   ],
   "source": [
    "\"Anna\" == \"James\""
   ]
  },
  {
   "cell_type": "code",
   "execution_count": 20,
   "id": "44c5f920-2688-4223-b426-4e0a2a264000",
   "metadata": {},
   "outputs": [
    {
     "data": {
      "text/plain": [
       "True"
      ]
     },
     "execution_count": 20,
     "metadata": {},
     "output_type": "execute_result"
    }
   ],
   "source": [
    "\"Anna\" == \"Anna\""
   ]
  },
  {
   "cell_type": "markdown",
   "id": "ea7910f2-d39a-47c8-9e97-d32f8c57cae4",
   "metadata": {},
   "source": [
    "## Lists, vectorization and indexing"
   ]
  },
  {
   "cell_type": "code",
   "execution_count": 21,
   "id": "85d60e71-cd55-4fe1-8e8f-9e660d733cef",
   "metadata": {},
   "outputs": [],
   "source": [
    "heights = [155, 174, 182, 198]\n",
    "weights = [77, 65, 89, 95]"
   ]
  },
  {
   "cell_type": "code",
   "execution_count": 22,
   "id": "bd24b1f7-3434-40e5-900d-337bf987cce8",
   "metadata": {},
   "outputs": [
    {
     "data": {
      "text/plain": [
       "list"
      ]
     },
     "execution_count": 22,
     "metadata": {},
     "output_type": "execute_result"
    }
   ],
   "source": [
    "type(heights)"
   ]
  },
  {
   "cell_type": "code",
   "execution_count": 23,
   "id": "f6d27218-0ae3-4f5c-b96e-59d7639e1513",
   "metadata": {
    "tags": []
   },
   "outputs": [
    {
     "ename": "TypeError",
     "evalue": "can only concatenate list (not \"int\") to list",
     "output_type": "error",
     "traceback": [
      "\u001b[0;31m---------------------------------------------------------------------------\u001b[0m",
      "\u001b[0;31mTypeError\u001b[0m                                 Traceback (most recent call last)",
      "Input \u001b[0;32mIn [23]\u001b[0m, in \u001b[0;36m<cell line: 1>\u001b[0;34m()\u001b[0m\n\u001b[0;32m----> 1\u001b[0m \u001b[43mheights\u001b[49m\u001b[43m \u001b[49m\u001b[38;5;241;43m+\u001b[39;49m\u001b[43m \u001b[49m\u001b[38;5;241;43m1\u001b[39;49m\n",
      "\u001b[0;31mTypeError\u001b[0m: can only concatenate list (not \"int\") to list"
     ]
    }
   ],
   "source": [
    "heights + 1"
   ]
  },
  {
   "cell_type": "code",
   "execution_count": 24,
   "id": "8d634b6d-50ef-481d-8c33-22ba4793a2fc",
   "metadata": {},
   "outputs": [
    {
     "data": {
      "text/plain": [
       "77"
      ]
     },
     "execution_count": 24,
     "metadata": {},
     "output_type": "execute_result"
    }
   ],
   "source": [
    "weights[0]"
   ]
  },
  {
   "cell_type": "code",
   "execution_count": 25,
   "id": "0bd1e63e-dbcc-4a0c-876c-18f62278921f",
   "metadata": {},
   "outputs": [
    {
     "data": {
      "text/plain": [
       "[77, 65, 89]"
      ]
     },
     "execution_count": 25,
     "metadata": {},
     "output_type": "execute_result"
    }
   ],
   "source": [
    "weights[0:3]"
   ]
  },
  {
   "cell_type": "code",
   "execution_count": 26,
   "id": "0fd1831e-dc94-42d5-96e1-24dc5f3c1291",
   "metadata": {},
   "outputs": [
    {
     "data": {
      "text/plain": [
       "95"
      ]
     },
     "execution_count": 26,
     "metadata": {},
     "output_type": "execute_result"
    }
   ],
   "source": [
    "weights[-1]"
   ]
  },
  {
   "cell_type": "code",
   "execution_count": 27,
   "id": "c669542a-93a4-498d-8546-fb255c388c89",
   "metadata": {},
   "outputs": [],
   "source": [
    "import numpy as np"
   ]
  },
  {
   "cell_type": "code",
   "execution_count": 28,
   "id": "8af4e849-e084-4077-b47b-1a5fee166869",
   "metadata": {},
   "outputs": [],
   "source": [
    "heights_np = np.array(heights)\n",
    "weights_np = np.array(weights)"
   ]
  },
  {
   "cell_type": "code",
   "execution_count": 29,
   "id": "054fa5db-25c4-416c-9a74-37ece33b71a4",
   "metadata": {},
   "outputs": [
    {
     "data": {
      "text/plain": [
       "numpy.ndarray"
      ]
     },
     "execution_count": 29,
     "metadata": {},
     "output_type": "execute_result"
    }
   ],
   "source": [
    "type(heights_np)"
   ]
  },
  {
   "cell_type": "code",
   "execution_count": 30,
   "id": "1b56c0a5-6978-4870-ac90-dcba0cd485b8",
   "metadata": {},
   "outputs": [
    {
     "data": {
      "text/plain": [
       "array([156, 175, 183, 199])"
      ]
     },
     "execution_count": 30,
     "metadata": {},
     "output_type": "execute_result"
    }
   ],
   "source": [
    "heights_np + 1"
   ]
  },
  {
   "cell_type": "code",
   "execution_count": 31,
   "id": "b5371e9d-f0bc-4700-ba90-8f51d008335a",
   "metadata": {},
   "outputs": [
    {
     "data": {
      "text/plain": [
       "array([2.01298701, 2.67692308, 2.04494382, 2.08421053])"
      ]
     },
     "execution_count": 31,
     "metadata": {},
     "output_type": "execute_result"
    }
   ],
   "source": [
    "bmi = heights_np / weights_np\n",
    "bmi"
   ]
  },
  {
   "cell_type": "markdown",
   "id": "e737d5d9-5958-4f2d-b294-c3d340cf8532",
   "metadata": {},
   "source": [
    "## Loops"
   ]
  },
  {
   "cell_type": "code",
   "execution_count": 32,
   "id": "3bbbfaa6-7a45-4e02-a826-b82f4337697d",
   "metadata": {},
   "outputs": [
    {
     "name": "stdout",
     "output_type": "stream",
     "text": [
      "156\n",
      "175\n",
      "183\n",
      "199\n"
     ]
    }
   ],
   "source": [
    "for height in heights:\n",
    "    print(height + 1)"
   ]
  },
  {
   "cell_type": "markdown",
   "id": "c85788d2-71a4-48a6-88ca-69ca741e830e",
   "metadata": {},
   "source": [
    "This is called list comprehension. Very Pythonic and commonly used in anonymous functions."
   ]
  },
  {
   "cell_type": "code",
   "execution_count": 33,
   "id": "4a6775a7-6155-4421-9218-63deab93ed97",
   "metadata": {},
   "outputs": [
    {
     "data": {
      "text/plain": [
       "[156, 175, 183, 199]"
      ]
     },
     "execution_count": 33,
     "metadata": {},
     "output_type": "execute_result"
    }
   ],
   "source": [
    "[x + 1 for x in heights]"
   ]
  },
  {
   "cell_type": "code",
   "execution_count": 34,
   "id": "16ae9f9b-0bd1-41f1-9cf0-91bc9380e5ba",
   "metadata": {},
   "outputs": [
    {
     "name": "stdout",
     "output_type": "stream",
     "text": [
      "155\n",
      "174\n",
      "182\n",
      "198\n"
     ]
    }
   ],
   "source": [
    "for i in range(0, len(heights)):\n",
    "    print(heights[i])"
   ]
  },
  {
   "cell_type": "markdown",
   "id": "5372dc9d-dd5b-41d2-b2b1-a99fec241cba",
   "metadata": {},
   "source": [
    "## Dataframes"
   ]
  },
  {
   "cell_type": "code",
   "execution_count": 35,
   "id": "ccb9e48f-01a5-4647-855d-74a1a845644c",
   "metadata": {},
   "outputs": [],
   "source": [
    "import pandas as pd"
   ]
  },
  {
   "cell_type": "code",
   "execution_count": 37,
   "id": "ebd32f2f-9129-41bd-813d-f2106b013639",
   "metadata": {},
   "outputs": [],
   "source": [
    "starwars = pd.read_csv(\"../datasets/starwars.csv\")"
   ]
  },
  {
   "cell_type": "code",
   "execution_count": 38,
   "id": "b7339b49-7fce-41f4-9441-68e7db94e382",
   "metadata": {},
   "outputs": [
    {
     "data": {
      "text/html": [
       "<div>\n",
       "<style scoped>\n",
       "    .dataframe tbody tr th:only-of-type {\n",
       "        vertical-align: middle;\n",
       "    }\n",
       "\n",
       "    .dataframe tbody tr th {\n",
       "        vertical-align: top;\n",
       "    }\n",
       "\n",
       "    .dataframe thead th {\n",
       "        text-align: right;\n",
       "    }\n",
       "</style>\n",
       "<table border=\"1\" class=\"dataframe\">\n",
       "  <thead>\n",
       "    <tr style=\"text-align: right;\">\n",
       "      <th></th>\n",
       "      <th>name</th>\n",
       "      <th>height</th>\n",
       "      <th>mass</th>\n",
       "      <th>hair_color</th>\n",
       "      <th>skin_color</th>\n",
       "      <th>eye_color</th>\n",
       "      <th>birth_year</th>\n",
       "      <th>sex</th>\n",
       "      <th>gender</th>\n",
       "      <th>homeworld</th>\n",
       "      <th>species</th>\n",
       "      <th>films</th>\n",
       "      <th>vehicles</th>\n",
       "      <th>starships</th>\n",
       "    </tr>\n",
       "  </thead>\n",
       "  <tbody>\n",
       "    <tr>\n",
       "      <th>0</th>\n",
       "      <td>Luke Skywalker</td>\n",
       "      <td>172.0</td>\n",
       "      <td>77.0</td>\n",
       "      <td>blond</td>\n",
       "      <td>fair</td>\n",
       "      <td>blue</td>\n",
       "      <td>19.0</td>\n",
       "      <td>male</td>\n",
       "      <td>masculine</td>\n",
       "      <td>Tatooine</td>\n",
       "      <td>Human</td>\n",
       "      <td>NaN</td>\n",
       "      <td>NaN</td>\n",
       "      <td>NaN</td>\n",
       "    </tr>\n",
       "    <tr>\n",
       "      <th>1</th>\n",
       "      <td>C-3PO</td>\n",
       "      <td>167.0</td>\n",
       "      <td>75.0</td>\n",
       "      <td>NaN</td>\n",
       "      <td>gold</td>\n",
       "      <td>yellow</td>\n",
       "      <td>112.0</td>\n",
       "      <td>none</td>\n",
       "      <td>masculine</td>\n",
       "      <td>Tatooine</td>\n",
       "      <td>Droid</td>\n",
       "      <td>NaN</td>\n",
       "      <td>NaN</td>\n",
       "      <td>NaN</td>\n",
       "    </tr>\n",
       "    <tr>\n",
       "      <th>2</th>\n",
       "      <td>R2-D2</td>\n",
       "      <td>96.0</td>\n",
       "      <td>32.0</td>\n",
       "      <td>NaN</td>\n",
       "      <td>white, blue</td>\n",
       "      <td>red</td>\n",
       "      <td>33.0</td>\n",
       "      <td>none</td>\n",
       "      <td>masculine</td>\n",
       "      <td>Naboo</td>\n",
       "      <td>Droid</td>\n",
       "      <td>NaN</td>\n",
       "      <td>NaN</td>\n",
       "      <td>NaN</td>\n",
       "    </tr>\n",
       "    <tr>\n",
       "      <th>3</th>\n",
       "      <td>Darth Vader</td>\n",
       "      <td>202.0</td>\n",
       "      <td>136.0</td>\n",
       "      <td>none</td>\n",
       "      <td>white</td>\n",
       "      <td>yellow</td>\n",
       "      <td>41.9</td>\n",
       "      <td>male</td>\n",
       "      <td>masculine</td>\n",
       "      <td>Tatooine</td>\n",
       "      <td>Human</td>\n",
       "      <td>NaN</td>\n",
       "      <td>NaN</td>\n",
       "      <td>NaN</td>\n",
       "    </tr>\n",
       "    <tr>\n",
       "      <th>4</th>\n",
       "      <td>Leia Organa</td>\n",
       "      <td>150.0</td>\n",
       "      <td>49.0</td>\n",
       "      <td>brown</td>\n",
       "      <td>light</td>\n",
       "      <td>brown</td>\n",
       "      <td>19.0</td>\n",
       "      <td>female</td>\n",
       "      <td>feminine</td>\n",
       "      <td>Alderaan</td>\n",
       "      <td>Human</td>\n",
       "      <td>NaN</td>\n",
       "      <td>NaN</td>\n",
       "      <td>NaN</td>\n",
       "    </tr>\n",
       "    <tr>\n",
       "      <th>...</th>\n",
       "      <td>...</td>\n",
       "      <td>...</td>\n",
       "      <td>...</td>\n",
       "      <td>...</td>\n",
       "      <td>...</td>\n",
       "      <td>...</td>\n",
       "      <td>...</td>\n",
       "      <td>...</td>\n",
       "      <td>...</td>\n",
       "      <td>...</td>\n",
       "      <td>...</td>\n",
       "      <td>...</td>\n",
       "      <td>...</td>\n",
       "      <td>...</td>\n",
       "    </tr>\n",
       "    <tr>\n",
       "      <th>82</th>\n",
       "      <td>Rey</td>\n",
       "      <td>NaN</td>\n",
       "      <td>NaN</td>\n",
       "      <td>brown</td>\n",
       "      <td>light</td>\n",
       "      <td>hazel</td>\n",
       "      <td>NaN</td>\n",
       "      <td>female</td>\n",
       "      <td>feminine</td>\n",
       "      <td>NaN</td>\n",
       "      <td>Human</td>\n",
       "      <td>NaN</td>\n",
       "      <td>NaN</td>\n",
       "      <td>NaN</td>\n",
       "    </tr>\n",
       "    <tr>\n",
       "      <th>83</th>\n",
       "      <td>Poe Dameron</td>\n",
       "      <td>NaN</td>\n",
       "      <td>NaN</td>\n",
       "      <td>brown</td>\n",
       "      <td>light</td>\n",
       "      <td>brown</td>\n",
       "      <td>NaN</td>\n",
       "      <td>male</td>\n",
       "      <td>masculine</td>\n",
       "      <td>NaN</td>\n",
       "      <td>Human</td>\n",
       "      <td>NaN</td>\n",
       "      <td>NaN</td>\n",
       "      <td>NaN</td>\n",
       "    </tr>\n",
       "    <tr>\n",
       "      <th>84</th>\n",
       "      <td>BB8</td>\n",
       "      <td>NaN</td>\n",
       "      <td>NaN</td>\n",
       "      <td>none</td>\n",
       "      <td>none</td>\n",
       "      <td>black</td>\n",
       "      <td>NaN</td>\n",
       "      <td>none</td>\n",
       "      <td>masculine</td>\n",
       "      <td>NaN</td>\n",
       "      <td>Droid</td>\n",
       "      <td>NaN</td>\n",
       "      <td>NaN</td>\n",
       "      <td>NaN</td>\n",
       "    </tr>\n",
       "    <tr>\n",
       "      <th>85</th>\n",
       "      <td>Captain Phasma</td>\n",
       "      <td>NaN</td>\n",
       "      <td>NaN</td>\n",
       "      <td>unknown</td>\n",
       "      <td>unknown</td>\n",
       "      <td>unknown</td>\n",
       "      <td>NaN</td>\n",
       "      <td>NaN</td>\n",
       "      <td>NaN</td>\n",
       "      <td>NaN</td>\n",
       "      <td>NaN</td>\n",
       "      <td>NaN</td>\n",
       "      <td>NaN</td>\n",
       "      <td>NaN</td>\n",
       "    </tr>\n",
       "    <tr>\n",
       "      <th>86</th>\n",
       "      <td>Padmé Amidala</td>\n",
       "      <td>165.0</td>\n",
       "      <td>45.0</td>\n",
       "      <td>brown</td>\n",
       "      <td>light</td>\n",
       "      <td>brown</td>\n",
       "      <td>46.0</td>\n",
       "      <td>female</td>\n",
       "      <td>feminine</td>\n",
       "      <td>Naboo</td>\n",
       "      <td>Human</td>\n",
       "      <td>NaN</td>\n",
       "      <td>NaN</td>\n",
       "      <td>NaN</td>\n",
       "    </tr>\n",
       "  </tbody>\n",
       "</table>\n",
       "<p>87 rows × 14 columns</p>\n",
       "</div>"
      ],
      "text/plain": [
       "              name  height   mass hair_color   skin_color eye_color  \\\n",
       "0   Luke Skywalker   172.0   77.0      blond         fair      blue   \n",
       "1            C-3PO   167.0   75.0        NaN         gold    yellow   \n",
       "2            R2-D2    96.0   32.0        NaN  white, blue       red   \n",
       "3      Darth Vader   202.0  136.0       none        white    yellow   \n",
       "4      Leia Organa   150.0   49.0      brown        light     brown   \n",
       "..             ...     ...    ...        ...          ...       ...   \n",
       "82             Rey     NaN    NaN      brown        light     hazel   \n",
       "83     Poe Dameron     NaN    NaN      brown        light     brown   \n",
       "84             BB8     NaN    NaN       none         none     black   \n",
       "85  Captain Phasma     NaN    NaN    unknown      unknown   unknown   \n",
       "86   Padmé Amidala   165.0   45.0      brown        light     brown   \n",
       "\n",
       "    birth_year     sex     gender homeworld species  films  vehicles  \\\n",
       "0         19.0    male  masculine  Tatooine   Human    NaN       NaN   \n",
       "1        112.0    none  masculine  Tatooine   Droid    NaN       NaN   \n",
       "2         33.0    none  masculine     Naboo   Droid    NaN       NaN   \n",
       "3         41.9    male  masculine  Tatooine   Human    NaN       NaN   \n",
       "4         19.0  female   feminine  Alderaan   Human    NaN       NaN   \n",
       "..         ...     ...        ...       ...     ...    ...       ...   \n",
       "82         NaN  female   feminine       NaN   Human    NaN       NaN   \n",
       "83         NaN    male  masculine       NaN   Human    NaN       NaN   \n",
       "84         NaN    none  masculine       NaN   Droid    NaN       NaN   \n",
       "85         NaN     NaN        NaN       NaN     NaN    NaN       NaN   \n",
       "86        46.0  female   feminine     Naboo   Human    NaN       NaN   \n",
       "\n",
       "    starships  \n",
       "0         NaN  \n",
       "1         NaN  \n",
       "2         NaN  \n",
       "3         NaN  \n",
       "4         NaN  \n",
       "..        ...  \n",
       "82        NaN  \n",
       "83        NaN  \n",
       "84        NaN  \n",
       "85        NaN  \n",
       "86        NaN  \n",
       "\n",
       "[87 rows x 14 columns]"
      ]
     },
     "execution_count": 38,
     "metadata": {},
     "output_type": "execute_result"
    }
   ],
   "source": [
    "starwars"
   ]
  },
  {
   "cell_type": "code",
   "execution_count": 39,
   "id": "6c0570c6-aa8a-4d35-bbdc-cff6cf30fbae",
   "metadata": {},
   "outputs": [
    {
     "data": {
      "text/plain": [
       "pandas.core.frame.DataFrame"
      ]
     },
     "execution_count": 39,
     "metadata": {},
     "output_type": "execute_result"
    }
   ],
   "source": [
    "type(starwars)"
   ]
  },
  {
   "cell_type": "code",
   "execution_count": 40,
   "id": "96d3d7be-3081-4ae5-89ed-34f7b7ba37aa",
   "metadata": {},
   "outputs": [
    {
     "data": {
      "text/plain": [
       "0     Luke Skywalker\n",
       "1              C-3PO\n",
       "2              R2-D2\n",
       "3        Darth Vader\n",
       "4        Leia Organa\n",
       "           ...      \n",
       "82               Rey\n",
       "83       Poe Dameron\n",
       "84               BB8\n",
       "85    Captain Phasma\n",
       "86     Padmé Amidala\n",
       "Name: name, Length: 87, dtype: object"
      ]
     },
     "execution_count": 40,
     "metadata": {},
     "output_type": "execute_result"
    }
   ],
   "source": [
    "starwars[\"name\"]"
   ]
  },
  {
   "cell_type": "code",
   "execution_count": 41,
   "id": "287bb1c4-45c0-4fc0-8a55-eaf97d0f2af8",
   "metadata": {},
   "outputs": [
    {
     "data": {
      "text/plain": [
       "['Luke Skywalker', 'C-3PO', 'R2-D2', 'Darth Vader', 'Leia Organa']"
      ]
     },
     "execution_count": 41,
     "metadata": {},
     "output_type": "execute_result"
    }
   ],
   "source": [
    "starwars[\"name\"].tolist()[0:5]"
   ]
  },
  {
   "cell_type": "code",
   "execution_count": 42,
   "id": "bfb96b45-4dfc-4fd4-81d0-f1e1e9ebb590",
   "metadata": {},
   "outputs": [
    {
     "data": {
      "text/plain": [
       "['Luke Skywalker', 'C-3PO', 'R2-D2', 'Darth Vader', 'Leia Organa']"
      ]
     },
     "execution_count": 42,
     "metadata": {},
     "output_type": "execute_result"
    }
   ],
   "source": [
    "starwars[\"name\"].head().tolist()"
   ]
  },
  {
   "cell_type": "code",
   "execution_count": 43,
   "id": "0b5a8cc8-1e09-480e-a5ae-19238057125b",
   "metadata": {},
   "outputs": [
    {
     "data": {
      "text/html": [
       "<div>\n",
       "<style scoped>\n",
       "    .dataframe tbody tr th:only-of-type {\n",
       "        vertical-align: middle;\n",
       "    }\n",
       "\n",
       "    .dataframe tbody tr th {\n",
       "        vertical-align: top;\n",
       "    }\n",
       "\n",
       "    .dataframe thead th {\n",
       "        text-align: right;\n",
       "    }\n",
       "</style>\n",
       "<table border=\"1\" class=\"dataframe\">\n",
       "  <thead>\n",
       "    <tr style=\"text-align: right;\">\n",
       "      <th></th>\n",
       "      <th>name</th>\n",
       "      <th>sex</th>\n",
       "    </tr>\n",
       "  </thead>\n",
       "  <tbody>\n",
       "    <tr>\n",
       "      <th>0</th>\n",
       "      <td>Luke Skywalker</td>\n",
       "      <td>male</td>\n",
       "    </tr>\n",
       "    <tr>\n",
       "      <th>1</th>\n",
       "      <td>C-3PO</td>\n",
       "      <td>none</td>\n",
       "    </tr>\n",
       "    <tr>\n",
       "      <th>2</th>\n",
       "      <td>R2-D2</td>\n",
       "      <td>none</td>\n",
       "    </tr>\n",
       "    <tr>\n",
       "      <th>3</th>\n",
       "      <td>Darth Vader</td>\n",
       "      <td>male</td>\n",
       "    </tr>\n",
       "    <tr>\n",
       "      <th>4</th>\n",
       "      <td>Leia Organa</td>\n",
       "      <td>female</td>\n",
       "    </tr>\n",
       "  </tbody>\n",
       "</table>\n",
       "</div>"
      ],
      "text/plain": [
       "             name     sex\n",
       "0  Luke Skywalker    male\n",
       "1           C-3PO    none\n",
       "2           R2-D2    none\n",
       "3     Darth Vader    male\n",
       "4     Leia Organa  female"
      ]
     },
     "execution_count": 43,
     "metadata": {},
     "output_type": "execute_result"
    }
   ],
   "source": [
    "starwars[[\"name\", \"sex\"]].head()"
   ]
  }
 ],
 "metadata": {
  "kernelspec": {
   "display_name": "Python 3 (ipykernel)",
   "language": "python",
   "name": "python3"
  },
  "language_info": {
   "codemirror_mode": {
    "name": "ipython",
    "version": 3
   },
   "file_extension": ".py",
   "mimetype": "text/x-python",
   "name": "python",
   "nbconvert_exporter": "python",
   "pygments_lexer": "ipython3",
   "version": "3.9.10"
  }
 },
 "nbformat": 4,
 "nbformat_minor": 5
}
